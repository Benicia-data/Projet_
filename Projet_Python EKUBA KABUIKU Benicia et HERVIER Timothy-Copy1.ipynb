{
 "cells": [
  {
   "cell_type": "code",
   "execution_count": 341,
   "metadata": {},
   "outputs": [],
   "source": [
    "from requests import get"
   ]
  },
  {
   "cell_type": "code",
   "execution_count": 342,
   "metadata": {},
   "outputs": [],
   "source": [
    "import pandas as pd\n",
    "import bs4\n",
    "import re\n",
    "import numpy as np"
   ]
  },
  {
   "cell_type": "code",
   "execution_count": 345,
   "metadata": {},
   "outputs": [],
   "source": [
    "%matplotlib inline"
   ]
  },
  {
   "cell_type": "code",
   "execution_count": 346,
   "metadata": {},
   "outputs": [],
   "source": [
    "import matplotlib as plt"
   ]
  },
  {
   "cell_type": "markdown",
   "metadata": {},
   "source": [
    "### On commence par récupérer les résultats du top 5 Ligue 1 "
   ]
  },
  {
   "cell_type": "code",
   "execution_count": 347,
   "metadata": {},
   "outputs": [],
   "source": [
    "chemin_PSG = \"https://www.lequipe.fr/Football/FootballFicheEquipe26.html\"\n",
    "chemin_Lyon = \"https://www.lequipe.fr/Football/FootballFicheEquipe22.html\"\n",
    "chemin_Marseille = \"https://www.lequipe.fr/Football/FootballFicheEquipe6.html\"\n",
    "chemin_Monaco = \"https://www.lequipe.fr/Football/FootballFicheEquipe25.html\"\n",
    "chemin_StEtienne = \"https://www.lequipe.fr/Football/FootballFicheEquipe38.html\""
   ]
  },
  {
   "cell_type": "code",
   "execution_count": 348,
   "metadata": {},
   "outputs": [
    {
     "name": "stdout",
     "output_type": "stream",
     "text": [
      "Tout s'est bien passé\n",
      "Tout s'est bien passé\n",
      "Tout s'est bien passé\n",
      "Tout s'est bien passé\n",
      "Tout s'est bien passé\n"
     ]
    }
   ],
   "source": [
    "page_PSG = get(chemin_PSG)\n",
    "page_OL = get(chemin_Lyon)\n",
    "page_OM = get(chemin_Marseille)\n",
    "page_ASM = get(chemin_Monaco)\n",
    "page_STE = get(chemin_StEtienne)\n",
    "\n",
    "if page_PSG.status_code == 200:\n",
    "    print(\"Tout s'est bien passé\")\n",
    "else:\n",
    "    print(\"Problème de récupération\")\n",
    "\n",
    "if page_OL.status_code == 200:\n",
    "    print(\"Tout s'est bien passé\")\n",
    "else:\n",
    "    print(\"Problème de récupération\")\n",
    "    \n",
    "if page_OM.status_code == 200:\n",
    "    print(\"Tout s'est bien passé\")\n",
    "else:\n",
    "    print(\"Problème de récupération\")\n",
    "    \n",
    "if page_ASM.status_code == 200:\n",
    "    print(\"Tout s'est bien passé\")\n",
    "else:\n",
    "    print(\"Problème de récupération\")\n",
    "\n",
    "if page_STE.status_code == 200:\n",
    "    print(\"Tout s'est bien passé\")\n",
    "else:\n",
    "    print(\"Problème de récupération\")"
   ]
  },
  {
   "cell_type": "code",
   "execution_count": 349,
   "metadata": {},
   "outputs": [],
   "source": [
    "texte_PSG = page_PSG.text\n",
    "texte_OL = page_OL.text\n",
    "texte_OM = page_OM.text\n",
    "texte_ASM = page_ASM.text\n",
    "texte_STE = page_STE.text"
   ]
  },
  {
   "cell_type": "code",
   "execution_count": 350,
   "metadata": {},
   "outputs": [],
   "source": [
    "arbre_PSG = bs4.BeautifulSoup(texte_PSG, \"lxml\")\n",
    "arbre_OL = bs4.BeautifulSoup(texte_OL, \"lxml\")\n",
    "arbre_OM = bs4.BeautifulSoup(texte_OM, \"lxml\")\n",
    "arbre_ASM = bs4.BeautifulSoup(texte_ASM, \"lxml\")\n",
    "arbre_STE = bs4.BeautifulSoup(texte_STE, \"lxml\")"
   ]
  },
  {
   "cell_type": "code",
   "execution_count": 351,
   "metadata": {},
   "outputs": [],
   "source": [
    "club_PSG = arbre_PSG.h1.text.replace(\"\\n\", \"\")\n",
    "club_OL = arbre_OL.h1.text.replace(\"\\n\", \"\")\n",
    "club_OM = arbre_OM.h1.text.replace(\"\\n\", \"\")\n",
    "club_ASM = arbre_ASM.h1.text.replace(\"\\n\", \"\")\n",
    "club_STE = arbre_STE.h1.text.replace(\"\\n\", \"\")"
   ]
  },
  {
   "cell_type": "code",
   "execution_count": 352,
   "metadata": {},
   "outputs": [
    {
     "name": "stdout",
     "output_type": "stream",
     "text": [
      "PARIS-SG (PSG)\n",
      "LYON (OL)\n",
      "MARSEILLE (OM)\n",
      "MONACO (ASM)\n",
      "SAINT-ETIENNE (ASSE)\n"
     ]
    }
   ],
   "source": [
    "print(club_PSG)\n",
    "print(club_OL)\n",
    "print(club_OM)\n",
    "print(club_ASM)\n",
    "print(club_STE)"
   ]
  },
  {
   "cell_type": "code",
   "execution_count": 353,
   "metadata": {},
   "outputs": [
    {
     "data": {
      "text/plain": [
       "'<section class=\"Palmares calendrierclub\"><h2 class=\"titre-barre category-expand\">Calendrier Saint-Etienne</h2><section class=\"data-content category-expand-list\"> <!-- content --><table><tr><td class=\"titre-ss-barre\" colspan=\"5\">Résultats 2019-2020</td></tr> <tr class=\"alternate1\"> <td class=\"date\">9/07/19</td> <td class=\"competition\"><strong>MA</strong> <br/><strong>Matches amicaux L1</strong> <br/>Matches amicaux</td><td class=\"equipe equipe1\"><a href=\"/Football/FootballFicheClub309.html#POUSSE\">          Andrézieux</a><a></a></td><td class=\"score\"><a href=\"/Football/match-direct/matches-amicaux-l1-intersaison/2019-2020/andrezieux-saint-etienne-live/453564#POUSSE\"><strong><span style=\"color: #38B013\">1-2<span style=\"font-size:0.625rem;\"></span></span></strong></a></td><td class=\"equipe equipe2\"><a href=\"/Football/FootballFicheClub38.html#POUSSE\"> <strong>Saint-Étien.</strong> </a> </td> </tr> <tr class=\"alternate2\"> <td class=\"date\">13/07/19</td> <td class=\"competition\"><strong>MA</st'"
      ]
     },
     "execution_count": 353,
     "metadata": {},
     "output_type": "execute_result"
    }
   ],
   "source": [
    "div_fille_PSG = arbre_PSG.find(id=\"container\").find(class_=\"Palmares calendrierclub\")\n",
    "str(div_fille_PSG)[0:1000]\n",
    "div_fille_OL = arbre_OL.find(id=\"container\").find(class_=\"Palmares calendrierclub\")\n",
    "str(div_fille_OL)[0:1000]\n",
    "div_fille_OM = arbre_OM.find(id=\"container\").find(class_=\"Palmares calendrierclub\")\n",
    "str(div_fille_OM)[0:1000]\n",
    "div_fille_ASM = arbre_ASM.find(id=\"container\").find(class_=\"Palmares calendrierclub\")\n",
    "str(div_fille_ASM)[0:1000]\n",
    "div_fille_STE = arbre_STE.find(id=\"container\").find(class_=\"Palmares calendrierclub\")\n",
    "str(div_fille_STE)[0:1000]"
   ]
  },
  {
   "cell_type": "code",
   "execution_count": 354,
   "metadata": {},
   "outputs": [
    {
     "name": "stdout",
     "output_type": "stream",
     "text": [
      "34\n",
      "35\n",
      "30\n",
      "31\n",
      "36\n"
     ]
    }
   ],
   "source": [
    "liste = []\n",
    "liste.append(div_fille_PSG)\n",
    "liste.append(div_fille_OL)\n",
    "liste.append(div_fille_OM)\n",
    "liste.append(div_fille_ASM)\n",
    "liste.append(div_fille_STE)\n",
    "for car in liste:\n",
    "    all_ads = car.find(\"table\").findAll(\"tr\")\n",
    "    print(len(all_ads))"
   ]
  },
  {
   "cell_type": "code",
   "execution_count": 355,
   "metadata": {},
   "outputs": [],
   "source": [
    "list_all_ads_PSG = []\n",
    "for ads in all_ads_PSG:\n",
    "    date = ads.find_next(class_=\"date\")\n",
    "    competition = ads.find_next(class_=\"competition\")\n",
    "    equipe1 = ads.find_next(class_=\"equipe equipe1\")\n",
    "    score = ads.find_next(class_=\"score\")\n",
    "    equipe2 = ads.find_next(class_=\"equipe equipe2\")\n",
    "    list_all_ads_PSG = []\n",
    "for ads in all_ads_PSG:\n",
    "    date = ads.find_next(class_=\"date\")\n",
    "    competition = ads.find_next(class_=\"competition\")\n",
    "    equipe1 = ads.find_next(class_=\"equipe equipe1\")\n",
    "    score = ads.find_next(class_=\"score\", )\n",
    "    equipe2 = ads.find_next(class_=\"equipe equipe2\")\n",
    "    list_all_ads_PSG.append({\"mois\":pd.to_datetime(date.text).month,\n",
    "                         \"date\":pd.to_datetime(date.text),\n",
    "                         \"equipe1\":equipe1.text.replace(\" \",\"\") ,\n",
    "                         \"competition\":competition.text[0:2],\n",
    "                         \"score\":score.text,\n",
    "                         \"equipe2\":equipe2.text.replace(\" \",\"\"),\n",
    "                         \"equipe1_goal\":pd.to_numeric(score.text[0]),\n",
    "                         \"equipe2_goal\":pd.to_numeric(score.text[2]),\n",
    "                         \"equipe_REF\" : club_PSG,\n",
    "                        })\n",
    "    \n",
    "list_all_ads_OL = []\n",
    "for ads in all_ads_OL:\n",
    "    date = ads.find_next(class_=\"date\")\n",
    "    competition = ads.find_next(class_=\"competition\")\n",
    "    equipe1 = ads.find_next(class_=\"equipe equipe1\")\n",
    "    score = ads.find_next(class_=\"score\")\n",
    "    equipe2 = ads.find_next(class_=\"equipe equipe2\")\n",
    "    list_all_ads_OL = []\n",
    "for ads in all_ads_OL:\n",
    "    date = ads.find_next(class_=\"date\")\n",
    "    competition = ads.find_next(class_=\"competition\")\n",
    "    equipe1 = ads.find_next(class_=\"equipe equipe1\")\n",
    "    score = ads.find_next(class_=\"score\", )\n",
    "    equipe2 = ads.find_next(class_=\"equipe equipe2\")\n",
    "    list_all_ads_OL.append({\"mois\":pd.to_datetime(date.text).month,\n",
    "                         \"date\":pd.to_datetime(date.text),\n",
    "                         \"equipe1\":equipe1.text.replace(\" \",\"\") ,\n",
    "                         \"competition\":competition.text[0:2],\n",
    "                         \"score\":score.text,\n",
    "                         \"equipe2\":equipe2.text.replace(\" \",\"\"),\n",
    "                         \"equipe1_goal\":pd.to_numeric(score.text[0]),\n",
    "                         \"equipe2_goal\":pd.to_numeric(score.text[2]),\n",
    "                         \"equipe_REF\" : club_OL,\n",
    "                        })\n",
    "    \n",
    "list_all_ads_OM = []\n",
    "for ads in all_ads_OM:\n",
    "    date = ads.find_next(class_=\"date\")\n",
    "    competition = ads.find_next(class_=\"competition\")\n",
    "    equipe1 = ads.find_next(class_=\"equipe equipe1\")\n",
    "    score = ads.find_next(class_=\"score\")\n",
    "    equipe2 = ads.find_next(class_=\"equipe equipe2\")\n",
    "    list_all_ads_OM = []\n",
    "for ads in all_ads_OM:\n",
    "    date = ads.find_next(class_=\"date\")\n",
    "    competition = ads.find_next(class_=\"competition\")\n",
    "    equipe1 = ads.find_next(class_=\"equipe equipe1\")\n",
    "    score = ads.find_next(class_=\"score\", )\n",
    "    equipe2 = ads.find_next(class_=\"equipe equipe2\")\n",
    "    list_all_ads_OM.append({\"mois\":pd.to_datetime(date.text).month,\n",
    "                         \"date\":pd.to_datetime(date.text),\n",
    "                         \"equipe1\":equipe1.text.replace(\" \",\"\") ,\n",
    "                         \"competition\":competition.text[0:2],\n",
    "                         \"score\":score.text,\n",
    "                         \"equipe2\":equipe2.text.replace(\" \",\"\"),\n",
    "                         \"equipe1_goal\":pd.to_numeric(score.text[0]),\n",
    "                         \"equipe2_goal\":pd.to_numeric(score.text[2]),\n",
    "                         \"equipe_REF\" : club_OM,\n",
    "                        })\n",
    "    \n",
    "list_all_ads_ASM = []\n",
    "for ads in all_ads_ASM:\n",
    "    date = ads.find_next(class_=\"date\")\n",
    "    competition = ads.find_next(class_=\"competition\")\n",
    "    equipe1 = ads.find_next(class_=\"equipe equipe1\")\n",
    "    score = ads.find_next(class_=\"score\")\n",
    "    equipe2 = ads.find_next(class_=\"equipe equipe2\")\n",
    "    list_all_ads_ASM = []\n",
    "for ads in all_ads_ASM:\n",
    "    date = ads.find_next(class_=\"date\")\n",
    "    competition = ads.find_next(class_=\"competition\")\n",
    "    equipe1 = ads.find_next(class_=\"equipe equipe1\")\n",
    "    score = ads.find_next(class_=\"score\", )\n",
    "    equipe2 = ads.find_next(class_=\"equipe equipe2\")\n",
    "    list_all_ads_ASM.append({\"mois\":pd.to_datetime(date.text).month,\n",
    "                         \"date\":pd.to_datetime(date.text),\n",
    "                         \"equipe1\":equipe1.text.replace(\" \",\"\") ,\n",
    "                         \"competition\":competition.text[0:2],\n",
    "                         \"score\":score.text,\n",
    "                         \"equipe2\":equipe2.text.replace(\" \",\"\"),\n",
    "                         \"equipe1_goal\":pd.to_numeric(score.text[0]),\n",
    "                         \"equipe2_goal\":pd.to_numeric(score.text[2]),\n",
    "                         \"equipe_REF\" : club_ASM,\n",
    "                        })\n",
    "    \n",
    "list_all_ads_STE = []\n",
    "for ads in all_ads_STE:\n",
    "    date = ads.find_next(class_=\"date\")\n",
    "    competition = ads.find_next(class_=\"competition\")\n",
    "    equipe1 = ads.find_next(class_=\"equipe equipe1\")\n",
    "    score = ads.find_next(class_=\"score\")\n",
    "    equipe2 = ads.find_next(class_=\"equipe equipe2\")\n",
    "    list_all_ads_STE = []\n",
    "for ads in all_ads_STE:\n",
    "    date = ads.find_next(class_=\"date\")\n",
    "    competition = ads.find_next(class_=\"competition\")\n",
    "    equipe1 = ads.find_next(class_=\"equipe equipe1\")\n",
    "    score = ads.find_next(class_=\"score\", )\n",
    "    equipe2 = ads.find_next(class_=\"equipe equipe2\")\n",
    "    list_all_ads_STE.append({\"mois\":pd.to_datetime(date.text).month,\n",
    "                         \"date\":pd.to_datetime(date.text),\n",
    "                         \"equipe1\":equipe1.text.replace(\" \",\"\") ,\n",
    "                         \"competition\":competition.text[0:2],\n",
    "                         \"score\":score.text,\n",
    "                         \"equipe2\":equipe2.text.replace(\" \",\"\"),\n",
    "                         \"equipe1_goal\":pd.to_numeric(score.text[0]),\n",
    "                         \"equipe2_goal\":pd.to_numeric(score.text[2]),\n",
    "                         \"equipe_REF\" : club_STE,\n",
    "                        })"
   ]
  },
  {
   "cell_type": "code",
   "execution_count": 356,
   "metadata": {},
   "outputs": [],
   "source": [
    "df_match_PSG = pd.DataFrame(list_all_ads_PSG)\n",
    "df_match_OL = pd.DataFrame(list_all_ads_OL)\n",
    "df_match_OM = pd.DataFrame(list_all_ads_OM)\n",
    "df_match_ASM = pd.DataFrame(list_all_ads_ASM)\n",
    "df_match_STE = pd.DataFrame(list_all_ads_STE)"
   ]
  },
  {
   "cell_type": "code",
   "execution_count": 357,
   "metadata": {},
   "outputs": [
    {
     "data": {
      "text/plain": [
       "(36, 9)"
      ]
     },
     "execution_count": 357,
     "metadata": {},
     "output_type": "execute_result"
    }
   ],
   "source": [
    "df_match_PSG.shape\n",
    "df_match_OL.shape\n",
    "df_match_OM.shape\n",
    "df_match_ASM.shape\n",
    "df_match_STE.shape"
   ]
  },
  {
   "cell_type": "code",
   "execution_count": 358,
   "metadata": {},
   "outputs": [],
   "source": [
    "df_match_PSG = df_match_PSG.drop([0,0],axis=0)\n",
    "df_match_OL = df_match_OL.drop([0,0],axis=0)\n",
    "df_match_OM = df_match_OM.drop([0,0],axis=0)\n",
    "df_match_ASM = df_match_ASM.drop([0,0],axis=0)\n",
    "df_match_STE = df_match_STE.drop([0,0],axis=0)"
   ]
  },
  {
   "cell_type": "code",
   "execution_count": 359,
   "metadata": {},
   "outputs": [],
   "source": [
    "df_match_PSG.loc[(df_match_PSG.equipe1 == \"Paris-SG\") & (df_match_PSG.equipe1_goal > df_match_PSG.equipe2_goal), 'Bilan'] = 'V'\n",
    "df_match_PSG.loc[(df_match_PSG.equipe1 == \"Paris-SG\") & (df_match_PSG.equipe1_goal < df_match_PSG.equipe2_goal), 'Bilan'] = 'D'\n",
    "df_match_PSG.loc[(df_match_PSG.equipe1 == \"Paris-SG\") & (df_match_PSG.equipe1_goal == df_match_PSG.equipe2_goal), 'Bilan'] = 'N'\n",
    "df_match_PSG.loc[(df_match_PSG.equipe2 == \"Paris-SG\") & (df_match_PSG.equipe1_goal > df_match_PSG.equipe2_goal), 'Bilan'] = 'D'\n",
    "df_match_PSG.loc[(df_match_PSG.equipe2 == \"Paris-SG\") & (df_match_PSG.equipe1_goal < df_match_PSG.equipe2_goal), 'Bilan'] = 'V'\n",
    "df_match_PSG.loc[(df_match_PSG.equipe2 == \"Paris-SG\") & (df_match_PSG.equipe1_goal == df_match_PSG.equipe2_goal), 'Bilan'] = 'N'\n",
    "\n",
    "df_match_OL.loc[(df_match_OL.equipe1 == \"Lyon\") & (df_match_OL.equipe1_goal > df_match_OL.equipe2_goal), 'Bilan'] = 'V'\n",
    "df_match_OL.loc[(df_match_OL.equipe1 == \"Lyon\") & (df_match_OL.equipe1_goal < df_match_OL.equipe2_goal), 'Bilan'] = 'D'\n",
    "df_match_OL.loc[(df_match_OL.equipe1 == \"Lyon\") & (df_match_OL.equipe1_goal == df_match_OL.equipe2_goal), 'Bilan'] = 'N'\n",
    "df_match_OL.loc[(df_match_OL.equipe2 == \"Lyon\") & (df_match_OL.equipe1_goal > df_match_OL.equipe2_goal), 'Bilan'] = 'D'\n",
    "df_match_OL.loc[(df_match_OL.equipe2 == \"Lyon\") & (df_match_OL.equipe1_goal < df_match_OL.equipe2_goal), 'Bilan'] = 'V'\n",
    "df_match_OL.loc[(df_match_OL.equipe2 == \"Lyon\") & (df_match_OL.equipe1_goal == df_match_OL.equipe2_goal), 'Bilan'] = 'N'\n",
    "\n",
    "df_match_OM.loc[(df_match_OM.equipe1 == \"Marseille\") & (df_match_OM.equipe1_goal > df_match_OM.equipe2_goal), 'Bilan'] = 'V'\n",
    "df_match_OM.loc[(df_match_OM.equipe1 == \"Marseille\") & (df_match_OM.equipe1_goal < df_match_OM.equipe2_goal), 'Bilan'] = 'D'\n",
    "df_match_OM.loc[(df_match_OM.equipe1 == \"Marseille\") & (df_match_OM.equipe1_goal == df_match_OM.equipe2_goal), 'Bilan'] = 'N'\n",
    "df_match_OM.loc[(df_match_OM.equipe2 == \"Marseille\") & (df_match_OM.equipe1_goal > df_match_OM.equipe2_goal), 'Bilan'] = 'D'\n",
    "df_match_OM.loc[(df_match_OM.equipe2 == \"Marseille\") & (df_match_OM.equipe1_goal < df_match_OM.equipe2_goal), 'Bilan'] = 'V'\n",
    "df_match_OM.loc[(df_match_OM.equipe2 == \"Marseille\") & (df_match_OM.equipe1_goal == df_match_OM.equipe2_goal), 'Bilan'] = 'N'\n",
    "\n",
    "df_match_ASM.loc[(df_match_ASM.equipe1 == \"Monaco\") & (df_match_ASM.equipe1_goal > df_match_ASM.equipe2_goal), 'Bilan'] = 'V'\n",
    "df_match_ASM.loc[(df_match_ASM.equipe1 == \"Monaco\") & (df_match_ASM.equipe1_goal < df_match_ASM.equipe2_goal), 'Bilan'] = 'D'\n",
    "df_match_ASM.loc[(df_match_ASM.equipe1 == \"Monaco\") & (df_match_ASM.equipe1_goal == df_match_ASM.equipe2_goal), 'Bilan'] = 'N'\n",
    "df_match_ASM.loc[(df_match_ASM.equipe2 == \"Monaco\") & (df_match_ASM.equipe1_goal > df_match_ASM.equipe2_goal), 'Bilan'] = 'D'\n",
    "df_match_ASM.loc[(df_match_ASM.equipe2 == \"Monaco\") & (df_match_ASM.equipe1_goal < df_match_ASM.equipe2_goal), 'Bilan'] = 'V'\n",
    "df_match_ASM.loc[(df_match_ASM.equipe2 == \"Monaco\") & (df_match_ASM.equipe1_goal == df_match_ASM.equipe2_goal), 'Bilan'] = 'N'\n",
    "\n",
    "df_match_STE.loc[(df_match_STE.equipe1 == \"Saint-Étien.\") & (df_match_STE.equipe1_goal > df_match_STE.equipe2_goal), 'Bilan'] = 'V'\n",
    "df_match_STE.loc[(df_match_STE.equipe1 == \"Saint-Étien.\") & (df_match_STE.equipe1_goal < df_match_STE.equipe2_goal), 'Bilan'] = 'D'\n",
    "df_match_STE.loc[(df_match_STE.equipe1 == \"Saint-Étien.\") & (df_match_STE.equipe1_goal == df_match_STE.equipe2_goal), 'Bilan'] = 'N'\n",
    "df_match_STE.loc[(df_match_STE.equipe2 == \"Saint-Étien.\") & (df_match_STE.equipe1_goal > df_match_STE.equipe2_goal), 'Bilan'] = 'D'\n",
    "df_match_STE.loc[(df_match_STE.equipe2 == \"Saint-Étien.\") & (df_match_STE.equipe1_goal < df_match_STE.equipe2_goal), 'Bilan'] = 'V'\n",
    "df_match_STE.loc[(df_match_STE.equipe2 == \"Saint-Étien.\") & (df_match_STE.equipe1_goal == df_match_STE.equipe2_goal), 'Bilan'] = 'N'"
   ]
  },
  {
   "cell_type": "markdown",
   "metadata": {},
   "source": [
    "# Jointure club ligue 1"
   ]
  },
  {
   "cell_type": "code",
   "execution_count": 360,
   "metadata": {},
   "outputs": [],
   "source": [
    "base_L1 = pd.concat([df_match_PSG,df_match_OL,df_match_OM,df_match_ASM, df_match_STE],ignore_index = True)"
   ]
  },
  {
   "cell_type": "code",
   "execution_count": 361,
   "metadata": {},
   "outputs": [],
   "source": [
    "base_L1.loc[(base_L1.competition == 'MA'), 'Competition_bis'] = 'Amicaux'\n",
    "base_L1.loc[(base_L1.competition == 'TC'), 'Competition_bis'] = 'CoupeNat'\n",
    "base_L1.loc[(base_L1.competition == 'CL'), 'Competition_bis'] = 'CoupeNat'\n",
    "base_L1.loc[(base_L1.competition == 'CO'), 'Competition_bis'] = 'CoupeNat'\n",
    "base_L1.loc[(base_L1.competition == 'L1'), 'Competition_bis'] = 'Championnat'\n",
    "base_L1.loc[(base_L1.competition == 'C1'), 'Competition_bis'] = 'LDC'\n",
    "base_L1.loc[(base_L1.competition == 'C3'), 'Competition_bis'] = 'C3'"
   ]
  },
  {
   "cell_type": "code",
   "execution_count": 362,
   "metadata": {},
   "outputs": [
    {
     "data": {
      "text/html": [
       "<div>\n",
       "<style scoped>\n",
       "    .dataframe tbody tr th:only-of-type {\n",
       "        vertical-align: middle;\n",
       "    }\n",
       "\n",
       "    .dataframe tbody tr th {\n",
       "        vertical-align: top;\n",
       "    }\n",
       "\n",
       "    .dataframe thead th {\n",
       "        text-align: right;\n",
       "    }\n",
       "</style>\n",
       "<table border=\"1\" class=\"dataframe\">\n",
       "  <thead>\n",
       "    <tr style=\"text-align: right;\">\n",
       "      <th></th>\n",
       "      <th>mois</th>\n",
       "      <th>date</th>\n",
       "      <th>equipe1</th>\n",
       "      <th>competition</th>\n",
       "      <th>score</th>\n",
       "      <th>equipe2</th>\n",
       "      <th>equipe1_goal</th>\n",
       "      <th>equipe2_goal</th>\n",
       "      <th>equipe_REF</th>\n",
       "      <th>Bilan</th>\n",
       "      <th>Competition_bis</th>\n",
       "    </tr>\n",
       "  </thead>\n",
       "  <tbody>\n",
       "    <tr>\n",
       "      <td>0</td>\n",
       "      <td>7</td>\n",
       "      <td>2019-07-16</td>\n",
       "      <td>DynamoDresde</td>\n",
       "      <td>MA</td>\n",
       "      <td>1-6</td>\n",
       "      <td>Paris-SG</td>\n",
       "      <td>1</td>\n",
       "      <td>6</td>\n",
       "      <td>PARIS-SG (PSG)</td>\n",
       "      <td>V</td>\n",
       "      <td>Amicaux</td>\n",
       "    </tr>\n",
       "    <tr>\n",
       "      <td>1</td>\n",
       "      <td>7</td>\n",
       "      <td>2019-07-20</td>\n",
       "      <td>Nuremberg</td>\n",
       "      <td>MA</td>\n",
       "      <td>1-1</td>\n",
       "      <td>Paris-SG</td>\n",
       "      <td>1</td>\n",
       "      <td>1</td>\n",
       "      <td>PARIS-SG (PSG)</td>\n",
       "      <td>N</td>\n",
       "      <td>Amicaux</td>\n",
       "    </tr>\n",
       "    <tr>\n",
       "      <td>2</td>\n",
       "      <td>7</td>\n",
       "      <td>2019-07-27</td>\n",
       "      <td>Paris-SG</td>\n",
       "      <td>MA</td>\n",
       "      <td>1-1</td>\n",
       "      <td>InterMilan</td>\n",
       "      <td>1</td>\n",
       "      <td>1</td>\n",
       "      <td>PARIS-SG (PSG)</td>\n",
       "      <td>N</td>\n",
       "      <td>Amicaux</td>\n",
       "    </tr>\n",
       "    <tr>\n",
       "      <td>3</td>\n",
       "      <td>7</td>\n",
       "      <td>2019-07-30</td>\n",
       "      <td>Paris-SG</td>\n",
       "      <td>MA</td>\n",
       "      <td>3-0</td>\n",
       "      <td>SydneyFC</td>\n",
       "      <td>3</td>\n",
       "      <td>0</td>\n",
       "      <td>PARIS-SG (PSG)</td>\n",
       "      <td>V</td>\n",
       "      <td>Amicaux</td>\n",
       "    </tr>\n",
       "    <tr>\n",
       "      <td>4</td>\n",
       "      <td>3</td>\n",
       "      <td>2019-03-08</td>\n",
       "      <td>Paris-SG</td>\n",
       "      <td>TC</td>\n",
       "      <td>2-1</td>\n",
       "      <td>Rennes</td>\n",
       "      <td>2</td>\n",
       "      <td>1</td>\n",
       "      <td>PARIS-SG (PSG)</td>\n",
       "      <td>V</td>\n",
       "      <td>CoupeNat</td>\n",
       "    </tr>\n",
       "    <tr>\n",
       "      <td>...</td>\n",
       "      <td>...</td>\n",
       "      <td>...</td>\n",
       "      <td>...</td>\n",
       "      <td>...</td>\n",
       "      <td>...</td>\n",
       "      <td>...</td>\n",
       "      <td>...</td>\n",
       "      <td>...</td>\n",
       "      <td>...</td>\n",
       "      <td>...</td>\n",
       "      <td>...</td>\n",
       "    </tr>\n",
       "    <tr>\n",
       "      <td>156</td>\n",
       "      <td>12</td>\n",
       "      <td>2019-12-18</td>\n",
       "      <td>Nîmes</td>\n",
       "      <td>CL</td>\n",
       "      <td>1-2</td>\n",
       "      <td>Saint-Étien.</td>\n",
       "      <td>1</td>\n",
       "      <td>2</td>\n",
       "      <td>SAINT-ETIENNE (ASSE)</td>\n",
       "      <td>V</td>\n",
       "      <td>CoupeNat</td>\n",
       "    </tr>\n",
       "    <tr>\n",
       "      <td>157</td>\n",
       "      <td>12</td>\n",
       "      <td>2019-12-21</td>\n",
       "      <td>Strasbourg</td>\n",
       "      <td>L1</td>\n",
       "      <td>2-1</td>\n",
       "      <td>Saint-Étien.</td>\n",
       "      <td>2</td>\n",
       "      <td>1</td>\n",
       "      <td>SAINT-ETIENNE (ASSE)</td>\n",
       "      <td>D</td>\n",
       "      <td>Championnat</td>\n",
       "    </tr>\n",
       "    <tr>\n",
       "      <td>158</td>\n",
       "      <td>5</td>\n",
       "      <td>2020-05-01</td>\n",
       "      <td>Bastia-Borgo</td>\n",
       "      <td>CO</td>\n",
       "      <td>0-3</td>\n",
       "      <td>Saint-Étien.</td>\n",
       "      <td>0</td>\n",
       "      <td>3</td>\n",
       "      <td>SAINT-ETIENNE (ASSE)</td>\n",
       "      <td>V</td>\n",
       "      <td>CoupeNat</td>\n",
       "    </tr>\n",
       "    <tr>\n",
       "      <td>159</td>\n",
       "      <td>8</td>\n",
       "      <td>2020-08-01</td>\n",
       "      <td>Paris-SG</td>\n",
       "      <td>CL</td>\n",
       "      <td>6-1</td>\n",
       "      <td>Saint-Étien.</td>\n",
       "      <td>6</td>\n",
       "      <td>1</td>\n",
       "      <td>SAINT-ETIENNE (ASSE)</td>\n",
       "      <td>D</td>\n",
       "      <td>CoupeNat</td>\n",
       "    </tr>\n",
       "    <tr>\n",
       "      <td>160</td>\n",
       "      <td>12</td>\n",
       "      <td>2020-12-01</td>\n",
       "      <td>Saint-Étien.</td>\n",
       "      <td>L1</td>\n",
       "      <td>0-2</td>\n",
       "      <td>Nantes</td>\n",
       "      <td>0</td>\n",
       "      <td>2</td>\n",
       "      <td>SAINT-ETIENNE (ASSE)</td>\n",
       "      <td>D</td>\n",
       "      <td>Championnat</td>\n",
       "    </tr>\n",
       "  </tbody>\n",
       "</table>\n",
       "<p>161 rows × 11 columns</p>\n",
       "</div>"
      ],
      "text/plain": [
       "     mois       date       equipe1 competition score       equipe2  \\\n",
       "0       7 2019-07-16  DynamoDresde          MA   1-6      Paris-SG   \n",
       "1       7 2019-07-20     Nuremberg          MA   1-1      Paris-SG   \n",
       "2       7 2019-07-27      Paris-SG          MA   1-1    InterMilan   \n",
       "3       7 2019-07-30      Paris-SG          MA   3-0      SydneyFC   \n",
       "4       3 2019-03-08      Paris-SG          TC   2-1        Rennes   \n",
       "..    ...        ...           ...         ...   ...           ...   \n",
       "156    12 2019-12-18         Nîmes          CL   1-2  Saint-Étien.   \n",
       "157    12 2019-12-21    Strasbourg          L1   2-1  Saint-Étien.   \n",
       "158     5 2020-05-01  Bastia-Borgo          CO   0-3  Saint-Étien.   \n",
       "159     8 2020-08-01      Paris-SG          CL   6-1  Saint-Étien.   \n",
       "160    12 2020-12-01  Saint-Étien.          L1   0-2        Nantes   \n",
       "\n",
       "     equipe1_goal  equipe2_goal            equipe_REF Bilan Competition_bis  \n",
       "0               1             6        PARIS-SG (PSG)     V         Amicaux  \n",
       "1               1             1        PARIS-SG (PSG)     N         Amicaux  \n",
       "2               1             1        PARIS-SG (PSG)     N         Amicaux  \n",
       "3               3             0        PARIS-SG (PSG)     V         Amicaux  \n",
       "4               2             1        PARIS-SG (PSG)     V        CoupeNat  \n",
       "..            ...           ...                   ...   ...             ...  \n",
       "156             1             2  SAINT-ETIENNE (ASSE)     V        CoupeNat  \n",
       "157             2             1  SAINT-ETIENNE (ASSE)     D     Championnat  \n",
       "158             0             3  SAINT-ETIENNE (ASSE)     V        CoupeNat  \n",
       "159             6             1  SAINT-ETIENNE (ASSE)     D        CoupeNat  \n",
       "160             0             2  SAINT-ETIENNE (ASSE)     D     Championnat  \n",
       "\n",
       "[161 rows x 11 columns]"
      ]
     },
     "execution_count": 362,
     "metadata": {},
     "output_type": "execute_result"
    }
   ],
   "source": [
    "base_L1"
   ]
  },
  {
   "cell_type": "markdown",
   "metadata": {},
   "source": [
    "# Top 5 championnat espagnol"
   ]
  },
  {
   "cell_type": "code",
   "execution_count": 363,
   "metadata": {},
   "outputs": [],
   "source": [
    "chemin_RM = \"https://www.lequipe.fr/Football/FootballFicheEquipe108.html\"\n",
    "chemin_BAR = \"https://www.lequipe.fr/Football/FootballFicheEquipe98.html\"\n",
    "chemin_SEV = \"https://www.lequipe.fr/Football/FootballFicheEquipe677.html\"\n",
    "chemin_AM = \"https://www.lequipe.fr/Football/FootballFicheEquipe111.html\"\n",
    "chemin_VAL = \"https://www.lequipe.fr/Football/FootballFicheEquipe112.html\""
   ]
  },
  {
   "cell_type": "code",
   "execution_count": 364,
   "metadata": {},
   "outputs": [
    {
     "name": "stdout",
     "output_type": "stream",
     "text": [
      "Tout s'est bien passé\n",
      "Tout s'est bien passé\n",
      "Tout s'est bien passé\n",
      "Tout s'est bien passé\n",
      "Tout s'est bien passé\n"
     ]
    }
   ],
   "source": [
    "page_RM = get(chemin_RM)\n",
    "page_BAR = get(chemin_BAR)\n",
    "page_SEV = get(chemin_SEV)\n",
    "page_AM = get(chemin_AM)\n",
    "page_VAL = get(chemin_VAL)\n",
    "\n",
    "if page_RM.status_code == 200:\n",
    "    print(\"Tout s'est bien passé\")\n",
    "else:\n",
    "    print(\"Problème de récupération\")\n",
    "\n",
    "if page_BAR.status_code == 200:\n",
    "    print(\"Tout s'est bien passé\")\n",
    "else:\n",
    "    print(\"Problème de récupération\")\n",
    "    \n",
    "if page_SEV.status_code == 200:\n",
    "    print(\"Tout s'est bien passé\")\n",
    "else:\n",
    "    print(\"Problème de récupération\")\n",
    "    \n",
    "if page_AM.status_code == 200:\n",
    "    print(\"Tout s'est bien passé\")\n",
    "else:\n",
    "    print(\"Problème de récupération\")\n",
    "\n",
    "if page_VAL.status_code == 200:\n",
    "    print(\"Tout s'est bien passé\")\n",
    "else:\n",
    "    print(\"Problème de récupération\")"
   ]
  },
  {
   "cell_type": "code",
   "execution_count": 365,
   "metadata": {},
   "outputs": [],
   "source": [
    "texte_RM = page_RM.text\n",
    "texte_BAR = page_BAR.text\n",
    "texte_SEV = page_SEV.text\n",
    "texte_AM = page_AM.text\n",
    "texte_VAL = page_VAL.text"
   ]
  },
  {
   "cell_type": "code",
   "execution_count": 366,
   "metadata": {},
   "outputs": [],
   "source": [
    "arbre_BAR = bs4.BeautifulSoup(texte_BAR, \"lxml\")\n",
    "arbre_SEV = bs4.BeautifulSoup(texte_SEV, \"lxml\")\n",
    "arbre_VAL = bs4.BeautifulSoup(texte_VAL, \"lxml\")\n",
    "arbre_AM = bs4.BeautifulSoup(texte_AM, \"lxml\")\n",
    "arbre_RM = bs4.BeautifulSoup(texte_RM, \"lxml\")"
   ]
  },
  {
   "cell_type": "code",
   "execution_count": 367,
   "metadata": {},
   "outputs": [],
   "source": [
    "club_BAR = arbre_BAR.h1.text.replace(\"\\n\", \"\")\n",
    "club_SEV = arbre_SEV.h1.text.replace(\"\\n\", \"\")\n",
    "club_VAL = arbre_VAL.h1.text.replace(\"\\n\", \"\")\n",
    "club_AM = arbre_AM.h1.text.replace(\"\\n\", \"\")\n",
    "club_RM = arbre_RM.h1.text.replace(\"\\n\", \"\")"
   ]
  },
  {
   "cell_type": "code",
   "execution_count": 368,
   "metadata": {},
   "outputs": [
    {
     "name": "stdout",
     "output_type": "stream",
     "text": [
      "FC BARCELONE\n",
      "SEVILLE FC\n",
      "VALENCE CF\n",
      "ATLETICO DE MADRID\n",
      "REAL MADRID\n"
     ]
    }
   ],
   "source": [
    "print(club_BAR)\n",
    "print(club_SEV)\n",
    "print(club_VAL)\n",
    "print(club_AM)\n",
    "print(club_RM)"
   ]
  },
  {
   "cell_type": "code",
   "execution_count": 369,
   "metadata": {},
   "outputs": [
    {
     "data": {
      "text/plain": [
       "'<section class=\"Palmares calendrierclub\"><h2 class=\"titre-barre category-expand\">Calendrier Real Madrid</h2><section class=\"data-content category-expand-list\"> <!-- content --><table><tr><td class=\"titre-ss-barre\" colspan=\"5\">Résultats 2019-2020</td></tr> <tr class=\"alternate1\"> <td class=\"date\">17/08/19</td> <td class=\"competition\"><strong>CH</strong> <br/>1re journée</td><td class=\"equipe equipe1\"><a href=\"/Football/FootballFicheClub110.html#POUSSE\">          Celta Vigo</a><a></a></td><td class=\"score\"><a href=\"/Football/match-direct/championnat-d-espagne/2019-2020/celta-vigo-real-madrid-live/454314#POUSSE\"><strong><span style=\"color: #38B013\">1-3<span style=\"font-size:0.625rem;\"></span></span></strong></a></td><td class=\"equipe equipe2\"><a href=\"/Football/FootballFicheClub108.html#POUSSE\"> <strong>Real Madrid</strong> </a> </td> </tr> <tr class=\"alternate2\"> <td class=\"date\">24/08/19</td> <td class=\"competition\"><strong>CH</strong> <br/>2e journée</td><td class=\"equipe equipe1\"><a h'"
      ]
     },
     "execution_count": 369,
     "metadata": {},
     "output_type": "execute_result"
    }
   ],
   "source": [
    "div_fille_BAR = arbre_BAR.find(id=\"container\").find(class_=\"Palmares calendrierclub\")\n",
    "str(div_fille_BAR)[0:1000]\n",
    "div_fille_SEV = arbre_SEV.find(id=\"container\").find(class_=\"Palmares calendrierclub\")\n",
    "str(div_fille_SEV)[0:1000]\n",
    "div_fille_VAL = arbre_VAL.find(id=\"container\").find(class_=\"Palmares calendrierclub\")\n",
    "str(div_fille_VAL)[0:1000]\n",
    "div_fille_AM = arbre_AM.find(id=\"container\").find(class_=\"Palmares calendrierclub\")\n",
    "str(div_fille_AM)[0:1000]\n",
    "div_fille_RM = arbre_RM.find(id=\"container\").find(class_=\"Palmares calendrierclub\")\n",
    "str(div_fille_RM)[0:1000]"
   ]
  },
  {
   "cell_type": "code",
   "execution_count": 370,
   "metadata": {},
   "outputs": [
    {
     "name": "stdout",
     "output_type": "stream",
     "text": [
      "27\n",
      "28\n",
      "28\n",
      "28\n",
      "28\n"
     ]
    }
   ],
   "source": [
    "liste = []\n",
    "liste.append(div_fille_BAR)\n",
    "liste.append(div_fille_SEV)\n",
    "liste.append(div_fille_VAL)\n",
    "liste.append(div_fille_AM)\n",
    "liste.append(div_fille_RM)\n",
    "for car in liste:\n",
    "    all_ads = car.find(\"table\").findAll(\"tr\")\n",
    "    print(len(all_ads))"
   ]
  },
  {
   "cell_type": "code",
   "execution_count": 371,
   "metadata": {},
   "outputs": [],
   "source": [
    "list_all_ads_BAR = []\n",
    "for ads in all_ads_BAR:\n",
    "    date = ads.find_next(class_=\"date\")\n",
    "    competition = ads.find_next(class_=\"competition\")\n",
    "    equipe1 = ads.find_next(class_=\"equipe equipe1\")\n",
    "    score = ads.find_next(class_=\"score\")\n",
    "    equipe2 = ads.find_next(class_=\"equipe equipe2\")\n",
    "    list_all_ads_BAR = []\n",
    "for ads in all_ads_BAR:\n",
    "    date = ads.find_next(class_=\"date\")\n",
    "    competition = ads.find_next(class_=\"competition\")\n",
    "    equipe1 = ads.find_next(class_=\"equipe equipe1\")\n",
    "    score = ads.find_next(class_=\"score\", )\n",
    "    equipe2 = ads.find_next(class_=\"equipe equipe2\")\n",
    "    list_all_ads_BAR.append({\"mois\":pd.to_datetime(date.text).month,\n",
    "                         \"date\":pd.to_datetime(date.text),\n",
    "                         \"equipe1\":equipe1.text.replace(\" \",\"\") ,\n",
    "                         \"competition\":competition.text[0:2],\n",
    "                         \"score\":score.text,\n",
    "                         \"equipe2\":equipe2.text.replace(\" \",\"\"),\n",
    "                         \"equipe1_goal\":pd.to_numeric(score.text[0]),\n",
    "                         \"equipe2_goal\":pd.to_numeric(score.text[2]),\n",
    "                         \"equipe_REF\" : club_BAR,\n",
    "                        })\n",
    "    \n",
    "list_all_ads_SEV = []\n",
    "for ads in all_ads_SEV:\n",
    "    date = ads.find_next(class_=\"date\")\n",
    "    competition = ads.find_next(class_=\"competition\")\n",
    "    equipe1 = ads.find_next(class_=\"equipe equipe1\")\n",
    "    score = ads.find_next(class_=\"score\")\n",
    "    equipe2 = ads.find_next(class_=\"equipe equipe2\")\n",
    "    list_all_ads_SEV = []\n",
    "for ads in all_ads_SEV:\n",
    "    date = ads.find_next(class_=\"date\")\n",
    "    competition = ads.find_next(class_=\"competition\")\n",
    "    equipe1 = ads.find_next(class_=\"equipe equipe1\")\n",
    "    score = ads.find_next(class_=\"score\", )\n",
    "    equipe2 = ads.find_next(class_=\"equipe equipe2\")\n",
    "    list_all_ads_SEV.append({\"mois\":pd.to_datetime(date.text).month,\n",
    "                         \"date\":pd.to_datetime(date.text),\n",
    "                         \"equipe1\":equipe1.text.replace(\" \",\"\") ,\n",
    "                         \"competition\":competition.text[0:2],\n",
    "                         \"score\":score.text,\n",
    "                         \"equipe2\":equipe2.text.replace(\" \",\"\"),\n",
    "                         \"equipe1_goal\":pd.to_numeric(score.text[0]),\n",
    "                         \"equipe2_goal\":pd.to_numeric(score.text[2]),\n",
    "                         \"equipe_REF\" : club_SEV,\n",
    "                        })\n",
    "    \n",
    "list_all_ads_VAL = []\n",
    "for ads in all_ads_VAL:\n",
    "    date = ads.find_next(class_=\"date\")\n",
    "    competition = ads.find_next(class_=\"competition\")\n",
    "    equipe1 = ads.find_next(class_=\"equipe equipe1\")\n",
    "    score = ads.find_next(class_=\"score\")\n",
    "    equipe2 = ads.find_next(class_=\"equipe equipe2\")\n",
    "    list_all_ads_VAL = []\n",
    "for ads in all_ads_VAL:\n",
    "    date = ads.find_next(class_=\"date\")\n",
    "    competition = ads.find_next(class_=\"competition\")\n",
    "    equipe1 = ads.find_next(class_=\"equipe equipe1\")\n",
    "    score = ads.find_next(class_=\"score\", )\n",
    "    equipe2 = ads.find_next(class_=\"equipe equipe2\")\n",
    "    list_all_ads_VAL.append({\"mois\":pd.to_datetime(date.text).month,\n",
    "                         \"date\":pd.to_datetime(date.text),\n",
    "                         \"equipe1\":equipe1.text.replace(\" \",\"\") ,\n",
    "                         \"competition\":competition.text[0:2],\n",
    "                         \"score\":score.text,\n",
    "                         \"equipe2\":equipe2.text.replace(\" \",\"\"),\n",
    "                         \"equipe1_goal\":pd.to_numeric(score.text[0]),\n",
    "                         \"equipe2_goal\":pd.to_numeric(score.text[2]),\n",
    "                         \"equipe_REF\" : club_VAL,\n",
    "                        })\n",
    "    \n",
    "list_all_ads_AM = []\n",
    "for ads in all_ads_AM:\n",
    "    date = ads.find_next(class_=\"date\")\n",
    "    competition = ads.find_next(class_=\"competition\")\n",
    "    equipe1 = ads.find_next(class_=\"equipe equipe1\")\n",
    "    score = ads.find_next(class_=\"score\")\n",
    "    equipe2 = ads.find_next(class_=\"equipe equipe2\")\n",
    "    list_all_ads_AM = []\n",
    "for ads in all_ads_AM:\n",
    "    date = ads.find_next(class_=\"date\")\n",
    "    competition = ads.find_next(class_=\"competition\")\n",
    "    equipe1 = ads.find_next(class_=\"equipe equipe1\")\n",
    "    score = ads.find_next(class_=\"score\", )\n",
    "    equipe2 = ads.find_next(class_=\"equipe equipe2\")\n",
    "    list_all_ads_AM.append({\"mois\":pd.to_datetime(date.text).month,\n",
    "                         \"date\":pd.to_datetime(date.text),\n",
    "                         \"equipe1\":equipe1.text.replace(\" \",\"\") ,\n",
    "                         \"competition\":competition.text[0:2],\n",
    "                         \"score\":score.text,\n",
    "                         \"equipe2\":equipe2.text.replace(\" \",\"\"),\n",
    "                         \"equipe1_goal\":pd.to_numeric(score.text[0]),\n",
    "                         \"equipe2_goal\":pd.to_numeric(score.text[2]),\n",
    "                         \"equipe_REF\" : club_AM,\n",
    "                        })\n",
    "    \n",
    "list_all_ads_RM = []\n",
    "for ads in all_ads_RM:\n",
    "    date = ads.find_next(class_=\"date\")\n",
    "    competition = ads.find_next(class_=\"competition\")\n",
    "    equipe1 = ads.find_next(class_=\"equipe equipe1\")\n",
    "    score = ads.find_next(class_=\"score\")\n",
    "    equipe2 = ads.find_next(class_=\"equipe equipe2\")\n",
    "    list_all_ads_RM = []\n",
    "for ads in all_ads_RM:\n",
    "    date = ads.find_next(class_=\"date\")\n",
    "    competition = ads.find_next(class_=\"competition\")\n",
    "    equipe1 = ads.find_next(class_=\"equipe equipe1\")\n",
    "    score = ads.find_next(class_=\"score\", )\n",
    "    equipe2 = ads.find_next(class_=\"equipe equipe2\")\n",
    "    list_all_ads_RM.append({\"mois\":pd.to_datetime(date.text).month,\n",
    "                         \"date\":pd.to_datetime(date.text),\n",
    "                         \"equipe1\":equipe1.text.replace(\" \",\"\") ,\n",
    "                         \"competition\":competition.text[0:2],\n",
    "                         \"score\":score.text,\n",
    "                         \"equipe2\":equipe2.text.replace(\" \",\"\"),\n",
    "                         \"equipe1_goal\":pd.to_numeric(score.text[0]),\n",
    "                         \"equipe2_goal\":pd.to_numeric(score.text[2]),\n",
    "                         \"equipe_REF\" : club_RM,\n",
    "                        })"
   ]
  },
  {
   "cell_type": "code",
   "execution_count": 372,
   "metadata": {},
   "outputs": [],
   "source": [
    "df_match_BAR = pd.DataFrame(list_all_ads_BAR)\n",
    "df_match_SEV = pd.DataFrame(list_all_ads_SEV)\n",
    "df_match_VAL = pd.DataFrame(list_all_ads_VAL)\n",
    "df_match_AM = pd.DataFrame(list_all_ads_AM)\n",
    "df_match_RM = pd.DataFrame(list_all_ads_RM)"
   ]
  },
  {
   "cell_type": "code",
   "execution_count": 373,
   "metadata": {},
   "outputs": [],
   "source": [
    "df_match_BAR = df_match_BAR.drop([0,0],axis=0)\n",
    "df_match_SEV = df_match_SEV.drop([0,0],axis=0)\n",
    "df_match_VAL = df_match_VAL.drop([0,0],axis=0)\n",
    "df_match_AM = df_match_AM.drop([0,0],axis=0)\n",
    "df_match_RM = df_match_RM.drop([0,0],axis=0)"
   ]
  },
  {
   "cell_type": "code",
   "execution_count": 374,
   "metadata": {},
   "outputs": [],
   "source": [
    "df_match_BAR.loc[(df_match_BAR.equipe1 == \"FCBarcelone\") & (df_match_BAR.equipe1_goal > df_match_BAR.equipe2_goal), 'Bilan'] = 'V'\n",
    "df_match_BAR.loc[(df_match_BAR.equipe1 == \"FCBarcelone\") & (df_match_BAR.equipe1_goal < df_match_BAR.equipe2_goal), 'Bilan'] = 'D'\n",
    "df_match_BAR.loc[(df_match_BAR.equipe1 == \"FCBarcelone\") & (df_match_BAR.equipe1_goal == df_match_BAR.equipe2_goal), 'Bilan'] = 'N'\n",
    "df_match_BAR.loc[(df_match_BAR.equipe2 == \"FCBarcelone\") & (df_match_BAR.equipe1_goal > df_match_BAR.equipe2_goal), 'Bilan'] = 'D'\n",
    "df_match_BAR.loc[(df_match_BAR.equipe2 == \"FCBarcelone\") & (df_match_BAR.equipe1_goal < df_match_BAR.equipe2_goal), 'Bilan'] = 'V'\n",
    "df_match_BAR.loc[(df_match_BAR.equipe2 == \"FCBarcelone\") & (df_match_BAR.equipe1_goal == df_match_BAR.equipe2_goal), 'Bilan'] = 'N'\n",
    "\n",
    "df_match_SEV.loc[(df_match_SEV.equipe1 == \"SévilleFC\") & (df_match_SEV.equipe1_goal > df_match_SEV.equipe2_goal), 'Bilan'] = 'V'\n",
    "df_match_SEV.loc[(df_match_SEV.equipe1 == \"SévilleFC\") & (df_match_SEV.equipe1_goal < df_match_SEV.equipe2_goal), 'Bilan'] = 'D'\n",
    "df_match_SEV.loc[(df_match_SEV.equipe1 == \"SévilleFC\") & (df_match_SEV.equipe1_goal == df_match_SEV.equipe2_goal), 'Bilan'] = 'N'\n",
    "df_match_SEV.loc[(df_match_SEV.equipe2 == \"SévilleFC\") & (df_match_SEV.equipe1_goal > df_match_SEV.equipe2_goal), 'Bilan'] = 'D'\n",
    "df_match_SEV.loc[(df_match_SEV.equipe2 == \"SévilleFC\") & (df_match_SEV.equipe1_goal < df_match_SEV.equipe2_goal), 'Bilan'] = 'V'\n",
    "df_match_SEV.loc[(df_match_SEV.equipe2 == \"SévilleFC\") & (df_match_SEV.equipe1_goal == df_match_SEV.equipe2_goal), 'Bilan'] = 'N'\n",
    "\n",
    "df_match_VAL.loc[(df_match_VAL.equipe1 == \"ValenceCF\") & (df_match_VAL.equipe1_goal > df_match_VAL.equipe2_goal), 'Bilan'] = 'V'\n",
    "df_match_VAL.loc[(df_match_VAL.equipe1 == \"ValenceCF\") & (df_match_VAL.equipe1_goal < df_match_VAL.equipe2_goal), 'Bilan'] = 'D'\n",
    "df_match_VAL.loc[(df_match_VAL.equipe1 == \"ValenceCF\") & (df_match_VAL.equipe1_goal == df_match_VAL.equipe2_goal), 'Bilan'] = 'N'\n",
    "df_match_VAL.loc[(df_match_VAL.equipe2 == \"ValenceCF\") & (df_match_VAL.equipe1_goal > df_match_VAL.equipe2_goal), 'Bilan'] = 'D'\n",
    "df_match_VAL.loc[(df_match_VAL.equipe2 == \"ValenceCF\") & (df_match_VAL.equipe1_goal < df_match_VAL.equipe2_goal), 'Bilan'] = 'V'\n",
    "df_match_VAL.loc[(df_match_VAL.equipe2 == \"ValenceCF\") & (df_match_VAL.equipe1_goal == df_match_VAL.equipe2_goal), 'Bilan'] = 'N'\n",
    "\n",
    "df_match_AM.loc[(df_match_AM.equipe1 == \"AtléticodeMadrid\") & (df_match_AM.equipe1_goal > df_match_AM.equipe2_goal), 'Bilan'] = 'V'\n",
    "df_match_AM.loc[(df_match_AM.equipe1 == \"AtléticodeMadrid\") & (df_match_AM.equipe1_goal < df_match_AM.equipe2_goal), 'Bilan'] = 'D'\n",
    "df_match_AM.loc[(df_match_AM.equipe1 == \"AtléticodeMadrid\") & (df_match_AM.equipe1_goal == df_match_AM.equipe2_goal), 'Bilan'] = 'N'\n",
    "df_match_AM.loc[(df_match_AM.equipe2 == \"AtléticodeMadrid\") & (df_match_AM.equipe1_goal > df_match_AM.equipe2_goal), 'Bilan'] = 'D'\n",
    "df_match_AM.loc[(df_match_AM.equipe2 == \"AtléticodeMadrid\") & (df_match_AM.equipe1_goal < df_match_AM.equipe2_goal), 'Bilan'] = 'V'\n",
    "df_match_AM.loc[(df_match_AM.equipe2 == \"AtléticodeMadrid\") & (df_match_AM.equipe1_goal == df_match_AM.equipe2_goal), 'Bilan'] = 'N'\n",
    "\n",
    "df_match_RM.loc[(df_match_RM.equipe1 == \"RealMadrid\") & (df_match_RM.equipe1_goal > df_match_RM.equipe2_goal), 'Bilan'] = 'V'\n",
    "df_match_RM.loc[(df_match_RM.equipe1 == \"RealMadrid\") & (df_match_RM.equipe1_goal < df_match_RM.equipe2_goal), 'Bilan'] = 'D'\n",
    "df_match_RM.loc[(df_match_RM.equipe1 == \"RealMadrid\") & (df_match_RM.equipe1_goal == df_match_RM.equipe2_goal), 'Bilan'] = 'N'\n",
    "df_match_RM.loc[(df_match_RM.equipe2 == \"RealMadrid\") & (df_match_RM.equipe1_goal > df_match_RM.equipe2_goal), 'Bilan'] = 'D'\n",
    "df_match_RM.loc[(df_match_RM.equipe2 == \"RealMadrid\") & (df_match_RM.equipe1_goal < df_match_RM.equipe2_goal), 'Bilan'] = 'V'\n",
    "df_match_RM.loc[(df_match_RM.equipe2 == \"RealMadrid\") & (df_match_RM.equipe1_goal == df_match_RM.equipe2_goal), 'Bilan'] = 'N'"
   ]
  },
  {
   "cell_type": "markdown",
   "metadata": {},
   "source": [
    "# Jointure clubs espagnols"
   ]
  },
  {
   "cell_type": "code",
   "execution_count": 375,
   "metadata": {},
   "outputs": [],
   "source": [
    "base_Liga = pd.concat([df_match_BAR,df_match_SEV,df_match_VAL,df_match_AM, df_match_RM],ignore_index = True)"
   ]
  },
  {
   "cell_type": "code",
   "execution_count": 376,
   "metadata": {},
   "outputs": [],
   "source": [
    "base_Liga['competition'] = base_Liga['competition'].apply({'CH':'Liga', 'C1':'LDC', 'C3':'C3', 'MA':'MA', 'CO':'CO', 'SC':'SC'}.get)"
   ]
  },
  {
   "cell_type": "code",
   "execution_count": 377,
   "metadata": {},
   "outputs": [],
   "source": [
    "base_Liga.loc[(base_Liga.competition == 'MA'), 'Competition_bis'] = 'Amicaux'\n",
    "base_Liga.loc[(base_Liga.competition == 'CO'), 'Competition_bis'] = 'CoupeNat'\n",
    "base_Liga.loc[(base_Liga.competition == 'SC'), 'Competition_bis'] = 'CoupeNat'\n",
    "base_Liga.loc[(base_Liga.competition == 'Liga'), 'Competition_bis'] = 'Championnat'\n",
    "base_Liga.loc[(base_Liga.competition == 'LDC'), 'Competition_bis'] = 'LDC'\n",
    "base_Liga.loc[(base_Liga.competition == 'C3'), 'Competition_bis'] = 'C3'"
   ]
  },
  {
   "cell_type": "code",
   "execution_count": 378,
   "metadata": {
    "scrolled": true
   },
   "outputs": [
    {
     "data": {
      "text/html": [
       "<div>\n",
       "<style scoped>\n",
       "    .dataframe tbody tr th:only-of-type {\n",
       "        vertical-align: middle;\n",
       "    }\n",
       "\n",
       "    .dataframe tbody tr th {\n",
       "        vertical-align: top;\n",
       "    }\n",
       "\n",
       "    .dataframe thead th {\n",
       "        text-align: right;\n",
       "    }\n",
       "</style>\n",
       "<table border=\"1\" class=\"dataframe\">\n",
       "  <thead>\n",
       "    <tr style=\"text-align: right;\">\n",
       "      <th></th>\n",
       "      <th>mois</th>\n",
       "      <th>date</th>\n",
       "      <th>equipe1</th>\n",
       "      <th>competition</th>\n",
       "      <th>score</th>\n",
       "      <th>equipe2</th>\n",
       "      <th>equipe1_goal</th>\n",
       "      <th>equipe2_goal</th>\n",
       "      <th>equipe_REF</th>\n",
       "      <th>Bilan</th>\n",
       "      <th>Competition_bis</th>\n",
       "    </tr>\n",
       "  </thead>\n",
       "  <tbody>\n",
       "    <tr>\n",
       "      <td>0</td>\n",
       "      <td>8</td>\n",
       "      <td>2019-08-16</td>\n",
       "      <td>AthleticBilbao</td>\n",
       "      <td>Liga</td>\n",
       "      <td>1-0</td>\n",
       "      <td>FCBarcelone</td>\n",
       "      <td>1</td>\n",
       "      <td>0</td>\n",
       "      <td>FC BARCELONE</td>\n",
       "      <td>D</td>\n",
       "      <td>Championnat</td>\n",
       "    </tr>\n",
       "    <tr>\n",
       "      <td>1</td>\n",
       "      <td>8</td>\n",
       "      <td>2019-08-25</td>\n",
       "      <td>FCBarcelone</td>\n",
       "      <td>Liga</td>\n",
       "      <td>5-2</td>\n",
       "      <td>BetisSéville</td>\n",
       "      <td>5</td>\n",
       "      <td>2</td>\n",
       "      <td>FC BARCELONE</td>\n",
       "      <td>V</td>\n",
       "      <td>Championnat</td>\n",
       "    </tr>\n",
       "    <tr>\n",
       "      <td>2</td>\n",
       "      <td>8</td>\n",
       "      <td>2019-08-31</td>\n",
       "      <td>Osasuna</td>\n",
       "      <td>Liga</td>\n",
       "      <td>2-2</td>\n",
       "      <td>FCBarcelone</td>\n",
       "      <td>2</td>\n",
       "      <td>2</td>\n",
       "      <td>FC BARCELONE</td>\n",
       "      <td>N</td>\n",
       "      <td>Championnat</td>\n",
       "    </tr>\n",
       "    <tr>\n",
       "      <td>3</td>\n",
       "      <td>9</td>\n",
       "      <td>2019-09-14</td>\n",
       "      <td>FCBarcelone</td>\n",
       "      <td>Liga</td>\n",
       "      <td>5-2</td>\n",
       "      <td>ValenceCF</td>\n",
       "      <td>5</td>\n",
       "      <td>2</td>\n",
       "      <td>FC BARCELONE</td>\n",
       "      <td>V</td>\n",
       "      <td>Championnat</td>\n",
       "    </tr>\n",
       "    <tr>\n",
       "      <td>4</td>\n",
       "      <td>9</td>\n",
       "      <td>2019-09-17</td>\n",
       "      <td>BorussiaDortmund</td>\n",
       "      <td>LDC</td>\n",
       "      <td>0-0</td>\n",
       "      <td>FCBarcelone</td>\n",
       "      <td>0</td>\n",
       "      <td>0</td>\n",
       "      <td>FC BARCELONE</td>\n",
       "      <td>N</td>\n",
       "      <td>LDC</td>\n",
       "    </tr>\n",
       "    <tr>\n",
       "      <td>...</td>\n",
       "      <td>...</td>\n",
       "      <td>...</td>\n",
       "      <td>...</td>\n",
       "      <td>...</td>\n",
       "      <td>...</td>\n",
       "      <td>...</td>\n",
       "      <td>...</td>\n",
       "      <td>...</td>\n",
       "      <td>...</td>\n",
       "      <td>...</td>\n",
       "      <td>...</td>\n",
       "    </tr>\n",
       "    <tr>\n",
       "      <td>129</td>\n",
       "      <td>12</td>\n",
       "      <td>2019-12-18</td>\n",
       "      <td>FCBarcelone</td>\n",
       "      <td>Liga</td>\n",
       "      <td>0-0</td>\n",
       "      <td>RealMadrid</td>\n",
       "      <td>0</td>\n",
       "      <td>0</td>\n",
       "      <td>REAL MADRID</td>\n",
       "      <td>N</td>\n",
       "      <td>Championnat</td>\n",
       "    </tr>\n",
       "    <tr>\n",
       "      <td>130</td>\n",
       "      <td>12</td>\n",
       "      <td>2019-12-22</td>\n",
       "      <td>RealMadrid</td>\n",
       "      <td>Liga</td>\n",
       "      <td>0-0</td>\n",
       "      <td>AthleticBilbao</td>\n",
       "      <td>0</td>\n",
       "      <td>0</td>\n",
       "      <td>REAL MADRID</td>\n",
       "      <td>N</td>\n",
       "      <td>Championnat</td>\n",
       "    </tr>\n",
       "    <tr>\n",
       "      <td>131</td>\n",
       "      <td>4</td>\n",
       "      <td>2020-04-01</td>\n",
       "      <td>Getafe</td>\n",
       "      <td>Liga</td>\n",
       "      <td>0-3</td>\n",
       "      <td>RealMadrid</td>\n",
       "      <td>0</td>\n",
       "      <td>3</td>\n",
       "      <td>REAL MADRID</td>\n",
       "      <td>V</td>\n",
       "      <td>Championnat</td>\n",
       "    </tr>\n",
       "    <tr>\n",
       "      <td>132</td>\n",
       "      <td>8</td>\n",
       "      <td>2020-08-01</td>\n",
       "      <td>ValenceCF</td>\n",
       "      <td>SC</td>\n",
       "      <td>1-3</td>\n",
       "      <td>RealMadrid</td>\n",
       "      <td>1</td>\n",
       "      <td>3</td>\n",
       "      <td>REAL MADRID</td>\n",
       "      <td>V</td>\n",
       "      <td>CoupeNat</td>\n",
       "    </tr>\n",
       "    <tr>\n",
       "      <td>133</td>\n",
       "      <td>12</td>\n",
       "      <td>2020-12-01</td>\n",
       "      <td>RealMadrid</td>\n",
       "      <td>SC</td>\n",
       "      <td>0-0</td>\n",
       "      <td>AtléticodeMadrid</td>\n",
       "      <td>0</td>\n",
       "      <td>0</td>\n",
       "      <td>REAL MADRID</td>\n",
       "      <td>N</td>\n",
       "      <td>CoupeNat</td>\n",
       "    </tr>\n",
       "  </tbody>\n",
       "</table>\n",
       "<p>134 rows × 11 columns</p>\n",
       "</div>"
      ],
      "text/plain": [
       "     mois       date           equipe1 competition score           equipe2  \\\n",
       "0       8 2019-08-16    AthleticBilbao        Liga   1-0       FCBarcelone   \n",
       "1       8 2019-08-25       FCBarcelone        Liga   5-2      BetisSéville   \n",
       "2       8 2019-08-31           Osasuna        Liga   2-2       FCBarcelone   \n",
       "3       9 2019-09-14       FCBarcelone        Liga   5-2         ValenceCF   \n",
       "4       9 2019-09-17  BorussiaDortmund         LDC   0-0       FCBarcelone   \n",
       "..    ...        ...               ...         ...   ...               ...   \n",
       "129    12 2019-12-18       FCBarcelone        Liga   0-0        RealMadrid   \n",
       "130    12 2019-12-22        RealMadrid        Liga   0-0    AthleticBilbao   \n",
       "131     4 2020-04-01            Getafe        Liga   0-3        RealMadrid   \n",
       "132     8 2020-08-01         ValenceCF          SC   1-3        RealMadrid   \n",
       "133    12 2020-12-01        RealMadrid          SC   0-0  AtléticodeMadrid   \n",
       "\n",
       "     equipe1_goal  equipe2_goal    equipe_REF Bilan Competition_bis  \n",
       "0               1             0  FC BARCELONE     D     Championnat  \n",
       "1               5             2  FC BARCELONE     V     Championnat  \n",
       "2               2             2  FC BARCELONE     N     Championnat  \n",
       "3               5             2  FC BARCELONE     V     Championnat  \n",
       "4               0             0  FC BARCELONE     N             LDC  \n",
       "..            ...           ...           ...   ...             ...  \n",
       "129             0             0   REAL MADRID     N     Championnat  \n",
       "130             0             0   REAL MADRID     N     Championnat  \n",
       "131             0             3   REAL MADRID     V     Championnat  \n",
       "132             1             3   REAL MADRID     V        CoupeNat  \n",
       "133             0             0   REAL MADRID     N        CoupeNat  \n",
       "\n",
       "[134 rows x 11 columns]"
      ]
     },
     "execution_count": 378,
     "metadata": {},
     "output_type": "execute_result"
    }
   ],
   "source": [
    "base_Liga"
   ]
  },
  {
   "cell_type": "markdown",
   "metadata": {},
   "source": [
    "# Passons maintenant au top 5 du championnat anglais"
   ]
  },
  {
   "cell_type": "code",
   "execution_count": 379,
   "metadata": {},
   "outputs": [],
   "source": [
    "chemin_MU = \"https://www.lequipe.fr/Football/FootballFicheEquipe87.html\"\n",
    "chemin_MC = \"https://www.lequipe.fr/Football/FootballFicheEquipe725.html\"\n",
    "chemin_ARS = \"https://www.lequipe.fr/Football/FootballFicheEquipe71.html\"\n",
    "chemin_LEI = \"https://www.lequipe.fr/Football/FootballFicheEquipe80.html\"\n",
    "chemin_CHE = \"https://www.lequipe.fr/Football/FootballFicheEquipe73.html\""
   ]
  },
  {
   "cell_type": "code",
   "execution_count": 380,
   "metadata": {},
   "outputs": [
    {
     "name": "stdout",
     "output_type": "stream",
     "text": [
      "Tout s'est bien passé\n",
      "Tout s'est bien passé\n",
      "Tout s'est bien passé\n",
      "Tout s'est bien passé\n",
      "Tout s'est bien passé\n"
     ]
    }
   ],
   "source": [
    "page_MU = get(chemin_MU)\n",
    "page_MC = get(chemin_MC)\n",
    "page_ARS = get(chemin_ARS)\n",
    "page_LEI = get(chemin_LEI)\n",
    "page_CHE = get(chemin_CHE)\n",
    "\n",
    "if page_MU.status_code == 200:\n",
    "    print(\"Tout s'est bien passé\")\n",
    "else:\n",
    "    print(\"Problème de récupération\")\n",
    "\n",
    "if page_MC.status_code == 200:\n",
    "    print(\"Tout s'est bien passé\")\n",
    "else:\n",
    "    print(\"Problème de récupération\")\n",
    "    \n",
    "if page_ARS.status_code == 200:\n",
    "    print(\"Tout s'est bien passé\")\n",
    "else:\n",
    "    print(\"Problème de récupération\")\n",
    "    \n",
    "if page_LEI.status_code == 200:\n",
    "    print(\"Tout s'est bien passé\")\n",
    "else:\n",
    "    print(\"Problème de récupération\")\n",
    "\n",
    "if page_CHE.status_code == 200:\n",
    "    print(\"Tout s'est bien passé\")\n",
    "else:\n",
    "    print(\"Problème de récupération\")"
   ]
  },
  {
   "cell_type": "code",
   "execution_count": 381,
   "metadata": {},
   "outputs": [],
   "source": [
    "texte_MU = page_MU.text\n",
    "texte_MC = page_MC.text\n",
    "texte_ARS = page_ARS.text\n",
    "texte_LEI = page_LEI.text\n",
    "texte_CHE = page_CHE.text"
   ]
  },
  {
   "cell_type": "code",
   "execution_count": 382,
   "metadata": {},
   "outputs": [],
   "source": [
    "arbre_MU = bs4.BeautifulSoup(texte_MU, \"lxml\")\n",
    "arbre_MC = bs4.BeautifulSoup(texte_MC, \"lxml\")\n",
    "arbre_ARS = bs4.BeautifulSoup(texte_ARS, \"lxml\")\n",
    "arbre_LEI = bs4.BeautifulSoup(texte_LEI, \"lxml\")\n",
    "arbre_CHE = bs4.BeautifulSoup(texte_CHE, \"lxml\")"
   ]
  },
  {
   "cell_type": "code",
   "execution_count": 383,
   "metadata": {},
   "outputs": [],
   "source": [
    "club_MU = arbre_MU.h1.text.replace(\"\\n\", \"\")\n",
    "club_MC = arbre_MC.h1.text.replace(\"\\n\", \"\")\n",
    "club_ARS = arbre_ARS.h1.text.replace(\"\\n\", \"\")\n",
    "club_LEI = arbre_LEI.h1.text.replace(\"\\n\", \"\")\n",
    "club_CHE = arbre_CHE.h1.text.replace(\"\\n\", \"\")"
   ]
  },
  {
   "cell_type": "code",
   "execution_count": 384,
   "metadata": {},
   "outputs": [
    {
     "name": "stdout",
     "output_type": "stream",
     "text": [
      "MANCHESTER UNITED\n",
      "MANCHESTER CITY\n",
      "ARSENAL\n",
      "LEICESTER\n",
      "CHELSEA\n"
     ]
    }
   ],
   "source": [
    "print(club_MU)\n",
    "print(club_MC)\n",
    "print(club_ARS)\n",
    "print(club_LEI)\n",
    "print(club_CHE)"
   ]
  },
  {
   "cell_type": "code",
   "execution_count": 385,
   "metadata": {},
   "outputs": [
    {
     "data": {
      "text/plain": [
       "'<section class=\"Palmares calendrierclub\"><h2 class=\"titre-barre category-expand\">Calendrier Chelsea</h2><section class=\"data-content category-expand-list\"> <!-- content --><table><tr><td class=\"titre-ss-barre\" colspan=\"5\">Résultats 2019-2020</td></tr> <tr class=\"alternate1\"> <td class=\"date\">11/08/19</td> <td class=\"competition\"><strong>CH</strong> <br/>1re journée</td><td class=\"equipe equipe1\"><a href=\"/Football/FootballFicheClub87.html#POUSSE\">          Manchester United</a><a></a></td><td class=\"score\"><a href=\"/Football/match-direct/championnat-d-angleterre/2019-2020/manchester-utd-chelsea-live/450601#POUSSE\"><strong><span style=\"color: #FF0000\">4-0<span style=\"font-size:0.625rem;\"></span></span></strong></a></td><td class=\"equipe equipe2\"><a href=\"/Football/FootballFicheClub73.html#POUSSE\"> <strong>Chelsea</strong> </a> </td> </tr> <tr class=\"alternate2\"> <td class=\"date\">14/08/19</td> <td class=\"competition\"><strong>SC</strong> <br/> <strong>Finale</strong> </td><td class=\"equip'"
      ]
     },
     "execution_count": 385,
     "metadata": {},
     "output_type": "execute_result"
    }
   ],
   "source": [
    "div_fille_MU = arbre_MU.find(id=\"container\").find(class_=\"Palmares calendrierclub\")\n",
    "str(div_fille_MU)[0:1000]\n",
    "div_fille_MC = arbre_MC.find(id=\"container\").find(class_=\"Palmares calendrierclub\")\n",
    "str(div_fille_MC)[0:1000]\n",
    "div_fille_ARS = arbre_ARS.find(id=\"container\").find(class_=\"Palmares calendrierclub\")\n",
    "str(div_fille_ARS)[0:1000]\n",
    "div_fille_LEI = arbre_LEI.find(id=\"container\").find(class_=\"Palmares calendrierclub\")\n",
    "str(div_fille_LEI)[0:1000]\n",
    "div_fille_CHE = arbre_CHE.find(id=\"container\").find(class_=\"Palmares calendrierclub\")\n",
    "str(div_fille_CHE)[0:1000]"
   ]
  },
  {
   "cell_type": "code",
   "execution_count": 386,
   "metadata": {},
   "outputs": [
    {
     "name": "stdout",
     "output_type": "stream",
     "text": [
      "34\n",
      "35\n",
      "34\n",
      "29\n",
      "33\n"
     ]
    }
   ],
   "source": [
    "liste = []\n",
    "liste.append(div_fille_MU)\n",
    "liste.append(div_fille_MC)\n",
    "liste.append(div_fille_ARS)\n",
    "liste.append(div_fille_LEI)\n",
    "liste.append(div_fille_CHE)\n",
    "for car in liste:\n",
    "    all_ads = car.find(\"table\").findAll(\"tr\")\n",
    "    print(len(all_ads))"
   ]
  },
  {
   "cell_type": "code",
   "execution_count": 387,
   "metadata": {},
   "outputs": [],
   "source": [
    "list_all_ads_MU = []\n",
    "for ads in all_ads_MU:\n",
    "    date = ads.find_next(class_=\"date\")\n",
    "    competition = ads.find_next(class_=\"competition\")\n",
    "    equipe1 = ads.find_next(class_=\"equipe equipe1\")\n",
    "    score = ads.find_next(class_=\"score\")\n",
    "    equipe2 = ads.find_next(class_=\"equipe equipe2\")\n",
    "    list_all_ads_MU = []\n",
    "for ads in all_ads_MU:\n",
    "    date = ads.find_next(class_=\"date\")\n",
    "    competition = ads.find_next(class_=\"competition\")\n",
    "    equipe1 = ads.find_next(class_=\"equipe equipe1\")\n",
    "    score = ads.find_next(class_=\"score\", )\n",
    "    equipe2 = ads.find_next(class_=\"equipe equipe2\")\n",
    "    list_all_ads_MU.append({\"mois\":pd.to_datetime(date.text).month,\n",
    "                         \"date\":pd.to_datetime(date.text),\n",
    "                         \"equipe1\":equipe1.text.replace(\" \",\"\") ,\n",
    "                         \"competition\":competition.text[0:2],\n",
    "                         \"score\":score.text,\n",
    "                         \"equipe2\":equipe2.text.replace(\" \",\"\"),\n",
    "                         \"equipe1_goal\":pd.to_numeric(score.text[0]),\n",
    "                         \"equipe2_goal\":pd.to_numeric(score.text[2]),\n",
    "                         \"equipe_REF\" : club_MU,\n",
    "                        })\n",
    "    \n",
    "list_all_ads_MC = []\n",
    "for ads in all_ads_MC:\n",
    "    date = ads.find_next(class_=\"date\")\n",
    "    competition = ads.find_next(class_=\"competition\")\n",
    "    equipe1 = ads.find_next(class_=\"equipe equipe1\")\n",
    "    score = ads.find_next(class_=\"score\")\n",
    "    equipe2 = ads.find_next(class_=\"equipe equipe2\")\n",
    "    list_all_ads_MC = []\n",
    "for ads in all_ads_MC:\n",
    "    date = ads.find_next(class_=\"date\")\n",
    "    competition = ads.find_next(class_=\"competition\")\n",
    "    equipe1 = ads.find_next(class_=\"equipe equipe1\")\n",
    "    score = ads.find_next(class_=\"score\", )\n",
    "    equipe2 = ads.find_next(class_=\"equipe equipe2\")\n",
    "    list_all_ads_MC.append({\"mois\":pd.to_datetime(date.text).month,\n",
    "                         \"date\":pd.to_datetime(date.text),\n",
    "                         \"equipe1\":equipe1.text.replace(\" \",\"\") ,\n",
    "                         \"competition\":competition.text[0:2],\n",
    "                         \"score\":score.text,\n",
    "                         \"equipe2\":equipe2.text.replace(\" \",\"\"),\n",
    "                         \"equipe1_goal\":pd.to_numeric(score.text[0]),\n",
    "                         \"equipe2_goal\":pd.to_numeric(score.text[2]),\n",
    "                         \"equipe_REF\" : club_MC,\n",
    "                        })\n",
    "    \n",
    "list_all_ads_ARS = []\n",
    "for ads in all_ads_ARS:\n",
    "    date = ads.find_next(class_=\"date\")\n",
    "    competition = ads.find_next(class_=\"competition\")\n",
    "    equipe1 = ads.find_next(class_=\"equipe equipe1\")\n",
    "    score = ads.find_next(class_=\"score\")\n",
    "    equipe2 = ads.find_next(class_=\"equipe equipe2\")\n",
    "    list_all_ads_ARS = []\n",
    "for ads in all_ads_ARS:\n",
    "    date = ads.find_next(class_=\"date\")\n",
    "    competition = ads.find_next(class_=\"competition\")\n",
    "    equipe1 = ads.find_next(class_=\"equipe equipe1\")\n",
    "    score = ads.find_next(class_=\"score\", )\n",
    "    equipe2 = ads.find_next(class_=\"equipe equipe2\")\n",
    "    list_all_ads_ARS.append({\"mois\":pd.to_datetime(date.text).month,\n",
    "                         \"date\":pd.to_datetime(date.text),\n",
    "                         \"equipe1\":equipe1.text.replace(\" \",\"\") ,\n",
    "                         \"competition\":competition.text[0:2],\n",
    "                         \"score\":score.text,\n",
    "                         \"equipe2\":equipe2.text.replace(\" \",\"\"),\n",
    "                         \"equipe1_goal\":pd.to_numeric(score.text[0]),\n",
    "                         \"equipe2_goal\":pd.to_numeric(score.text[2]),\n",
    "                         \"equipe_REF\" : club_ARS,\n",
    "                        })\n",
    "    \n",
    "list_all_ads_LEI = []\n",
    "for ads in all_ads_LEI:\n",
    "    date = ads.find_next(class_=\"date\")\n",
    "    competition = ads.find_next(class_=\"competition\")\n",
    "    equipe1 = ads.find_next(class_=\"equipe equipe1\")\n",
    "    score = ads.find_next(class_=\"score\")\n",
    "    equipe2 = ads.find_next(class_=\"equipe equipe2\")\n",
    "    list_all_ads_LEI = []\n",
    "for ads in all_ads_LEI:\n",
    "    date = ads.find_next(class_=\"date\")\n",
    "    competition = ads.find_next(class_=\"competition\")\n",
    "    equipe1 = ads.find_next(class_=\"equipe equipe1\")\n",
    "    score = ads.find_next(class_=\"score\", )\n",
    "    equipe2 = ads.find_next(class_=\"equipe equipe2\")\n",
    "    list_all_ads_LEI.append({\"mois\":pd.to_datetime(date.text).month,\n",
    "                         \"date\":pd.to_datetime(date.text),\n",
    "                         \"equipe1\":equipe1.text.replace(\" \",\"\") ,\n",
    "                         \"competition\":competition.text[0:2],\n",
    "                         \"score\":score.text,\n",
    "                         \"equipe2\":equipe2.text.replace(\" \",\"\"),\n",
    "                         \"equipe1_goal\":pd.to_numeric(score.text[0]),\n",
    "                         \"equipe2_goal\":pd.to_numeric(score.text[2]),\n",
    "                         \"equipe_REF\" : club_LEI,\n",
    "                        })\n",
    "    \n",
    "list_all_ads_CHE = []\n",
    "for ads in all_ads_CHE:\n",
    "    date = ads.find_next(class_=\"date\")\n",
    "    competition = ads.find_next(class_=\"competition\")\n",
    "    equipe1 = ads.find_next(class_=\"equipe equipe1\")\n",
    "    score = ads.find_next(class_=\"score\")\n",
    "    equipe2 = ads.find_next(class_=\"equipe equipe2\")\n",
    "    list_all_ads_CHE = []\n",
    "for ads in all_ads_CHE:\n",
    "    date = ads.find_next(class_=\"date\")\n",
    "    competition = ads.find_next(class_=\"competition\")\n",
    "    equipe1 = ads.find_next(class_=\"equipe equipe1\")\n",
    "    score = ads.find_next(class_=\"score\", )\n",
    "    equipe2 = ads.find_next(class_=\"equipe equipe2\")\n",
    "    list_all_ads_CHE.append({\"mois\":pd.to_datetime(date.text).month,\n",
    "                         \"date\":pd.to_datetime(date.text),\n",
    "                         \"equipe1\":equipe1.text.replace(\" \",\"\") ,\n",
    "                         \"competition\":competition.text[0:2],\n",
    "                         \"score\":score.text,\n",
    "                         \"equipe2\":equipe2.text.replace(\" \",\"\"),\n",
    "                         \"equipe1_goal\":pd.to_numeric(score.text[0]),\n",
    "                         \"equipe2_goal\":pd.to_numeric(score.text[2]),\n",
    "                         \"equipe_REF\" : club_CHE,\n",
    "                        })"
   ]
  },
  {
   "cell_type": "code",
   "execution_count": 388,
   "metadata": {},
   "outputs": [],
   "source": [
    "df_match_MU = pd.DataFrame(list_all_ads_MU)\n",
    "df_match_MC = pd.DataFrame(list_all_ads_MC)\n",
    "df_match_ARS = pd.DataFrame(list_all_ads_ARS)\n",
    "df_match_LEI = pd.DataFrame(list_all_ads_LEI)\n",
    "df_match_CHE = pd.DataFrame(list_all_ads_CHE)"
   ]
  },
  {
   "cell_type": "code",
   "execution_count": 389,
   "metadata": {},
   "outputs": [],
   "source": [
    "df_match_MU = df_match_MU.drop([0,0],axis=0)\n",
    "df_match_MC = df_match_MC.drop([0,0],axis=0)\n",
    "df_match_ARS = df_match_ARS.drop([0,0],axis=0)\n",
    "df_match_LEI = df_match_LEI.drop([0,0],axis=0)\n",
    "df_match_CHE = df_match_CHE.drop([0,0],axis=0)"
   ]
  },
  {
   "cell_type": "code",
   "execution_count": 390,
   "metadata": {},
   "outputs": [],
   "source": [
    "df_match_MU.loc[(df_match_MU.equipe1 == \"ManchesterUnited\") & (df_match_MU.equipe1_goal > df_match_MU.equipe2_goal), 'Bilan'] = 'V'\n",
    "df_match_MU.loc[(df_match_MU.equipe1 == \"ManchesterUnited\") & (df_match_MU.equipe1_goal < df_match_MU.equipe2_goal), 'Bilan'] = 'D'\n",
    "df_match_MU.loc[(df_match_MU.equipe1 == \"ManchesterUnited\") & (df_match_MU.equipe1_goal == df_match_MU.equipe2_goal), 'Bilan'] = 'N'\n",
    "df_match_MU.loc[(df_match_MU.equipe2 == \"ManchesterUnited\") & (df_match_MU.equipe1_goal > df_match_MU.equipe2_goal), 'Bilan'] = 'D'\n",
    "df_match_MU.loc[(df_match_MU.equipe2 == \"ManchesterUnited\") & (df_match_MU.equipe1_goal < df_match_MU.equipe2_goal), 'Bilan'] = 'V'\n",
    "df_match_MU.loc[(df_match_MU.equipe2 == \"ManchesterUnited\") & (df_match_MU.equipe1_goal == df_match_MU.equipe2_goal), 'Bilan'] = 'N'\n",
    "\n",
    "df_match_MC.loc[(df_match_MC.equipe1 == \"ManchesterCity\") & (df_match_MC.equipe1_goal > df_match_MC.equipe2_goal), 'Bilan'] = 'V'\n",
    "df_match_MC.loc[(df_match_MC.equipe1 == \"ManchesterCity\") & (df_match_MC.equipe1_goal < df_match_MC.equipe2_goal), 'Bilan'] = 'D'\n",
    "df_match_MC.loc[(df_match_MC.equipe1 == \"ManchesterCity\") & (df_match_MC.equipe1_goal == df_match_MC.equipe2_goal), 'Bilan'] = 'N'\n",
    "df_match_MC.loc[(df_match_MC.equipe2 == \"ManchesterCity\") & (df_match_MC.equipe1_goal > df_match_MC.equipe2_goal), 'Bilan'] = 'D'\n",
    "df_match_MC.loc[(df_match_MC.equipe2 == \"ManchesterCity\") & (df_match_MC.equipe1_goal < df_match_MC.equipe2_goal), 'Bilan'] = 'V'\n",
    "df_match_MC.loc[(df_match_MC.equipe2 == \"ManchesterCity\") & (df_match_MC.equipe1_goal == df_match_MC.equipe2_goal), 'Bilan'] = 'N'\n",
    "\n",
    "df_match_ARS.loc[(df_match_ARS.equipe1 == \"Arsenal\") & (df_match_ARS.equipe1_goal > df_match_ARS.equipe2_goal), 'Bilan'] = 'V'\n",
    "df_match_ARS.loc[(df_match_ARS.equipe1 == \"Arsenal\") & (df_match_ARS.equipe1_goal < df_match_ARS.equipe2_goal), 'Bilan'] = 'D'\n",
    "df_match_ARS.loc[(df_match_ARS.equipe1 == \"Arsenal\") & (df_match_ARS.equipe1_goal == df_match_ARS.equipe2_goal), 'Bilan'] = 'N'\n",
    "df_match_ARS.loc[(df_match_ARS.equipe2 == \"Arsenal\") & (df_match_ARS.equipe1_goal > df_match_ARS.equipe2_goal), 'Bilan'] = 'D'\n",
    "df_match_ARS.loc[(df_match_ARS.equipe2 == \"Arsenal\") & (df_match_ARS.equipe1_goal < df_match_ARS.equipe2_goal), 'Bilan'] = 'V'\n",
    "df_match_ARS.loc[(df_match_ARS.equipe2 == \"Arsenal\") & (df_match_ARS.equipe1_goal == df_match_ARS.equipe2_goal), 'Bilan'] = 'N'\n",
    "\n",
    "df_match_LEI.loc[(df_match_LEI.equipe1 == \"Leicester\") & (df_match_LEI.equipe1_goal > df_match_LEI.equipe2_goal), 'Bilan'] = 'V'\n",
    "df_match_LEI.loc[(df_match_LEI.equipe1 == \"Leicester\") & (df_match_LEI.equipe1_goal < df_match_LEI.equipe2_goal), 'Bilan'] = 'D'\n",
    "df_match_LEI.loc[(df_match_LEI.equipe1 == \"Leicester\") & (df_match_LEI.equipe1_goal == df_match_LEI.equipe2_goal), 'Bilan'] = 'N'\n",
    "df_match_LEI.loc[(df_match_LEI.equipe2 == \"Leicester\") & (df_match_LEI.equipe1_goal > df_match_LEI.equipe2_goal), 'Bilan'] = 'D'\n",
    "df_match_LEI.loc[(df_match_LEI.equipe2 == \"Leicester\") & (df_match_LEI.equipe1_goal < df_match_LEI.equipe2_goal), 'Bilan'] = 'V'\n",
    "df_match_LEI.loc[(df_match_LEI.equipe2 == \"Leicester\") & (df_match_LEI.equipe1_goal == df_match_LEI.equipe2_goal), 'Bilan'] = 'N'\n",
    "\n",
    "df_match_CHE.loc[(df_match_CHE.equipe1 == \"Chelsea\") & (df_match_CHE.equipe1_goal > df_match_CHE.equipe2_goal), 'Bilan'] = 'V'\n",
    "df_match_CHE.loc[(df_match_CHE.equipe1 == \"Chelsea\") & (df_match_CHE.equipe1_goal < df_match_CHE.equipe2_goal), 'Bilan'] = 'D'\n",
    "df_match_CHE.loc[(df_match_CHE.equipe1 == \"Chelsea\") & (df_match_CHE.equipe1_goal == df_match_CHE.equipe2_goal), 'Bilan'] = 'N'\n",
    "df_match_CHE.loc[(df_match_CHE.equipe2 == \"Chelsea\") & (df_match_CHE.equipe1_goal > df_match_CHE.equipe2_goal), 'Bilan'] = 'D'\n",
    "df_match_CHE.loc[(df_match_CHE.equipe2 == \"Chelsea\") & (df_match_CHE.equipe1_goal < df_match_CHE.equipe2_goal), 'Bilan'] = 'V'\n",
    "df_match_CHE.loc[(df_match_CHE.equipe2 == \"Chelsea\") & (df_match_CHE.equipe1_goal == df_match_CHE.equipe2_goal), 'Bilan'] = 'N'"
   ]
  },
  {
   "cell_type": "markdown",
   "metadata": {},
   "source": [
    "# Jointure clubs anglais"
   ]
  },
  {
   "cell_type": "code",
   "execution_count": 391,
   "metadata": {},
   "outputs": [],
   "source": [
    "premiere_Ligue = pd.concat([df_match_MU,df_match_MC,df_match_ARS,df_match_LEI, df_match_CHE],ignore_index = True)"
   ]
  },
  {
   "cell_type": "code",
   "execution_count": 392,
   "metadata": {},
   "outputs": [],
   "source": [
    "premiere_Ligue['competition'] = premiere_Ligue['competition'].apply({'CH':'BPL', 'C1':'LDC', 'C3':'C3', 'CL':'CL','MA':'MA', 'SC':'SC','CO':'CO'}.get)"
   ]
  },
  {
   "cell_type": "code",
   "execution_count": 393,
   "metadata": {},
   "outputs": [],
   "source": [
    "premiere_Ligue.loc[(premiere_Ligue.competition == 'MA'), 'Competition_bis'] = 'Amicaux'\n",
    "premiere_Ligue.loc[(premiere_Ligue.competition == 'CL'), 'Competition_bis'] = 'CoupeNat'\n",
    "premiere_Ligue.loc[(premiere_Ligue.competition == 'CO'), 'Competition_bis'] = 'CoupeNat'\n",
    "premiere_Ligue.loc[(premiere_Ligue.competition == 'SC'), 'Competition_bis'] = 'CoupeNat'\n",
    "premiere_Ligue.loc[(premiere_Ligue.competition == 'BPL'), 'Competition_bis'] = 'Championnat'\n",
    "premiere_Ligue.loc[(premiere_Ligue.competition == 'LDC'), 'Competition_bis'] = 'LDC'\n",
    "premiere_Ligue.loc[(premiere_Ligue.competition == 'C3'), 'Competition_bis'] = 'C3'"
   ]
  },
  {
   "cell_type": "code",
   "execution_count": 394,
   "metadata": {},
   "outputs": [
    {
     "data": {
      "text/html": [
       "<div>\n",
       "<style scoped>\n",
       "    .dataframe tbody tr th:only-of-type {\n",
       "        vertical-align: middle;\n",
       "    }\n",
       "\n",
       "    .dataframe tbody tr th {\n",
       "        vertical-align: top;\n",
       "    }\n",
       "\n",
       "    .dataframe thead th {\n",
       "        text-align: right;\n",
       "    }\n",
       "</style>\n",
       "<table border=\"1\" class=\"dataframe\">\n",
       "  <thead>\n",
       "    <tr style=\"text-align: right;\">\n",
       "      <th></th>\n",
       "      <th>mois</th>\n",
       "      <th>date</th>\n",
       "      <th>equipe1</th>\n",
       "      <th>competition</th>\n",
       "      <th>score</th>\n",
       "      <th>equipe2</th>\n",
       "      <th>equipe1_goal</th>\n",
       "      <th>equipe2_goal</th>\n",
       "      <th>equipe_REF</th>\n",
       "      <th>Bilan</th>\n",
       "      <th>Competition_bis</th>\n",
       "    </tr>\n",
       "  </thead>\n",
       "  <tbody>\n",
       "    <tr>\n",
       "      <td>0</td>\n",
       "      <td>11</td>\n",
       "      <td>2019-11-08</td>\n",
       "      <td>ManchesterUnited</td>\n",
       "      <td>BPL</td>\n",
       "      <td>4-0</td>\n",
       "      <td>Chelsea</td>\n",
       "      <td>4</td>\n",
       "      <td>0</td>\n",
       "      <td>MANCHESTER UNITED</td>\n",
       "      <td>V</td>\n",
       "      <td>Championnat</td>\n",
       "    </tr>\n",
       "    <tr>\n",
       "      <td>1</td>\n",
       "      <td>8</td>\n",
       "      <td>2019-08-19</td>\n",
       "      <td>Wolverhampt.</td>\n",
       "      <td>BPL</td>\n",
       "      <td>1-1</td>\n",
       "      <td>ManchesterUnited</td>\n",
       "      <td>1</td>\n",
       "      <td>1</td>\n",
       "      <td>MANCHESTER UNITED</td>\n",
       "      <td>N</td>\n",
       "      <td>Championnat</td>\n",
       "    </tr>\n",
       "    <tr>\n",
       "      <td>2</td>\n",
       "      <td>8</td>\n",
       "      <td>2019-08-24</td>\n",
       "      <td>ManchesterUnited</td>\n",
       "      <td>BPL</td>\n",
       "      <td>1-2</td>\n",
       "      <td>CrystalPalace</td>\n",
       "      <td>1</td>\n",
       "      <td>2</td>\n",
       "      <td>MANCHESTER UNITED</td>\n",
       "      <td>D</td>\n",
       "      <td>Championnat</td>\n",
       "    </tr>\n",
       "    <tr>\n",
       "      <td>3</td>\n",
       "      <td>8</td>\n",
       "      <td>2019-08-31</td>\n",
       "      <td>Southampton</td>\n",
       "      <td>BPL</td>\n",
       "      <td>1-1</td>\n",
       "      <td>ManchesterUnited</td>\n",
       "      <td>1</td>\n",
       "      <td>1</td>\n",
       "      <td>MANCHESTER UNITED</td>\n",
       "      <td>N</td>\n",
       "      <td>Championnat</td>\n",
       "    </tr>\n",
       "    <tr>\n",
       "      <td>4</td>\n",
       "      <td>9</td>\n",
       "      <td>2019-09-14</td>\n",
       "      <td>ManchesterUnited</td>\n",
       "      <td>BPL</td>\n",
       "      <td>1-0</td>\n",
       "      <td>Leicester</td>\n",
       "      <td>1</td>\n",
       "      <td>0</td>\n",
       "      <td>MANCHESTER UNITED</td>\n",
       "      <td>V</td>\n",
       "      <td>Championnat</td>\n",
       "    </tr>\n",
       "    <tr>\n",
       "      <td>...</td>\n",
       "      <td>...</td>\n",
       "      <td>...</td>\n",
       "      <td>...</td>\n",
       "      <td>...</td>\n",
       "      <td>...</td>\n",
       "      <td>...</td>\n",
       "      <td>...</td>\n",
       "      <td>...</td>\n",
       "      <td>...</td>\n",
       "      <td>...</td>\n",
       "      <td>...</td>\n",
       "    </tr>\n",
       "    <tr>\n",
       "      <td>153</td>\n",
       "      <td>12</td>\n",
       "      <td>2019-12-26</td>\n",
       "      <td>Chelsea</td>\n",
       "      <td>BPL</td>\n",
       "      <td>0-2</td>\n",
       "      <td>Southampton</td>\n",
       "      <td>0</td>\n",
       "      <td>2</td>\n",
       "      <td>CHELSEA</td>\n",
       "      <td>D</td>\n",
       "      <td>Championnat</td>\n",
       "    </tr>\n",
       "    <tr>\n",
       "      <td>154</td>\n",
       "      <td>12</td>\n",
       "      <td>2019-12-29</td>\n",
       "      <td>Arsenal</td>\n",
       "      <td>BPL</td>\n",
       "      <td>1-2</td>\n",
       "      <td>Chelsea</td>\n",
       "      <td>1</td>\n",
       "      <td>2</td>\n",
       "      <td>CHELSEA</td>\n",
       "      <td>V</td>\n",
       "      <td>Championnat</td>\n",
       "    </tr>\n",
       "    <tr>\n",
       "      <td>155</td>\n",
       "      <td>1</td>\n",
       "      <td>2020-01-01</td>\n",
       "      <td>Brighton</td>\n",
       "      <td>BPL</td>\n",
       "      <td>1-1</td>\n",
       "      <td>Chelsea</td>\n",
       "      <td>1</td>\n",
       "      <td>1</td>\n",
       "      <td>CHELSEA</td>\n",
       "      <td>N</td>\n",
       "      <td>Championnat</td>\n",
       "    </tr>\n",
       "    <tr>\n",
       "      <td>156</td>\n",
       "      <td>5</td>\n",
       "      <td>2020-05-01</td>\n",
       "      <td>Chelsea</td>\n",
       "      <td>CO</td>\n",
       "      <td>2-0</td>\n",
       "      <td>NottinghamForest</td>\n",
       "      <td>2</td>\n",
       "      <td>0</td>\n",
       "      <td>CHELSEA</td>\n",
       "      <td>V</td>\n",
       "      <td>CoupeNat</td>\n",
       "    </tr>\n",
       "    <tr>\n",
       "      <td>157</td>\n",
       "      <td>11</td>\n",
       "      <td>2020-11-01</td>\n",
       "      <td>Chelsea</td>\n",
       "      <td>BPL</td>\n",
       "      <td>3-0</td>\n",
       "      <td>Burnley</td>\n",
       "      <td>3</td>\n",
       "      <td>0</td>\n",
       "      <td>CHELSEA</td>\n",
       "      <td>V</td>\n",
       "      <td>Championnat</td>\n",
       "    </tr>\n",
       "  </tbody>\n",
       "</table>\n",
       "<p>158 rows × 11 columns</p>\n",
       "</div>"
      ],
      "text/plain": [
       "     mois       date           equipe1 competition score           equipe2  \\\n",
       "0      11 2019-11-08  ManchesterUnited         BPL   4-0           Chelsea   \n",
       "1       8 2019-08-19      Wolverhampt.         BPL   1-1  ManchesterUnited   \n",
       "2       8 2019-08-24  ManchesterUnited         BPL   1-2     CrystalPalace   \n",
       "3       8 2019-08-31       Southampton         BPL   1-1  ManchesterUnited   \n",
       "4       9 2019-09-14  ManchesterUnited         BPL   1-0         Leicester   \n",
       "..    ...        ...               ...         ...   ...               ...   \n",
       "153    12 2019-12-26           Chelsea         BPL   0-2       Southampton   \n",
       "154    12 2019-12-29           Arsenal         BPL   1-2           Chelsea   \n",
       "155     1 2020-01-01          Brighton         BPL   1-1           Chelsea   \n",
       "156     5 2020-05-01           Chelsea          CO   2-0  NottinghamForest   \n",
       "157    11 2020-11-01           Chelsea         BPL   3-0           Burnley   \n",
       "\n",
       "     equipe1_goal  equipe2_goal         equipe_REF Bilan Competition_bis  \n",
       "0               4             0  MANCHESTER UNITED     V     Championnat  \n",
       "1               1             1  MANCHESTER UNITED     N     Championnat  \n",
       "2               1             2  MANCHESTER UNITED     D     Championnat  \n",
       "3               1             1  MANCHESTER UNITED     N     Championnat  \n",
       "4               1             0  MANCHESTER UNITED     V     Championnat  \n",
       "..            ...           ...                ...   ...             ...  \n",
       "153             0             2            CHELSEA     D     Championnat  \n",
       "154             1             2            CHELSEA     V     Championnat  \n",
       "155             1             1            CHELSEA     N     Championnat  \n",
       "156             2             0            CHELSEA     V        CoupeNat  \n",
       "157             3             0            CHELSEA     V     Championnat  \n",
       "\n",
       "[158 rows x 11 columns]"
      ]
     },
     "execution_count": 394,
     "metadata": {},
     "output_type": "execute_result"
    }
   ],
   "source": [
    "premiere_Ligue"
   ]
  },
  {
   "cell_type": "markdown",
   "metadata": {},
   "source": [
    "# Puis au top 5 du championnat italien"
   ]
  },
  {
   "cell_type": "code",
   "execution_count": 395,
   "metadata": {},
   "outputs": [],
   "source": [
    "chemin_JUV = \"https://www.lequipe.fr/Football/FootballFicheEquipe128.html\"\n",
    "chemin_NAP = \"https://www.lequipe.fr/Football/FootballFicheEquipe647.html\"\n",
    "chemin_ACM = \"https://www.lequipe.fr/Football/FootballFicheEquipe127.html\"\n",
    "chemin_INT = \"https://www.lequipe.fr/Football/FootballFicheEquipe120.html\"\n",
    "chemin_ROM = \"https://www.lequipe.fr/Football/FootballFicheEquipe125.html\""
   ]
  },
  {
   "cell_type": "code",
   "execution_count": 396,
   "metadata": {},
   "outputs": [
    {
     "name": "stdout",
     "output_type": "stream",
     "text": [
      "Tout s'est bien passé\n",
      "Tout s'est bien passé\n",
      "Tout s'est bien passé\n",
      "Tout s'est bien passé\n",
      "Tout s'est bien passé\n"
     ]
    }
   ],
   "source": [
    "page_JUV = get(chemin_JUV)\n",
    "page_NAP = get(chemin_NAP)\n",
    "page_ACM = get(chemin_ACM)\n",
    "page_INT = get(chemin_INT)\n",
    "page_ROM = get(chemin_ROM)\n",
    "\n",
    "if page_JUV.status_code == 200:\n",
    "    print(\"Tout s'est bien passé\")\n",
    "else:\n",
    "    print(\"Problème de récupération\")\n",
    "\n",
    "if page_NAP.status_code == 200:\n",
    "    print(\"Tout s'est bien passé\")\n",
    "else:\n",
    "    print(\"Problème de récupération\")\n",
    "    \n",
    "if page_ACM.status_code == 200:\n",
    "    print(\"Tout s'est bien passé\")\n",
    "else:\n",
    "    print(\"Problème de récupération\")\n",
    "    \n",
    "if page_INT.status_code == 200:\n",
    "    print(\"Tout s'est bien passé\")\n",
    "else:\n",
    "    print(\"Problème de récupération\")\n",
    "\n",
    "if page_ROM.status_code == 200:\n",
    "    print(\"Tout s'est bien passé\")\n",
    "else:\n",
    "    print(\"Problème de récupération\")"
   ]
  },
  {
   "cell_type": "code",
   "execution_count": 397,
   "metadata": {},
   "outputs": [],
   "source": [
    "texte_JUV = page_JUV.text\n",
    "texte_NAP = page_NAP.text\n",
    "texte_ACM = page_ACM.text\n",
    "texte_INT = page_INT.text\n",
    "texte_ROM = page_ROM.text"
   ]
  },
  {
   "cell_type": "code",
   "execution_count": 398,
   "metadata": {},
   "outputs": [],
   "source": [
    "arbre_JUV = bs4.BeautifulSoup(texte_JUV, \"lxml\")\n",
    "arbre_NAP = bs4.BeautifulSoup(texte_NAP, \"lxml\")\n",
    "arbre_ACM = bs4.BeautifulSoup(texte_ACM, \"lxml\")\n",
    "arbre_INT = bs4.BeautifulSoup(texte_INT, \"lxml\")\n",
    "arbre_ROM = bs4.BeautifulSoup(texte_ROM, \"lxml\")"
   ]
  },
  {
   "cell_type": "code",
   "execution_count": 399,
   "metadata": {},
   "outputs": [],
   "source": [
    "club_JUV = arbre_JUV.h1.text.replace(\"\\n\", \"\")\n",
    "club_NAP = arbre_NAP.h1.text.replace(\"\\n\", \"\")\n",
    "club_ACM = arbre_ACM.h1.text.replace(\"\\n\", \"\")\n",
    "club_INT = arbre_INT.h1.text.replace(\"\\n\", \"\")\n",
    "club_ROM = arbre_ROM.h1.text.replace(\"\\n\", \"\")"
   ]
  },
  {
   "cell_type": "code",
   "execution_count": 400,
   "metadata": {},
   "outputs": [
    {
     "name": "stdout",
     "output_type": "stream",
     "text": [
      "JUVENTUS TURIN\n",
      "NAPLES\n",
      "AC MILAN\n",
      "INTER MILAN\n",
      "AS ROME\n"
     ]
    }
   ],
   "source": [
    "print(club_JUV)\n",
    "print(club_NAP)\n",
    "print(club_ACM)\n",
    "print(club_INT)\n",
    "print(club_ROM)"
   ]
  },
  {
   "cell_type": "code",
   "execution_count": 401,
   "metadata": {},
   "outputs": [
    {
     "data": {
      "text/plain": [
       "'<section class=\"Palmares calendrierclub\"><h2 class=\"titre-barre category-expand\">Calendrier As Rome</h2><section class=\"data-content category-expand-list\"> <!-- content --><table><tr><td class=\"titre-ss-barre\" colspan=\"5\">Résultats 2019-2020</td></tr> <tr class=\"alternate1\"> <td class=\"date\">3/08/19</td> <td class=\"competition\"><strong>MA</strong> <br/><strong>Matches amicaux L1</strong> <br/>Matches amicaux</td><td class=\"equipe equipe1\"><a href=\"/Football/FootballFicheClub43.html#POUSSE\">          Lille</a><a></a></td><td class=\"score\"><a href=\"/Football/match-direct/matches-amicaux-l1-intersaison/2019-2020/lille-as-rome-live/458724#POUSSE\"><strong><span style=\"color: #38B013\">2-3<span style=\"font-size:0.625rem;\"></span></span></strong></a></td><td class=\"equipe equipe2\"><a href=\"/Football/FootballFicheClub125.html#POUSSE\"> <strong>AS Rome</strong> </a> </td> </tr> <tr class=\"alternate2\"> <td class=\"date\">25/08/19</td> <td class=\"competition\"><strong>CH</strong> <br/>1re journée</td>'"
      ]
     },
     "execution_count": 401,
     "metadata": {},
     "output_type": "execute_result"
    }
   ],
   "source": [
    "div_fille_JUV = arbre_JUV.find(id=\"container\").find(class_=\"Palmares calendrierclub\")\n",
    "str(div_fille_JUV)[0:1000]\n",
    "div_fille_NAP = arbre_NAP.find(id=\"container\").find(class_=\"Palmares calendrierclub\")\n",
    "str(div_fille_NAP)[0:1000]\n",
    "div_fille_ACM = arbre_ACM.find(id=\"container\").find(class_=\"Palmares calendrierclub\")\n",
    "str(div_fille_ACM)[0:1000]\n",
    "div_fille_INT = arbre_INT.find(id=\"container\").find(class_=\"Palmares calendrierclub\")\n",
    "str(div_fille_INT)[0:1000]\n",
    "div_fille_ROM = arbre_ROM.find(id=\"container\").find(class_=\"Palmares calendrierclub\")\n",
    "str(div_fille_ROM)[0:1000]"
   ]
  },
  {
   "cell_type": "code",
   "execution_count": 402,
   "metadata": {},
   "outputs": [
    {
     "name": "stdout",
     "output_type": "stream",
     "text": [
      "27\n",
      "27\n",
      "20\n",
      "27\n",
      "27\n"
     ]
    }
   ],
   "source": [
    "liste = []\n",
    "liste.append(div_fille_JUV)\n",
    "liste.append(div_fille_NAP)\n",
    "liste.append(div_fille_ACM)\n",
    "liste.append(div_fille_INT)\n",
    "liste.append(div_fille_ROM)\n",
    "for car in liste:\n",
    "    all_ads = car.find(\"table\").findAll(\"tr\")\n",
    "    print(len(all_ads))"
   ]
  },
  {
   "cell_type": "code",
   "execution_count": 403,
   "metadata": {},
   "outputs": [],
   "source": [
    "list_all_ads_JUV = []\n",
    "for ads in all_ads_JUV:\n",
    "    date = ads.find_next(class_=\"date\")\n",
    "    competition = ads.find_next(class_=\"competition\")\n",
    "    equipe1 = ads.find_next(class_=\"equipe equipe1\")\n",
    "    score = ads.find_next(class_=\"score\")\n",
    "    equipe2 = ads.find_next(class_=\"equipe equipe2\")\n",
    "    list_all_ads_JUV = []\n",
    "for ads in all_ads_JUV:\n",
    "    date = ads.find_next(class_=\"date\")\n",
    "    competition = ads.find_next(class_=\"competition\")\n",
    "    equipe1 = ads.find_next(class_=\"equipe equipe1\")\n",
    "    score = ads.find_next(class_=\"score\", )\n",
    "    equipe2 = ads.find_next(class_=\"equipe equipe2\")\n",
    "    list_all_ads_JUV.append({\"mois\":pd.to_datetime(date.text).month,\n",
    "                         \"date\":pd.to_datetime(date.text),\n",
    "                         \"equipe1\":equipe1.text.replace(\" \",\"\") ,\n",
    "                         \"competition\":competition.text[0:2],\n",
    "                         \"score\":score.text,\n",
    "                         \"equipe2\":equipe2.text.replace(\" \",\"\"),\n",
    "                         \"equipe1_goal\":pd.to_numeric(score.text[0]),\n",
    "                         \"equipe2_goal\":pd.to_numeric(score.text[2]),\n",
    "                         \"equipe_REF\" : club_JUV,\n",
    "                        })\n",
    "    \n",
    "list_all_ads_NAP = []\n",
    "for ads in all_ads_NAP:\n",
    "    date = ads.find_next(class_=\"date\")\n",
    "    competition = ads.find_next(class_=\"competition\")\n",
    "    equipe1 = ads.find_next(class_=\"equipe equipe1\")\n",
    "    score = ads.find_next(class_=\"score\")\n",
    "    equipe2 = ads.find_next(class_=\"equipe equipe2\")\n",
    "    list_all_ads_NAP = []\n",
    "for ads in all_ads_NAP:\n",
    "    date = ads.find_next(class_=\"date\")\n",
    "    competition = ads.find_next(class_=\"competition\")\n",
    "    equipe1 = ads.find_next(class_=\"equipe equipe1\")\n",
    "    score = ads.find_next(class_=\"score\", )\n",
    "    equipe2 = ads.find_next(class_=\"equipe equipe2\")\n",
    "    list_all_ads_NAP.append({\"mois\":pd.to_datetime(date.text).month,\n",
    "                         \"date\":pd.to_datetime(date.text),\n",
    "                         \"equipe1\":equipe1.text.replace(\" \",\"\") ,\n",
    "                         \"competition\":competition.text[0:2],\n",
    "                         \"score\":score.text,\n",
    "                         \"equipe2\":equipe2.text.replace(\" \",\"\"),\n",
    "                         \"equipe1_goal\":pd.to_numeric(score.text[0]),\n",
    "                         \"equipe2_goal\":pd.to_numeric(score.text[2]),\n",
    "                         \"equipe_REF\" : club_NAP,\n",
    "                        })\n",
    "    \n",
    "list_all_ads_ACM = []\n",
    "for ads in all_ads_ACM:\n",
    "    date = ads.find_next(class_=\"date\")\n",
    "    competition = ads.find_next(class_=\"competition\")\n",
    "    equipe1 = ads.find_next(class_=\"equipe equipe1\")\n",
    "    score = ads.find_next(class_=\"score\")\n",
    "    equipe2 = ads.find_next(class_=\"equipe equipe2\")\n",
    "    list_all_ads_ACM = []\n",
    "for ads in all_ads_ACM:\n",
    "    date = ads.find_next(class_=\"date\")\n",
    "    competition = ads.find_next(class_=\"competition\")\n",
    "    equipe1 = ads.find_next(class_=\"equipe equipe1\")\n",
    "    score = ads.find_next(class_=\"score\", )\n",
    "    equipe2 = ads.find_next(class_=\"equipe equipe2\")\n",
    "    list_all_ads_ACM.append({\"mois\":pd.to_datetime(date.text).month,\n",
    "                         \"date\":pd.to_datetime(date.text),\n",
    "                         \"equipe1\":equipe1.text.replace(\" \",\"\") ,\n",
    "                         \"competition\":competition.text[0:2],\n",
    "                         \"score\":score.text,\n",
    "                         \"equipe2\":equipe2.text.replace(\" \",\"\"),\n",
    "                         \"equipe1_goal\":pd.to_numeric(score.text[0]),\n",
    "                         \"equipe2_goal\":pd.to_numeric(score.text[2]),\n",
    "                         \"equipe_REF\" : club_ACM,\n",
    "                        })\n",
    "    \n",
    "list_all_ads_INT = []\n",
    "for ads in all_ads_INT:\n",
    "    date = ads.find_next(class_=\"date\")\n",
    "    competition = ads.find_next(class_=\"competition\")\n",
    "    equipe1 = ads.find_next(class_=\"equipe equipe1\")\n",
    "    score = ads.find_next(class_=\"score\")\n",
    "    equipe2 = ads.find_next(class_=\"equipe equipe2\")\n",
    "    list_all_ads_INT = []\n",
    "for ads in all_ads_INT:\n",
    "    date = ads.find_next(class_=\"date\")\n",
    "    competition = ads.find_next(class_=\"competition\")\n",
    "    equipe1 = ads.find_next(class_=\"equipe equipe1\")\n",
    "    score = ads.find_next(class_=\"score\", )\n",
    "    equipe2 = ads.find_next(class_=\"equipe equipe2\")\n",
    "    list_all_ads_INT.append({\"mois\":pd.to_datetime(date.text).month,\n",
    "                         \"date\":pd.to_datetime(date.text),\n",
    "                         \"equipe1\":equipe1.text.replace(\" \",\"\") ,\n",
    "                         \"competition\":competition.text[0:2],\n",
    "                         \"score\":score.text,\n",
    "                         \"equipe2\":equipe2.text.replace(\" \",\"\"),\n",
    "                         \"equipe1_goal\":pd.to_numeric(score.text[0]),\n",
    "                         \"equipe2_goal\":pd.to_numeric(score.text[2]),\n",
    "                         \"equipe_REF\" : club_INT,\n",
    "                        })\n",
    "    \n",
    "list_all_ads_ROM = []\n",
    "for ads in all_ads_ROM:\n",
    "    date = ads.find_next(class_=\"date\")\n",
    "    competition = ads.find_next(class_=\"competition\")\n",
    "    equipe1 = ads.find_next(class_=\"equipe equipe1\")\n",
    "    score = ads.find_next(class_=\"score\")\n",
    "    equipe2 = ads.find_next(class_=\"equipe equipe2\")\n",
    "    list_all_ads_ROM = []\n",
    "for ads in all_ads_ROM:\n",
    "    date = ads.find_next(class_=\"date\")\n",
    "    competition = ads.find_next(class_=\"competition\")\n",
    "    equipe1 = ads.find_next(class_=\"equipe equipe1\")\n",
    "    score = ads.find_next(class_=\"score\", )\n",
    "    equipe2 = ads.find_next(class_=\"equipe equipe2\")\n",
    "    list_all_ads_ROM.append({\"mois\":pd.to_datetime(date.text).month,\n",
    "                         \"date\":pd.to_datetime(date.text),\n",
    "                         \"equipe1\":equipe1.text.replace(\" \",\"\") ,\n",
    "                         \"competition\":competition.text[0:2],\n",
    "                         \"score\":score.text,\n",
    "                         \"equipe2\":equipe2.text.replace(\" \",\"\"),\n",
    "                         \"equipe1_goal\":pd.to_numeric(score.text[0]),\n",
    "                         \"equipe2_goal\":pd.to_numeric(score.text[2]),\n",
    "                         \"equipe_REF\" : club_ROM,\n",
    "                        })"
   ]
  },
  {
   "cell_type": "code",
   "execution_count": 404,
   "metadata": {},
   "outputs": [],
   "source": [
    "df_match_JUV = pd.DataFrame(list_all_ads_JUV)\n",
    "df_match_NAP = pd.DataFrame(list_all_ads_NAP)\n",
    "df_match_ACM = pd.DataFrame(list_all_ads_ACM)\n",
    "df_match_INT = pd.DataFrame(list_all_ads_INT)\n",
    "df_match_ROM = pd.DataFrame(list_all_ads_ROM)"
   ]
  },
  {
   "cell_type": "code",
   "execution_count": 405,
   "metadata": {},
   "outputs": [],
   "source": [
    "df_match_JUV = df_match_JUV.drop([0,0],axis=0)\n",
    "df_match_NAP = df_match_NAP.drop([0,0],axis=0)\n",
    "df_match_ACM = df_match_ACM.drop([0,0],axis=0)\n",
    "df_match_INT = df_match_INT.drop([0,0],axis=0)\n",
    "df_match_ROM = df_match_ROM.drop([0,0],axis=0)"
   ]
  },
  {
   "cell_type": "code",
   "execution_count": 406,
   "metadata": {},
   "outputs": [],
   "source": [
    "df_match_JUV.loc[(df_match_JUV.equipe1 == \"JuventusTurin\") & (df_match_JUV.equipe1_goal > df_match_JUV.equipe2_goal), 'Bilan'] = 'V'\n",
    "df_match_JUV.loc[(df_match_JUV.equipe1 == \"JuventusTurin\") & (df_match_JUV.equipe1_goal < df_match_JUV.equipe2_goal), 'Bilan'] = 'D'\n",
    "df_match_JUV.loc[(df_match_JUV.equipe1 == \"JuventusTurin\") & (df_match_JUV.equipe1_goal == df_match_JUV.equipe2_goal), 'Bilan'] = 'N'\n",
    "df_match_JUV.loc[(df_match_JUV.equipe2 == \"JuventusTurin\") & (df_match_JUV.equipe1_goal > df_match_JUV.equipe2_goal), 'Bilan'] = 'D'\n",
    "df_match_JUV.loc[(df_match_JUV.equipe2 == \"JuventusTurin\") & (df_match_JUV.equipe1_goal < df_match_JUV.equipe2_goal), 'Bilan'] = 'V'\n",
    "df_match_JUV.loc[(df_match_JUV.equipe2 == \"JuventusTurin\") & (df_match_JUV.equipe1_goal == df_match_JUV.equipe2_goal), 'Bilan'] = 'N'\n",
    "\n",
    "df_match_NAP.loc[(df_match_NAP.equipe1 == \"Naples\") & (df_match_NAP.equipe1_goal > df_match_NAP.equipe2_goal), 'Bilan'] = 'V'\n",
    "df_match_NAP.loc[(df_match_NAP.equipe1 == \"Naples\") & (df_match_NAP.equipe1_goal < df_match_NAP.equipe2_goal), 'Bilan'] = 'D'\n",
    "df_match_NAP.loc[(df_match_NAP.equipe1 == \"Naples\") & (df_match_NAP.equipe1_goal == df_match_NAP.equipe2_goal), 'Bilan'] = 'N'\n",
    "df_match_NAP.loc[(df_match_NAP.equipe2 == \"Naples\") & (df_match_NAP.equipe1_goal > df_match_NAP.equipe2_goal), 'Bilan'] = 'D'\n",
    "df_match_NAP.loc[(df_match_NAP.equipe2 == \"Naples\") & (df_match_NAP.equipe1_goal < df_match_NAP.equipe2_goal), 'Bilan'] = 'V'\n",
    "df_match_NAP.loc[(df_match_NAP.equipe2 == \"Naples\") & (df_match_NAP.equipe1_goal == df_match_NAP.equipe2_goal), 'Bilan'] = 'N'\n",
    "\n",
    "df_match_ACM.loc[(df_match_ACM.equipe1 == \"ACMilan\") & (df_match_ACM.equipe1_goal > df_match_ACM.equipe2_goal), 'Bilan'] = 'V'\n",
    "df_match_ACM.loc[(df_match_ACM.equipe1 == \"ACMilan\") & (df_match_ACM.equipe1_goal < df_match_ACM.equipe2_goal), 'Bilan'] = 'D'\n",
    "df_match_ACM.loc[(df_match_ACM.equipe1 == \"ACMilan\") & (df_match_ACM.equipe1_goal == df_match_ACM.equipe2_goal), 'Bilan'] = 'N'\n",
    "df_match_ACM.loc[(df_match_ACM.equipe2 == \"ACMilan\") & (df_match_ACM.equipe1_goal > df_match_ACM.equipe2_goal), 'Bilan'] = 'D'\n",
    "df_match_ACM.loc[(df_match_ACM.equipe2 == \"ACMilan\") & (df_match_ACM.equipe1_goal < df_match_ACM.equipe2_goal), 'Bilan'] = 'V'\n",
    "df_match_ACM.loc[(df_match_ACM.equipe2 == \"ACMilan\") & (df_match_ACM.equipe1_goal == df_match_ACM.equipe2_goal), 'Bilan'] = 'N'\n",
    "\n",
    "df_match_INT.loc[(df_match_INT.equipe1 == \"InterMilan\") & (df_match_INT.equipe1_goal > df_match_INT.equipe2_goal), 'Bilan'] = 'V'\n",
    "df_match_INT.loc[(df_match_INT.equipe1 == \"InterMilan\") & (df_match_INT.equipe1_goal < df_match_INT.equipe2_goal), 'Bilan'] = 'D'\n",
    "df_match_INT.loc[(df_match_INT.equipe1 == \"InterMilan\") & (df_match_INT.equipe1_goal == df_match_INT.equipe2_goal), 'Bilan'] = 'N'\n",
    "df_match_INT.loc[(df_match_INT.equipe2 == \"InterMilan\") & (df_match_INT.equipe1_goal > df_match_INT.equipe2_goal), 'Bilan'] = 'D'\n",
    "df_match_INT.loc[(df_match_INT.equipe2 == \"InterMilan\") & (df_match_INT.equipe1_goal < df_match_INT.equipe2_goal), 'Bilan'] = 'V'\n",
    "df_match_INT.loc[(df_match_INT.equipe2 == \"InterMilan\") & (df_match_INT.equipe1_goal == df_match_INT.equipe2_goal), 'Bilan'] = 'N'\n",
    "\n",
    "df_match_ROM.loc[(df_match_ROM.equipe1 == \"ASRome\") & (df_match_ROM.equipe1_goal > df_match_ROM.equipe2_goal), 'Bilan'] = 'V'\n",
    "df_match_ROM.loc[(df_match_ROM.equipe1 == \"ASRome\") & (df_match_ROM.equipe1_goal < df_match_ROM.equipe2_goal), 'Bilan'] = 'D'\n",
    "df_match_ROM.loc[(df_match_ROM.equipe1 == \"ASRome\") & (df_match_ROM.equipe1_goal == df_match_ROM.equipe2_goal), 'Bilan'] = 'N'\n",
    "df_match_ROM.loc[(df_match_ROM.equipe2 == \"ASRome\") & (df_match_ROM.equipe1_goal > df_match_ROM.equipe2_goal), 'Bilan'] = 'D'\n",
    "df_match_ROM.loc[(df_match_ROM.equipe2 == \"ASRome\") & (df_match_ROM.equipe1_goal < df_match_ROM.equipe2_goal), 'Bilan'] = 'V'\n",
    "df_match_ROM.loc[(df_match_ROM.equipe2 == \"ASRome\") & (df_match_ROM.equipe1_goal == df_match_ROM.equipe2_goal), 'Bilan'] = 'N'"
   ]
  },
  {
   "cell_type": "markdown",
   "metadata": {},
   "source": [
    "# Jointure clubs italiens"
   ]
  },
  {
   "cell_type": "code",
   "execution_count": 407,
   "metadata": {},
   "outputs": [],
   "source": [
    "serie_a = pd.concat([df_match_JUV,df_match_NAP,df_match_ACM,df_match_INT, df_match_ROM],ignore_index = True)"
   ]
  },
  {
   "cell_type": "code",
   "execution_count": 408,
   "metadata": {},
   "outputs": [],
   "source": [
    "serie_a['competition'] = serie_a['competition'].apply({'CH':'SerieA', 'C1':'LDC', 'C3':'C3', 'MA':'MA', 'SC':'SC', 'CO':'CO'}.get)"
   ]
  },
  {
   "cell_type": "code",
   "execution_count": 409,
   "metadata": {},
   "outputs": [],
   "source": [
    "serie_a.loc[(serie_a.competition == 'MA'), 'Competition_bis'] = 'Amicaux'\n",
    "serie_a.loc[(serie_a.competition == 'SC'), 'Competition_bis'] = 'CoupeNat'\n",
    "serie_a.loc[(serie_a.competition == 'CO'), 'Competition_bis'] = 'CoupeNat'\n",
    "serie_a.loc[(serie_a.competition == 'SerieA'), 'Competition_bis'] = 'Championnat'\n",
    "serie_a.loc[(serie_a.competition == 'LDC'), 'Competition_bis'] = 'LDC'\n",
    "serie_a.loc[(serie_a.competition == 'C3'), 'Competition_bis'] = 'C3'"
   ]
  },
  {
   "cell_type": "code",
   "execution_count": 410,
   "metadata": {},
   "outputs": [
    {
     "data": {
      "text/html": [
       "<div>\n",
       "<style scoped>\n",
       "    .dataframe tbody tr th:only-of-type {\n",
       "        vertical-align: middle;\n",
       "    }\n",
       "\n",
       "    .dataframe tbody tr th {\n",
       "        vertical-align: top;\n",
       "    }\n",
       "\n",
       "    .dataframe thead th {\n",
       "        text-align: right;\n",
       "    }\n",
       "</style>\n",
       "<table border=\"1\" class=\"dataframe\">\n",
       "  <thead>\n",
       "    <tr style=\"text-align: right;\">\n",
       "      <th></th>\n",
       "      <th>mois</th>\n",
       "      <th>date</th>\n",
       "      <th>equipe1</th>\n",
       "      <th>competition</th>\n",
       "      <th>score</th>\n",
       "      <th>equipe2</th>\n",
       "      <th>equipe1_goal</th>\n",
       "      <th>equipe2_goal</th>\n",
       "      <th>equipe_REF</th>\n",
       "      <th>Bilan</th>\n",
       "      <th>Competition_bis</th>\n",
       "    </tr>\n",
       "  </thead>\n",
       "  <tbody>\n",
       "    <tr>\n",
       "      <td>0</td>\n",
       "      <td>8</td>\n",
       "      <td>2019-08-24</td>\n",
       "      <td>Parme</td>\n",
       "      <td>SerieA</td>\n",
       "      <td>0-1</td>\n",
       "      <td>JuventusTurin</td>\n",
       "      <td>0</td>\n",
       "      <td>1</td>\n",
       "      <td>JUVENTUS TURIN</td>\n",
       "      <td>V</td>\n",
       "      <td>Championnat</td>\n",
       "    </tr>\n",
       "    <tr>\n",
       "      <td>1</td>\n",
       "      <td>8</td>\n",
       "      <td>2019-08-31</td>\n",
       "      <td>JuventusTurin</td>\n",
       "      <td>SerieA</td>\n",
       "      <td>4-3</td>\n",
       "      <td>Naples</td>\n",
       "      <td>4</td>\n",
       "      <td>3</td>\n",
       "      <td>JUVENTUS TURIN</td>\n",
       "      <td>V</td>\n",
       "      <td>Championnat</td>\n",
       "    </tr>\n",
       "    <tr>\n",
       "      <td>2</td>\n",
       "      <td>9</td>\n",
       "      <td>2019-09-14</td>\n",
       "      <td>Fiorentina</td>\n",
       "      <td>SerieA</td>\n",
       "      <td>0-0</td>\n",
       "      <td>JuventusTurin</td>\n",
       "      <td>0</td>\n",
       "      <td>0</td>\n",
       "      <td>JUVENTUS TURIN</td>\n",
       "      <td>N</td>\n",
       "      <td>Championnat</td>\n",
       "    </tr>\n",
       "    <tr>\n",
       "      <td>3</td>\n",
       "      <td>9</td>\n",
       "      <td>2019-09-18</td>\n",
       "      <td>AtléticodeMadrid</td>\n",
       "      <td>LDC</td>\n",
       "      <td>2-2</td>\n",
       "      <td>JuventusTurin</td>\n",
       "      <td>2</td>\n",
       "      <td>2</td>\n",
       "      <td>JUVENTUS TURIN</td>\n",
       "      <td>N</td>\n",
       "      <td>LDC</td>\n",
       "    </tr>\n",
       "    <tr>\n",
       "      <td>4</td>\n",
       "      <td>9</td>\n",
       "      <td>2019-09-21</td>\n",
       "      <td>JuventusTurin</td>\n",
       "      <td>SerieA</td>\n",
       "      <td>2-1</td>\n",
       "      <td>HellasVérone</td>\n",
       "      <td>2</td>\n",
       "      <td>1</td>\n",
       "      <td>JUVENTUS TURIN</td>\n",
       "      <td>V</td>\n",
       "      <td>Championnat</td>\n",
       "    </tr>\n",
       "    <tr>\n",
       "      <td>...</td>\n",
       "      <td>...</td>\n",
       "      <td>...</td>\n",
       "      <td>...</td>\n",
       "      <td>...</td>\n",
       "      <td>...</td>\n",
       "      <td>...</td>\n",
       "      <td>...</td>\n",
       "      <td>...</td>\n",
       "      <td>...</td>\n",
       "      <td>...</td>\n",
       "      <td>...</td>\n",
       "    </tr>\n",
       "    <tr>\n",
       "      <td>118</td>\n",
       "      <td>12</td>\n",
       "      <td>2019-12-12</td>\n",
       "      <td>ASRome</td>\n",
       "      <td>C3</td>\n",
       "      <td>2-2</td>\n",
       "      <td>WolfsbergerAC</td>\n",
       "      <td>2</td>\n",
       "      <td>2</td>\n",
       "      <td>AS ROME</td>\n",
       "      <td>N</td>\n",
       "      <td>C3</td>\n",
       "    </tr>\n",
       "    <tr>\n",
       "      <td>119</td>\n",
       "      <td>12</td>\n",
       "      <td>2019-12-15</td>\n",
       "      <td>ASRome</td>\n",
       "      <td>SerieA</td>\n",
       "      <td>3-1</td>\n",
       "      <td>SPAL</td>\n",
       "      <td>3</td>\n",
       "      <td>1</td>\n",
       "      <td>AS ROME</td>\n",
       "      <td>V</td>\n",
       "      <td>Championnat</td>\n",
       "    </tr>\n",
       "    <tr>\n",
       "      <td>120</td>\n",
       "      <td>12</td>\n",
       "      <td>2019-12-20</td>\n",
       "      <td>Fiorentina</td>\n",
       "      <td>SerieA</td>\n",
       "      <td>1-4</td>\n",
       "      <td>ASRome</td>\n",
       "      <td>1</td>\n",
       "      <td>4</td>\n",
       "      <td>AS ROME</td>\n",
       "      <td>V</td>\n",
       "      <td>Championnat</td>\n",
       "    </tr>\n",
       "    <tr>\n",
       "      <td>121</td>\n",
       "      <td>5</td>\n",
       "      <td>2020-05-01</td>\n",
       "      <td>ASRome</td>\n",
       "      <td>SerieA</td>\n",
       "      <td>0-2</td>\n",
       "      <td>Torino</td>\n",
       "      <td>0</td>\n",
       "      <td>2</td>\n",
       "      <td>AS ROME</td>\n",
       "      <td>D</td>\n",
       "      <td>Championnat</td>\n",
       "    </tr>\n",
       "    <tr>\n",
       "      <td>122</td>\n",
       "      <td>12</td>\n",
       "      <td>2020-12-01</td>\n",
       "      <td>ASRome</td>\n",
       "      <td>SerieA</td>\n",
       "      <td>1-2</td>\n",
       "      <td>JuventusTurin</td>\n",
       "      <td>1</td>\n",
       "      <td>2</td>\n",
       "      <td>AS ROME</td>\n",
       "      <td>D</td>\n",
       "      <td>Championnat</td>\n",
       "    </tr>\n",
       "  </tbody>\n",
       "</table>\n",
       "<p>123 rows × 11 columns</p>\n",
       "</div>"
      ],
      "text/plain": [
       "     mois       date           equipe1 competition score        equipe2  \\\n",
       "0       8 2019-08-24             Parme      SerieA   0-1  JuventusTurin   \n",
       "1       8 2019-08-31     JuventusTurin      SerieA   4-3         Naples   \n",
       "2       9 2019-09-14        Fiorentina      SerieA   0-0  JuventusTurin   \n",
       "3       9 2019-09-18  AtléticodeMadrid         LDC   2-2  JuventusTurin   \n",
       "4       9 2019-09-21     JuventusTurin      SerieA   2-1   HellasVérone   \n",
       "..    ...        ...               ...         ...   ...            ...   \n",
       "118    12 2019-12-12            ASRome          C3   2-2  WolfsbergerAC   \n",
       "119    12 2019-12-15            ASRome      SerieA   3-1           SPAL   \n",
       "120    12 2019-12-20        Fiorentina      SerieA   1-4         ASRome   \n",
       "121     5 2020-05-01            ASRome      SerieA   0-2         Torino   \n",
       "122    12 2020-12-01            ASRome      SerieA   1-2  JuventusTurin   \n",
       "\n",
       "     equipe1_goal  equipe2_goal      equipe_REF Bilan Competition_bis  \n",
       "0               0             1  JUVENTUS TURIN     V     Championnat  \n",
       "1               4             3  JUVENTUS TURIN     V     Championnat  \n",
       "2               0             0  JUVENTUS TURIN     N     Championnat  \n",
       "3               2             2  JUVENTUS TURIN     N             LDC  \n",
       "4               2             1  JUVENTUS TURIN     V     Championnat  \n",
       "..            ...           ...             ...   ...             ...  \n",
       "118             2             2         AS ROME     N              C3  \n",
       "119             3             1         AS ROME     V     Championnat  \n",
       "120             1             4         AS ROME     V     Championnat  \n",
       "121             0             2         AS ROME     D     Championnat  \n",
       "122             1             2         AS ROME     D     Championnat  \n",
       "\n",
       "[123 rows x 11 columns]"
      ]
     },
     "execution_count": 410,
     "metadata": {},
     "output_type": "execute_result"
    }
   ],
   "source": [
    "serie_a"
   ]
  },
  {
   "cell_type": "markdown",
   "metadata": {},
   "source": [
    "# Pour finir au top 5 allemands"
   ]
  },
  {
   "cell_type": "code",
   "execution_count": 411,
   "metadata": {},
   "outputs": [],
   "source": [
    "chemin_BAY = \"https://www.lequipe.fr/Football/FootballFicheEquipe50.html\"\n",
    "chemin_BVD = \"https://www.lequipe.fr/Football/FootballFicheEquipe53.html\"\n",
    "chemin_LEV = \"https://www.lequipe.fr/Football/FootballFicheEquipe67.html\"\n",
    "chemin_WOL = \"https://www.lequipe.fr/Football/FootballFicheEquipe57.html\"\n",
    "chemin_LEI = \"https://www.lequipe.fr/Football/FootballFicheEquipe6994.html\""
   ]
  },
  {
   "cell_type": "code",
   "execution_count": 412,
   "metadata": {},
   "outputs": [
    {
     "name": "stdout",
     "output_type": "stream",
     "text": [
      "Tout s'est bien passé\n",
      "Tout s'est bien passé\n",
      "Tout s'est bien passé\n",
      "Tout s'est bien passé\n",
      "Tout s'est bien passé\n"
     ]
    }
   ],
   "source": [
    "page_BAY = get(chemin_BAY)\n",
    "page_BVD = get(chemin_BVD)\n",
    "page_LEV = get(chemin_LEV)\n",
    "page_WOL = get(chemin_WOL)\n",
    "page_LEI = get(chemin_LEI)\n",
    "\n",
    "if page_BAY.status_code == 200:\n",
    "    print(\"Tout s'est bien passé\")\n",
    "else:\n",
    "    print(\"Problème de récupération\")\n",
    "\n",
    "if page_BVD.status_code == 200:\n",
    "    print(\"Tout s'est bien passé\")\n",
    "else:\n",
    "    print(\"Problème de récupération\")\n",
    "    \n",
    "if page_LEV.status_code == 200:\n",
    "    print(\"Tout s'est bien passé\")\n",
    "else:\n",
    "    print(\"Problème de récupération\")\n",
    "    \n",
    "if page_WOL.status_code == 200:\n",
    "    print(\"Tout s'est bien passé\")\n",
    "else:\n",
    "    print(\"Problème de récupération\")\n",
    "\n",
    "if page_LEI.status_code == 200:\n",
    "    print(\"Tout s'est bien passé\")\n",
    "else:\n",
    "    print(\"Problème de récupération\")"
   ]
  },
  {
   "cell_type": "code",
   "execution_count": 413,
   "metadata": {},
   "outputs": [],
   "source": [
    "texte_BAY = page_BAY.text\n",
    "texte_BVD = page_BVD.text\n",
    "texte_LEV = page_LEV.text\n",
    "texte_WOL = page_WOL.text\n",
    "texte_LEI = page_LEI.text"
   ]
  },
  {
   "cell_type": "code",
   "execution_count": 414,
   "metadata": {},
   "outputs": [],
   "source": [
    "arbre_BAY = bs4.BeautifulSoup(texte_BAY, \"lxml\")\n",
    "arbre_BVD = bs4.BeautifulSoup(texte_BVD, \"lxml\")\n",
    "arbre_LEV = bs4.BeautifulSoup(texte_LEV, \"lxml\")\n",
    "arbre_WOL = bs4.BeautifulSoup(texte_WOL, \"lxml\")\n",
    "arbre_LEI = bs4.BeautifulSoup(texte_LEI, \"lxml\")"
   ]
  },
  {
   "cell_type": "code",
   "execution_count": 415,
   "metadata": {},
   "outputs": [],
   "source": [
    "club_BAY = arbre_BAY.h1.text.replace(\"\\n\", \"\")\n",
    "club_BVD = arbre_BVD.h1.text.replace(\"\\n\", \"\")\n",
    "club_LEV = arbre_LEV.h1.text.replace(\"\\n\", \"\")\n",
    "club_WOL = arbre_WOL.h1.text.replace(\"\\n\", \"\")\n",
    "club_LEI = arbre_LEI.h1.text.replace(\"\\n\", \"\")"
   ]
  },
  {
   "cell_type": "code",
   "execution_count": 416,
   "metadata": {},
   "outputs": [
    {
     "name": "stdout",
     "output_type": "stream",
     "text": [
      "BAYERN MUNICH\n",
      "BORUSSIA DORTMUND\n",
      "BAYER LEVERKUSEN\n",
      "WOLFSBURG\n",
      "RB LEIPZIG\n"
     ]
    }
   ],
   "source": [
    "print(club_BAY)\n",
    "print(club_BVD)\n",
    "print(club_LEV)\n",
    "print(club_WOL)\n",
    "print(club_LEI)"
   ]
  },
  {
   "cell_type": "code",
   "execution_count": 417,
   "metadata": {},
   "outputs": [
    {
     "data": {
      "text/plain": [
       "'<section class=\"Palmares calendrierclub\"><h2 class=\"titre-barre category-expand\">Calendrier Rb Leipzig</h2><section class=\"data-content category-expand-list\"> <!-- content --><table><tr><td class=\"titre-ss-barre\" colspan=\"5\">Résultats 2019-2020</td></tr> <tr class=\"alternate1\"> <td class=\"date\">26/07/19</td> <td class=\"competition\"><strong>MA</strong> <br/><strong>Matches amicaux L1</strong> <br/>Matches amicaux</td><td class=\"equipe equipe1\"><a href=\"/Football/FootballFicheClub6994.html#POUSSE\"> <strong>RB Leipzig</strong></a><a></a></td><td class=\"score\"><a href=\"/Football/match-direct/matches-amicaux-l1-intersaison/2019-2020/rb-leipzig-rennes-live/458102#POUSSE\"><strong><span style=\"color: #38B013\">2-0<span style=\"font-size:0.625rem;\"></span></span></strong></a></td><td class=\"equipe equipe2\"><a href=\"/Football/FootballFicheClub14.html#POUSSE\">          Rennes         </a> </td> </tr> <tr class=\"alternate2\"> <td class=\"date\">11/08/19</td> <td class=\"competition\"><strong>CN</strong> '"
      ]
     },
     "execution_count": 417,
     "metadata": {},
     "output_type": "execute_result"
    }
   ],
   "source": [
    "div_fille_BAY = arbre_BAY.find(id=\"container\").find(class_=\"Palmares calendrierclub\")\n",
    "str(div_fille_BAY)[0:1000]\n",
    "div_fille_BVD = arbre_BVD.find(id=\"container\").find(class_=\"Palmares calendrierclub\")\n",
    "str(div_fille_BVD)[0:1000]\n",
    "div_fille_LEV = arbre_LEV.find(id=\"container\").find(class_=\"Palmares calendrierclub\")\n",
    "str(div_fille_LEV)[0:1000]\n",
    "div_fille_WOL = arbre_WOL.find(id=\"container\").find(class_=\"Palmares calendrierclub\")\n",
    "str(div_fille_WOL)[0:1000]\n",
    "div_fille_LEI = arbre_LEI.find(id=\"container\").find(class_=\"Palmares calendrierclub\")\n",
    "str(div_fille_LEI)[0:1000]"
   ]
  },
  {
   "cell_type": "code",
   "execution_count": 418,
   "metadata": {},
   "outputs": [
    {
     "name": "stdout",
     "output_type": "stream",
     "text": [
      "27\n",
      "27\n",
      "26\n",
      "27\n",
      "27\n"
     ]
    }
   ],
   "source": [
    "liste = []\n",
    "liste.append(div_fille_BAY)\n",
    "liste.append(div_fille_BVD)\n",
    "liste.append(div_fille_LEV)\n",
    "liste.append(div_fille_WOL)\n",
    "liste.append(div_fille_LEI)\n",
    "for car in liste:\n",
    "    all_ads = car.find(\"table\").findAll(\"tr\")\n",
    "    print(len(all_ads))"
   ]
  },
  {
   "cell_type": "code",
   "execution_count": 419,
   "metadata": {},
   "outputs": [],
   "source": [
    "list_all_ads_BAY = []\n",
    "for ads in all_ads_BAY:\n",
    "    date = ads.find_next(class_=\"date\")\n",
    "    competition = ads.find_next(class_=\"competition\")\n",
    "    equipe1 = ads.find_next(class_=\"equipe equipe1\")\n",
    "    score = ads.find_next(class_=\"score\")\n",
    "    equipe2 = ads.find_next(class_=\"equipe equipe2\")\n",
    "    list_all_ads_BAY = []\n",
    "for ads in all_ads_BAY:\n",
    "    date = ads.find_next(class_=\"date\")\n",
    "    competition = ads.find_next(class_=\"competition\")\n",
    "    equipe1 = ads.find_next(class_=\"equipe equipe1\")\n",
    "    score = ads.find_next(class_=\"score\", )\n",
    "    equipe2 = ads.find_next(class_=\"equipe equipe2\")\n",
    "    list_all_ads_BAY.append({\"mois\":pd.to_datetime(date.text).month,\n",
    "                         \"date\":pd.to_datetime(date.text),\n",
    "                         \"equipe1\":equipe1.text.replace(\" \",\"\") ,\n",
    "                         \"competition\":competition.text[0:2],\n",
    "                         \"score\":score.text,\n",
    "                         \"equipe2\":equipe2.text.replace(\" \",\"\"),\n",
    "                         \"equipe1_goal\":pd.to_numeric(score.text[0]),\n",
    "                         \"equipe2_goal\":pd.to_numeric(score.text[2]),\n",
    "                         \"equipe_REF\" : club_BAY,\n",
    "                        })\n",
    "    \n",
    "list_all_ads_BVD = []\n",
    "for ads in all_ads_BVD:\n",
    "    date = ads.find_next(class_=\"date\")\n",
    "    competition = ads.find_next(class_=\"competition\")\n",
    "    equipe1 = ads.find_next(class_=\"equipe equipe1\")\n",
    "    score = ads.find_next(class_=\"score\")\n",
    "    equipe2 = ads.find_next(class_=\"equipe equipe2\")\n",
    "    list_all_ads_BVD = []\n",
    "for ads in all_ads_BVD:\n",
    "    date = ads.find_next(class_=\"date\")\n",
    "    competition = ads.find_next(class_=\"competition\")\n",
    "    equipe1 = ads.find_next(class_=\"equipe equipe1\")\n",
    "    score = ads.find_next(class_=\"score\", )\n",
    "    equipe2 = ads.find_next(class_=\"equipe equipe2\")\n",
    "    list_all_ads_BVD.append({\"mois\":pd.to_datetime(date.text).month,\n",
    "                         \"date\":pd.to_datetime(date.text),\n",
    "                         \"equipe1\":equipe1.text.replace(\" \",\"\") ,\n",
    "                         \"competition\":competition.text[0:2],\n",
    "                         \"score\":score.text,\n",
    "                         \"equipe2\":equipe2.text.replace(\" \",\"\"),\n",
    "                         \"equipe1_goal\":pd.to_numeric(score.text[0]),\n",
    "                         \"equipe2_goal\":pd.to_numeric(score.text[2]),\n",
    "                         \"equipe_REF\" : club_BVD,\n",
    "                        })\n",
    "    \n",
    "list_all_ads_LEV = []\n",
    "for ads in all_ads_LEV:\n",
    "    date = ads.find_next(class_=\"date\")\n",
    "    competition = ads.find_next(class_=\"competition\")\n",
    "    equipe1 = ads.find_next(class_=\"equipe equipe1\")\n",
    "    score = ads.find_next(class_=\"score\")\n",
    "    equipe2 = ads.find_next(class_=\"equipe equipe2\")\n",
    "    list_all_ads_LEV = []\n",
    "for ads in all_ads_LEV:\n",
    "    date = ads.find_next(class_=\"date\")\n",
    "    competition = ads.find_next(class_=\"competition\")\n",
    "    equipe1 = ads.find_next(class_=\"equipe equipe1\")\n",
    "    score = ads.find_next(class_=\"score\", )\n",
    "    equipe2 = ads.find_next(class_=\"equipe equipe2\")\n",
    "    list_all_ads_LEV.append({\"mois\":pd.to_datetime(date.text).month,\n",
    "                         \"date\":pd.to_datetime(date.text),\n",
    "                         \"equipe1\":equipe1.text.replace(\" \",\"\") ,\n",
    "                         \"competition\":competition.text[0:2],\n",
    "                         \"score\":score.text,\n",
    "                         \"equipe2\":equipe2.text.replace(\" \",\"\"),\n",
    "                         \"equipe1_goal\":pd.to_numeric(score.text[0]),\n",
    "                         \"equipe2_goal\":pd.to_numeric(score.text[2]),\n",
    "                         \"equipe_REF\" : club_LEV,\n",
    "                        })\n",
    "    \n",
    "list_all_ads_WOL = []\n",
    "for ads in all_ads_WOL:\n",
    "    date = ads.find_next(class_=\"date\")\n",
    "    competition = ads.find_next(class_=\"competition\")\n",
    "    equipe1 = ads.find_next(class_=\"equipe equipe1\")\n",
    "    score = ads.find_next(class_=\"score\")\n",
    "    equipe2 = ads.find_next(class_=\"equipe equipe2\")\n",
    "    list_all_ads_WOL = []\n",
    "for ads in all_ads_WOL:\n",
    "    date = ads.find_next(class_=\"date\")\n",
    "    competition = ads.find_next(class_=\"competition\")\n",
    "    equipe1 = ads.find_next(class_=\"equipe equipe1\")\n",
    "    score = ads.find_next(class_=\"score\", )\n",
    "    equipe2 = ads.find_next(class_=\"equipe equipe2\")\n",
    "    list_all_ads_WOL.append({\"mois\":pd.to_datetime(date.text).month,\n",
    "                         \"date\":pd.to_datetime(date.text),\n",
    "                         \"equipe1\":equipe1.text.replace(\" \",\"\") ,\n",
    "                         \"competition\":competition.text[0:2],\n",
    "                         \"score\":score.text,\n",
    "                         \"equipe2\":equipe2.text.replace(\" \",\"\"),\n",
    "                         \"equipe1_goal\":pd.to_numeric(score.text[0]),\n",
    "                         \"equipe2_goal\":pd.to_numeric(score.text[2]),\n",
    "                         \"equipe_REF\" : club_WOL,\n",
    "                        })\n",
    "    \n",
    "list_all_ads_LEI = []\n",
    "for ads in all_ads_LEI:\n",
    "    date = ads.find_next(class_=\"date\")\n",
    "    competition = ads.find_next(class_=\"competition\")\n",
    "    equipe1 = ads.find_next(class_=\"equipe equipe1\")\n",
    "    score = ads.find_next(class_=\"score\")\n",
    "    equipe2 = ads.find_next(class_=\"equipe equipe2\")\n",
    "    list_all_ads_LEI = []\n",
    "for ads in all_ads_LEI:\n",
    "    date = ads.find_next(class_=\"date\")\n",
    "    competition = ads.find_next(class_=\"competition\")\n",
    "    equipe1 = ads.find_next(class_=\"equipe equipe1\")\n",
    "    score = ads.find_next(class_=\"score\", )\n",
    "    equipe2 = ads.find_next(class_=\"equipe equipe2\")\n",
    "    list_all_ads_LEI.append({\"mois\":pd.to_datetime(date.text).month,\n",
    "                         \"date\":pd.to_datetime(date.text),\n",
    "                         \"equipe1\":equipe1.text.replace(\" \",\"\") ,\n",
    "                         \"competition\":competition.text[0:2],\n",
    "                         \"score\":score.text,\n",
    "                         \"equipe2\":equipe2.text.replace(\" \",\"\"),\n",
    "                         \"equipe1_goal\":pd.to_numeric(score.text[0]),\n",
    "                         \"equipe2_goal\":pd.to_numeric(score.text[2]),\n",
    "                         \"equipe_REF\" : club_LEI,\n",
    "                        })"
   ]
  },
  {
   "cell_type": "code",
   "execution_count": 420,
   "metadata": {},
   "outputs": [],
   "source": [
    "df_match_BAY = pd.DataFrame(list_all_ads_BAY)\n",
    "df_match_BVD = pd.DataFrame(list_all_ads_BVD)\n",
    "df_match_LEV = pd.DataFrame(list_all_ads_LEV)\n",
    "df_match_WOL = pd.DataFrame(list_all_ads_WOL)\n",
    "df_match_LEI = pd.DataFrame(list_all_ads_LEI)"
   ]
  },
  {
   "cell_type": "code",
   "execution_count": 421,
   "metadata": {},
   "outputs": [],
   "source": [
    "df_match_BAY = df_match_BAY.drop([0,0],axis=0)\n",
    "df_match_BVD = df_match_BVD.drop([0,0],axis=0)\n",
    "df_match_LEV = df_match_LEV.drop([0,0],axis=0)\n",
    "df_match_WOL = df_match_WOL.drop([0,0],axis=0)\n",
    "df_match_LEI = df_match_LEI.drop([0,0],axis=0)"
   ]
  },
  {
   "cell_type": "code",
   "execution_count": 422,
   "metadata": {},
   "outputs": [],
   "source": [
    "df_match_BAY.loc[(df_match_BAY.equipe1 == \"BayernMunich\") & (df_match_BAY.equipe1_goal > df_match_BAY.equipe2_goal), 'Bilan'] = 'V'\n",
    "df_match_BAY.loc[(df_match_BAY.equipe1 == \"BayernMunich\") & (df_match_BAY.equipe1_goal < df_match_BAY.equipe2_goal), 'Bilan'] = 'D'\n",
    "df_match_BAY.loc[(df_match_BAY.equipe1 == \"BayernMunich\") & (df_match_BAY.equipe1_goal == df_match_BAY.equipe2_goal), 'Bilan'] = 'N'\n",
    "df_match_BAY.loc[(df_match_BAY.equipe2 == \"BayernMunich\") & (df_match_BAY.equipe1_goal > df_match_BAY.equipe2_goal), 'Bilan'] = 'D'\n",
    "df_match_BAY.loc[(df_match_BAY.equipe2 == \"BayernMunich\") & (df_match_BAY.equipe1_goal < df_match_BAY.equipe2_goal), 'Bilan'] = 'V'\n",
    "df_match_BAY.loc[(df_match_BAY.equipe2 == \"BayernMunich\") & (df_match_BAY.equipe1_goal == df_match_BAY.equipe2_goal), 'Bilan'] = 'N'\n",
    "\n",
    "df_match_BVD.loc[(df_match_BVD.equipe1 == \"BorussiaDortmund\") & (df_match_BVD.equipe1_goal > df_match_BVD.equipe2_goal), 'Bilan'] = 'V'\n",
    "df_match_BVD.loc[(df_match_BVD.equipe1 == \"BorussiaDortmund\") & (df_match_BVD.equipe1_goal < df_match_BVD.equipe2_goal), 'Bilan'] = 'D'\n",
    "df_match_BVD.loc[(df_match_BVD.equipe1 == \"BorussiaDortmund\") & (df_match_BVD.equipe1_goal == df_match_BVD.equipe2_goal), 'Bilan'] = 'N'\n",
    "df_match_BVD.loc[(df_match_BVD.equipe2 == \"BorussiaDortmund\") & (df_match_BVD.equipe1_goal > df_match_BVD.equipe2_goal), 'Bilan'] = 'D'\n",
    "df_match_BVD.loc[(df_match_BVD.equipe2 == \"BorussiaDortmund\") & (df_match_BVD.equipe1_goal < df_match_BVD.equipe2_goal), 'Bilan'] = 'V'\n",
    "df_match_BVD.loc[(df_match_BVD.equipe2 == \"BorussiaDortmund\") & (df_match_BVD.equipe1_goal == df_match_BVD.equipe2_goal), 'Bilan'] = 'N'\n",
    "\n",
    "df_match_LEV.loc[(df_match_LEV.equipe1 == \"BayerLeverkusen\") & (df_match_LEV.equipe1_goal > df_match_LEV.equipe2_goal), 'Bilan'] = 'V'\n",
    "df_match_LEV.loc[(df_match_LEV.equipe1 == \"BayerLeverkusen\") & (df_match_LEV.equipe1_goal < df_match_LEV.equipe2_goal), 'Bilan'] = 'D'\n",
    "df_match_LEV.loc[(df_match_LEV.equipe1 == \"BayerLeverkusen\") & (df_match_LEV.equipe1_goal == df_match_LEV.equipe2_goal), 'Bilan'] = 'N'\n",
    "df_match_LEV.loc[(df_match_LEV.equipe2 == \"BayerLeverkusen\") & (df_match_LEV.equipe1_goal > df_match_LEV.equipe2_goal), 'Bilan'] = 'D'\n",
    "df_match_LEV.loc[(df_match_LEV.equipe2 == \"BayerLeverkusen\") & (df_match_LEV.equipe1_goal < df_match_LEV.equipe2_goal), 'Bilan'] = 'V'\n",
    "df_match_LEV.loc[(df_match_LEV.equipe2 == \"BayerLeverkusen\") & (df_match_LEV.equipe1_goal == df_match_LEV.equipe2_goal), 'Bilan'] = 'N'\n",
    "\n",
    "df_match_WOL.loc[(df_match_WOL.equipe1 == \"Wolfsburg\") & (df_match_WOL.equipe1_goal > df_match_WOL.equipe2_goal), 'Bilan'] = 'V'\n",
    "df_match_WOL.loc[(df_match_WOL.equipe1 == \"Wolfsburg\") & (df_match_WOL.equipe1_goal < df_match_WOL.equipe2_goal), 'Bilan'] = 'D'\n",
    "df_match_WOL.loc[(df_match_WOL.equipe1 == \"Wolfsburg\") & (df_match_WOL.equipe1_goal == df_match_WOL.equipe2_goal), 'Bilan'] = 'N'\n",
    "df_match_WOL.loc[(df_match_WOL.equipe2 == \"Wolfsburg\") & (df_match_WOL.equipe1_goal > df_match_WOL.equipe2_goal), 'Bilan'] = 'D'\n",
    "df_match_WOL.loc[(df_match_WOL.equipe2 == \"Wolfsburg\") & (df_match_WOL.equipe1_goal < df_match_WOL.equipe2_goal), 'Bilan'] = 'V'\n",
    "df_match_WOL.loc[(df_match_WOL.equipe2 == \"Wolfsburg\") & (df_match_WOL.equipe1_goal == df_match_WOL.equipe2_goal), 'Bilan'] = 'N'\n",
    "\n",
    "df_match_LEI.loc[(df_match_LEI.equipe1 == \"RBLeipzig\") & (df_match_LEI.equipe1_goal > df_match_LEI.equipe2_goal), 'Bilan'] = 'V'\n",
    "df_match_LEI.loc[(df_match_LEI.equipe1 == \"RBLeipzig\") & (df_match_LEI.equipe1_goal < df_match_LEI.equipe2_goal), 'Bilan'] = 'D'\n",
    "df_match_LEI.loc[(df_match_LEI.equipe1 == \"RBLeipzig\") & (df_match_LEI.equipe1_goal == df_match_LEI.equipe2_goal), 'Bilan'] = 'N'\n",
    "df_match_LEI.loc[(df_match_LEI.equipe2 == \"RBLeipzig\") & (df_match_LEI.equipe1_goal > df_match_LEI.equipe2_goal), 'Bilan'] = 'D'\n",
    "df_match_LEI.loc[(df_match_LEI.equipe2 == \"RBLeipzig\") & (df_match_LEI.equipe1_goal < df_match_LEI.equipe2_goal), 'Bilan'] = 'V'\n",
    "df_match_LEI.loc[(df_match_LEI.equipe2 == \"RBLeipzig\") & (df_match_LEI.equipe1_goal == df_match_LEI.equipe2_goal), 'Bilan'] = 'N'"
   ]
  },
  {
   "cell_type": "markdown",
   "metadata": {},
   "source": [
    "# Jointure clubs allemands"
   ]
  },
  {
   "cell_type": "code",
   "execution_count": 423,
   "metadata": {},
   "outputs": [],
   "source": [
    "bundes_Liga = pd.concat([df_match_BAY,df_match_BVD,df_match_LEV,df_match_WOL, df_match_LEI],ignore_index = True)"
   ]
  },
  {
   "cell_type": "code",
   "execution_count": 424,
   "metadata": {},
   "outputs": [],
   "source": [
    "bundes_Liga['competition'] = bundes_Liga['competition'].apply({'CH':'Bundes', 'C1':'LDC', 'C3':'C3', 'MA':'MA', 'SC':'SC', 'CN':'CN'}.get)"
   ]
  },
  {
   "cell_type": "code",
   "execution_count": 425,
   "metadata": {},
   "outputs": [],
   "source": [
    "bundes_Liga.loc[(bundes_Liga.competition == 'MA'), 'Competition_bis'] = 'Amicaux'\n",
    "bundes_Liga.loc[(bundes_Liga.competition == 'SC'), 'Competition_bis'] = 'CoupeNat'\n",
    "bundes_Liga.loc[(bundes_Liga.competition == 'CN'), 'Competition_bis'] = 'CoupeNat'\n",
    "bundes_Liga.loc[(bundes_Liga.competition == 'Bundes'), 'Competition_bis'] = 'Championnat'\n",
    "bundes_Liga.loc[(bundes_Liga.competition == 'LDC'), 'Competition_bis'] = 'LDC'\n",
    "bundes_Liga.loc[(bundes_Liga.competition == 'C3'), 'Competition_bis'] = 'C3'"
   ]
  },
  {
   "cell_type": "code",
   "execution_count": 426,
   "metadata": {
    "scrolled": true
   },
   "outputs": [
    {
     "data": {
      "text/html": [
       "<div>\n",
       "<style scoped>\n",
       "    .dataframe tbody tr th:only-of-type {\n",
       "        vertical-align: middle;\n",
       "    }\n",
       "\n",
       "    .dataframe tbody tr th {\n",
       "        vertical-align: top;\n",
       "    }\n",
       "\n",
       "    .dataframe thead th {\n",
       "        text-align: right;\n",
       "    }\n",
       "</style>\n",
       "<table border=\"1\" class=\"dataframe\">\n",
       "  <thead>\n",
       "    <tr style=\"text-align: right;\">\n",
       "      <th></th>\n",
       "      <th>mois</th>\n",
       "      <th>date</th>\n",
       "      <th>equipe1</th>\n",
       "      <th>competition</th>\n",
       "      <th>score</th>\n",
       "      <th>equipe2</th>\n",
       "      <th>equipe1_goal</th>\n",
       "      <th>equipe2_goal</th>\n",
       "      <th>equipe_REF</th>\n",
       "      <th>Bilan</th>\n",
       "      <th>Competition_bis</th>\n",
       "    </tr>\n",
       "  </thead>\n",
       "  <tbody>\n",
       "    <tr>\n",
       "      <td>0</td>\n",
       "      <td>3</td>\n",
       "      <td>2019-03-08</td>\n",
       "      <td>BorussiaDortmund</td>\n",
       "      <td>SC</td>\n",
       "      <td>2-0</td>\n",
       "      <td>BayernMunich</td>\n",
       "      <td>2</td>\n",
       "      <td>0</td>\n",
       "      <td>BAYERN MUNICH</td>\n",
       "      <td>D</td>\n",
       "      <td>CoupeNat</td>\n",
       "    </tr>\n",
       "    <tr>\n",
       "      <td>1</td>\n",
       "      <td>12</td>\n",
       "      <td>2019-12-08</td>\n",
       "      <td>EnergieCottbus</td>\n",
       "      <td>CN</td>\n",
       "      <td>1-3</td>\n",
       "      <td>BayernMunich</td>\n",
       "      <td>1</td>\n",
       "      <td>3</td>\n",
       "      <td>BAYERN MUNICH</td>\n",
       "      <td>V</td>\n",
       "      <td>CoupeNat</td>\n",
       "    </tr>\n",
       "    <tr>\n",
       "      <td>2</td>\n",
       "      <td>8</td>\n",
       "      <td>2019-08-16</td>\n",
       "      <td>BayernMunich</td>\n",
       "      <td>Bundes</td>\n",
       "      <td>2-2</td>\n",
       "      <td>HerthaBerlin</td>\n",
       "      <td>2</td>\n",
       "      <td>2</td>\n",
       "      <td>BAYERN MUNICH</td>\n",
       "      <td>N</td>\n",
       "      <td>Championnat</td>\n",
       "    </tr>\n",
       "    <tr>\n",
       "      <td>3</td>\n",
       "      <td>8</td>\n",
       "      <td>2019-08-24</td>\n",
       "      <td>Schalke04</td>\n",
       "      <td>Bundes</td>\n",
       "      <td>0-3</td>\n",
       "      <td>BayernMunich</td>\n",
       "      <td>0</td>\n",
       "      <td>3</td>\n",
       "      <td>BAYERN MUNICH</td>\n",
       "      <td>V</td>\n",
       "      <td>Championnat</td>\n",
       "    </tr>\n",
       "    <tr>\n",
       "      <td>4</td>\n",
       "      <td>8</td>\n",
       "      <td>2019-08-31</td>\n",
       "      <td>BayernMunich</td>\n",
       "      <td>Bundes</td>\n",
       "      <td>6-1</td>\n",
       "      <td>Mayence</td>\n",
       "      <td>6</td>\n",
       "      <td>1</td>\n",
       "      <td>BAYERN MUNICH</td>\n",
       "      <td>V</td>\n",
       "      <td>Championnat</td>\n",
       "    </tr>\n",
       "    <tr>\n",
       "      <td>...</td>\n",
       "      <td>...</td>\n",
       "      <td>...</td>\n",
       "      <td>...</td>\n",
       "      <td>...</td>\n",
       "      <td>...</td>\n",
       "      <td>...</td>\n",
       "      <td>...</td>\n",
       "      <td>...</td>\n",
       "      <td>...</td>\n",
       "      <td>...</td>\n",
       "      <td>...</td>\n",
       "    </tr>\n",
       "    <tr>\n",
       "      <td>124</td>\n",
       "      <td>7</td>\n",
       "      <td>2019-07-12</td>\n",
       "      <td>RBLeipzig</td>\n",
       "      <td>Bundes</td>\n",
       "      <td>3-1</td>\n",
       "      <td>Hoffenheim</td>\n",
       "      <td>3</td>\n",
       "      <td>1</td>\n",
       "      <td>RB LEIPZIG</td>\n",
       "      <td>V</td>\n",
       "      <td>Championnat</td>\n",
       "    </tr>\n",
       "    <tr>\n",
       "      <td>125</td>\n",
       "      <td>10</td>\n",
       "      <td>2019-10-12</td>\n",
       "      <td>Lyon</td>\n",
       "      <td>LDC</td>\n",
       "      <td>2-2</td>\n",
       "      <td>RBLeipzig</td>\n",
       "      <td>2</td>\n",
       "      <td>2</td>\n",
       "      <td>RB LEIPZIG</td>\n",
       "      <td>N</td>\n",
       "      <td>LDC</td>\n",
       "    </tr>\n",
       "    <tr>\n",
       "      <td>126</td>\n",
       "      <td>12</td>\n",
       "      <td>2019-12-14</td>\n",
       "      <td>FortunaDüsseldorf</td>\n",
       "      <td>Bundes</td>\n",
       "      <td>0-3</td>\n",
       "      <td>RBLeipzig</td>\n",
       "      <td>0</td>\n",
       "      <td>3</td>\n",
       "      <td>RB LEIPZIG</td>\n",
       "      <td>V</td>\n",
       "      <td>Championnat</td>\n",
       "    </tr>\n",
       "    <tr>\n",
       "      <td>127</td>\n",
       "      <td>12</td>\n",
       "      <td>2019-12-17</td>\n",
       "      <td>BorussiaDortmund</td>\n",
       "      <td>Bundes</td>\n",
       "      <td>3-3</td>\n",
       "      <td>RBLeipzig</td>\n",
       "      <td>3</td>\n",
       "      <td>3</td>\n",
       "      <td>RB LEIPZIG</td>\n",
       "      <td>N</td>\n",
       "      <td>Championnat</td>\n",
       "    </tr>\n",
       "    <tr>\n",
       "      <td>128</td>\n",
       "      <td>12</td>\n",
       "      <td>2019-12-21</td>\n",
       "      <td>RBLeipzig</td>\n",
       "      <td>Bundes</td>\n",
       "      <td>3-1</td>\n",
       "      <td>Augsbourg</td>\n",
       "      <td>3</td>\n",
       "      <td>1</td>\n",
       "      <td>RB LEIPZIG</td>\n",
       "      <td>V</td>\n",
       "      <td>Championnat</td>\n",
       "    </tr>\n",
       "  </tbody>\n",
       "</table>\n",
       "<p>129 rows × 11 columns</p>\n",
       "</div>"
      ],
      "text/plain": [
       "     mois       date            equipe1 competition score       equipe2  \\\n",
       "0       3 2019-03-08   BorussiaDortmund          SC   2-0  BayernMunich   \n",
       "1      12 2019-12-08     EnergieCottbus          CN   1-3  BayernMunich   \n",
       "2       8 2019-08-16       BayernMunich      Bundes   2-2  HerthaBerlin   \n",
       "3       8 2019-08-24          Schalke04      Bundes   0-3  BayernMunich   \n",
       "4       8 2019-08-31       BayernMunich      Bundes   6-1       Mayence   \n",
       "..    ...        ...                ...         ...   ...           ...   \n",
       "124     7 2019-07-12          RBLeipzig      Bundes   3-1    Hoffenheim   \n",
       "125    10 2019-10-12               Lyon         LDC   2-2     RBLeipzig   \n",
       "126    12 2019-12-14  FortunaDüsseldorf      Bundes   0-3     RBLeipzig   \n",
       "127    12 2019-12-17   BorussiaDortmund      Bundes   3-3     RBLeipzig   \n",
       "128    12 2019-12-21          RBLeipzig      Bundes   3-1     Augsbourg   \n",
       "\n",
       "     equipe1_goal  equipe2_goal     equipe_REF Bilan Competition_bis  \n",
       "0               2             0  BAYERN MUNICH     D        CoupeNat  \n",
       "1               1             3  BAYERN MUNICH     V        CoupeNat  \n",
       "2               2             2  BAYERN MUNICH     N     Championnat  \n",
       "3               0             3  BAYERN MUNICH     V     Championnat  \n",
       "4               6             1  BAYERN MUNICH     V     Championnat  \n",
       "..            ...           ...            ...   ...             ...  \n",
       "124             3             1     RB LEIPZIG     V     Championnat  \n",
       "125             2             2     RB LEIPZIG     N             LDC  \n",
       "126             0             3     RB LEIPZIG     V     Championnat  \n",
       "127             3             3     RB LEIPZIG     N     Championnat  \n",
       "128             3             1     RB LEIPZIG     V     Championnat  \n",
       "\n",
       "[129 rows x 11 columns]"
      ]
     },
     "execution_count": 426,
     "metadata": {},
     "output_type": "execute_result"
    }
   ],
   "source": [
    "bundes_Liga"
   ]
  },
  {
   "cell_type": "markdown",
   "metadata": {},
   "source": [
    "# On fait maintenant la jointure de nos 5 championnats"
   ]
  },
  {
   "cell_type": "code",
   "execution_count": 427,
   "metadata": {},
   "outputs": [],
   "source": [
    "Score = pd.concat([base_L1,base_Liga,premiere_Ligue,serie_a, bundes_Liga],ignore_index = True)"
   ]
  },
  {
   "cell_type": "code",
   "execution_count": 428,
   "metadata": {},
   "outputs": [],
   "source": [
    "Score.loc[(Score.mois == 1), 'MoisL'] = 'Janvier'\n",
    "Score.loc[(Score.mois == 2), 'MoisL'] = 'Février'\n",
    "Score.loc[(Score.mois == 3), 'MoisL'] = 'Mars'\n",
    "Score.loc[(Score.mois == 4), 'MoisL'] = 'Avril'\n",
    "Score.loc[(Score.mois == 5), 'MoisL'] = 'Mai'\n",
    "Score.loc[(Score.mois == 6), 'MoisL'] = 'Juin'\n",
    "Score.loc[(Score.mois == 7), 'MoisL'] = 'Juillet'\n",
    "Score.loc[(Score.mois == 8), 'MoisL'] = 'Août'\n",
    "Score.loc[(Score.mois == 9), 'MoisL'] = 'Septembre'\n",
    "Score.loc[(Score.mois == 10), 'MoisL'] = 'Octobre'\n",
    "Score.loc[(Score.mois == 11), 'MoisL'] = 'Novembre'\n",
    "Score.loc[(Score.mois == 12), 'MoisL'] = 'Décembre'"
   ]
  },
  {
   "cell_type": "markdown",
   "metadata": {},
   "source": [
    "### On observe notre base de données pour obtenir des informations dessus"
   ]
  },
  {
   "cell_type": "code",
   "execution_count": 429,
   "metadata": {},
   "outputs": [
    {
     "name": "stdout",
     "output_type": "stream",
     "text": [
      "<class 'pandas.core.frame.DataFrame'>\n",
      "RangeIndex: 705 entries, 0 to 704\n",
      "Data columns (total 12 columns):\n",
      "mois               705 non-null int64\n",
      "date               705 non-null datetime64[ns]\n",
      "equipe1            705 non-null object\n",
      "competition        703 non-null object\n",
      "score              705 non-null object\n",
      "equipe2            705 non-null object\n",
      "equipe1_goal       705 non-null int64\n",
      "equipe2_goal       705 non-null int64\n",
      "equipe_REF         705 non-null object\n",
      "Bilan              679 non-null object\n",
      "Competition_bis    703 non-null object\n",
      "MoisL              705 non-null object\n",
      "dtypes: datetime64[ns](1), int64(3), object(8)\n",
      "memory usage: 66.2+ KB\n"
     ]
    }
   ],
   "source": [
    "Score.info()"
   ]
  },
  {
   "cell_type": "code",
   "execution_count": 430,
   "metadata": {},
   "outputs": [
    {
     "data": {
      "text/plain": [
       "mois                        int64\n",
       "date               datetime64[ns]\n",
       "equipe1                    object\n",
       "competition                object\n",
       "score                      object\n",
       "equipe2                    object\n",
       "equipe1_goal                int64\n",
       "equipe2_goal                int64\n",
       "equipe_REF                 object\n",
       "Bilan                      object\n",
       "Competition_bis            object\n",
       "MoisL                      object\n",
       "dtype: object"
      ]
     },
     "execution_count": 430,
     "metadata": {},
     "output_type": "execute_result"
    }
   ],
   "source": [
    "Score.dtypes"
   ]
  },
  {
   "cell_type": "code",
   "execution_count": 431,
   "metadata": {},
   "outputs": [
    {
     "data": {
      "text/html": [
       "<div>\n",
       "<style scoped>\n",
       "    .dataframe tbody tr th:only-of-type {\n",
       "        vertical-align: middle;\n",
       "    }\n",
       "\n",
       "    .dataframe tbody tr th {\n",
       "        vertical-align: top;\n",
       "    }\n",
       "\n",
       "    .dataframe thead th {\n",
       "        text-align: right;\n",
       "    }\n",
       "</style>\n",
       "<table border=\"1\" class=\"dataframe\">\n",
       "  <thead>\n",
       "    <tr style=\"text-align: right;\">\n",
       "      <th></th>\n",
       "      <th>mois</th>\n",
       "      <th>date</th>\n",
       "      <th>equipe1</th>\n",
       "      <th>competition</th>\n",
       "      <th>score</th>\n",
       "      <th>equipe2</th>\n",
       "      <th>equipe1_goal</th>\n",
       "      <th>equipe2_goal</th>\n",
       "      <th>equipe_REF</th>\n",
       "      <th>Bilan</th>\n",
       "      <th>Competition_bis</th>\n",
       "      <th>MoisL</th>\n",
       "    </tr>\n",
       "  </thead>\n",
       "  <tbody>\n",
       "    <tr>\n",
       "      <td>0</td>\n",
       "      <td>7</td>\n",
       "      <td>2019-07-16</td>\n",
       "      <td>DynamoDresde</td>\n",
       "      <td>MA</td>\n",
       "      <td>1-6</td>\n",
       "      <td>Paris-SG</td>\n",
       "      <td>1</td>\n",
       "      <td>6</td>\n",
       "      <td>PARIS-SG (PSG)</td>\n",
       "      <td>V</td>\n",
       "      <td>Amicaux</td>\n",
       "      <td>Juillet</td>\n",
       "    </tr>\n",
       "    <tr>\n",
       "      <td>1</td>\n",
       "      <td>7</td>\n",
       "      <td>2019-07-20</td>\n",
       "      <td>Nuremberg</td>\n",
       "      <td>MA</td>\n",
       "      <td>1-1</td>\n",
       "      <td>Paris-SG</td>\n",
       "      <td>1</td>\n",
       "      <td>1</td>\n",
       "      <td>PARIS-SG (PSG)</td>\n",
       "      <td>N</td>\n",
       "      <td>Amicaux</td>\n",
       "      <td>Juillet</td>\n",
       "    </tr>\n",
       "    <tr>\n",
       "      <td>2</td>\n",
       "      <td>7</td>\n",
       "      <td>2019-07-27</td>\n",
       "      <td>Paris-SG</td>\n",
       "      <td>MA</td>\n",
       "      <td>1-1</td>\n",
       "      <td>InterMilan</td>\n",
       "      <td>1</td>\n",
       "      <td>1</td>\n",
       "      <td>PARIS-SG (PSG)</td>\n",
       "      <td>N</td>\n",
       "      <td>Amicaux</td>\n",
       "      <td>Juillet</td>\n",
       "    </tr>\n",
       "    <tr>\n",
       "      <td>3</td>\n",
       "      <td>7</td>\n",
       "      <td>2019-07-30</td>\n",
       "      <td>Paris-SG</td>\n",
       "      <td>MA</td>\n",
       "      <td>3-0</td>\n",
       "      <td>SydneyFC</td>\n",
       "      <td>3</td>\n",
       "      <td>0</td>\n",
       "      <td>PARIS-SG (PSG)</td>\n",
       "      <td>V</td>\n",
       "      <td>Amicaux</td>\n",
       "      <td>Juillet</td>\n",
       "    </tr>\n",
       "    <tr>\n",
       "      <td>4</td>\n",
       "      <td>3</td>\n",
       "      <td>2019-03-08</td>\n",
       "      <td>Paris-SG</td>\n",
       "      <td>TC</td>\n",
       "      <td>2-1</td>\n",
       "      <td>Rennes</td>\n",
       "      <td>2</td>\n",
       "      <td>1</td>\n",
       "      <td>PARIS-SG (PSG)</td>\n",
       "      <td>V</td>\n",
       "      <td>CoupeNat</td>\n",
       "      <td>Mars</td>\n",
       "    </tr>\n",
       "  </tbody>\n",
       "</table>\n",
       "</div>"
      ],
      "text/plain": [
       "   mois       date       equipe1 competition score     equipe2  equipe1_goal  \\\n",
       "0     7 2019-07-16  DynamoDresde          MA   1-6    Paris-SG             1   \n",
       "1     7 2019-07-20     Nuremberg          MA   1-1    Paris-SG             1   \n",
       "2     7 2019-07-27      Paris-SG          MA   1-1  InterMilan             1   \n",
       "3     7 2019-07-30      Paris-SG          MA   3-0    SydneyFC             3   \n",
       "4     3 2019-03-08      Paris-SG          TC   2-1      Rennes             2   \n",
       "\n",
       "   equipe2_goal      equipe_REF Bilan Competition_bis    MoisL  \n",
       "0             6  PARIS-SG (PSG)     V         Amicaux  Juillet  \n",
       "1             1  PARIS-SG (PSG)     N         Amicaux  Juillet  \n",
       "2             1  PARIS-SG (PSG)     N         Amicaux  Juillet  \n",
       "3             0  PARIS-SG (PSG)     V         Amicaux  Juillet  \n",
       "4             1  PARIS-SG (PSG)     V        CoupeNat     Mars  "
      ]
     },
     "execution_count": 431,
     "metadata": {},
     "output_type": "execute_result"
    }
   ],
   "source": [
    "Score.head()"
   ]
  },
  {
   "cell_type": "code",
   "execution_count": 432,
   "metadata": {},
   "outputs": [],
   "source": [
    "Score['Tot_but'] = Score['equipe1_goal'] + Score['equipe2_goal']"
   ]
  },
  {
   "cell_type": "code",
   "execution_count": 433,
   "metadata": {},
   "outputs": [
    {
     "data": {
      "text/html": [
       "<div>\n",
       "<style scoped>\n",
       "    .dataframe tbody tr th:only-of-type {\n",
       "        vertical-align: middle;\n",
       "    }\n",
       "\n",
       "    .dataframe tbody tr th {\n",
       "        vertical-align: top;\n",
       "    }\n",
       "\n",
       "    .dataframe thead th {\n",
       "        text-align: right;\n",
       "    }\n",
       "</style>\n",
       "<table border=\"1\" class=\"dataframe\">\n",
       "  <thead>\n",
       "    <tr style=\"text-align: right;\">\n",
       "      <th></th>\n",
       "      <th>mois</th>\n",
       "      <th>date</th>\n",
       "      <th>equipe1</th>\n",
       "      <th>competition</th>\n",
       "      <th>score</th>\n",
       "      <th>equipe2</th>\n",
       "      <th>equipe1_goal</th>\n",
       "      <th>equipe2_goal</th>\n",
       "      <th>equipe_REF</th>\n",
       "      <th>Bilan</th>\n",
       "      <th>Competition_bis</th>\n",
       "      <th>MoisL</th>\n",
       "      <th>Tot_but</th>\n",
       "    </tr>\n",
       "  </thead>\n",
       "  <tbody>\n",
       "    <tr>\n",
       "      <td>0</td>\n",
       "      <td>7</td>\n",
       "      <td>2019-07-16</td>\n",
       "      <td>DynamoDresde</td>\n",
       "      <td>MA</td>\n",
       "      <td>1-6</td>\n",
       "      <td>Paris-SG</td>\n",
       "      <td>1</td>\n",
       "      <td>6</td>\n",
       "      <td>PARIS-SG (PSG)</td>\n",
       "      <td>V</td>\n",
       "      <td>Amicaux</td>\n",
       "      <td>Juillet</td>\n",
       "      <td>7</td>\n",
       "    </tr>\n",
       "    <tr>\n",
       "      <td>1</td>\n",
       "      <td>7</td>\n",
       "      <td>2019-07-20</td>\n",
       "      <td>Nuremberg</td>\n",
       "      <td>MA</td>\n",
       "      <td>1-1</td>\n",
       "      <td>Paris-SG</td>\n",
       "      <td>1</td>\n",
       "      <td>1</td>\n",
       "      <td>PARIS-SG (PSG)</td>\n",
       "      <td>N</td>\n",
       "      <td>Amicaux</td>\n",
       "      <td>Juillet</td>\n",
       "      <td>2</td>\n",
       "    </tr>\n",
       "    <tr>\n",
       "      <td>2</td>\n",
       "      <td>7</td>\n",
       "      <td>2019-07-27</td>\n",
       "      <td>Paris-SG</td>\n",
       "      <td>MA</td>\n",
       "      <td>1-1</td>\n",
       "      <td>InterMilan</td>\n",
       "      <td>1</td>\n",
       "      <td>1</td>\n",
       "      <td>PARIS-SG (PSG)</td>\n",
       "      <td>N</td>\n",
       "      <td>Amicaux</td>\n",
       "      <td>Juillet</td>\n",
       "      <td>2</td>\n",
       "    </tr>\n",
       "    <tr>\n",
       "      <td>3</td>\n",
       "      <td>7</td>\n",
       "      <td>2019-07-30</td>\n",
       "      <td>Paris-SG</td>\n",
       "      <td>MA</td>\n",
       "      <td>3-0</td>\n",
       "      <td>SydneyFC</td>\n",
       "      <td>3</td>\n",
       "      <td>0</td>\n",
       "      <td>PARIS-SG (PSG)</td>\n",
       "      <td>V</td>\n",
       "      <td>Amicaux</td>\n",
       "      <td>Juillet</td>\n",
       "      <td>3</td>\n",
       "    </tr>\n",
       "    <tr>\n",
       "      <td>4</td>\n",
       "      <td>3</td>\n",
       "      <td>2019-03-08</td>\n",
       "      <td>Paris-SG</td>\n",
       "      <td>TC</td>\n",
       "      <td>2-1</td>\n",
       "      <td>Rennes</td>\n",
       "      <td>2</td>\n",
       "      <td>1</td>\n",
       "      <td>PARIS-SG (PSG)</td>\n",
       "      <td>V</td>\n",
       "      <td>CoupeNat</td>\n",
       "      <td>Mars</td>\n",
       "      <td>3</td>\n",
       "    </tr>\n",
       "  </tbody>\n",
       "</table>\n",
       "</div>"
      ],
      "text/plain": [
       "   mois       date       equipe1 competition score     equipe2  equipe1_goal  \\\n",
       "0     7 2019-07-16  DynamoDresde          MA   1-6    Paris-SG             1   \n",
       "1     7 2019-07-20     Nuremberg          MA   1-1    Paris-SG             1   \n",
       "2     7 2019-07-27      Paris-SG          MA   1-1  InterMilan             1   \n",
       "3     7 2019-07-30      Paris-SG          MA   3-0    SydneyFC             3   \n",
       "4     3 2019-03-08      Paris-SG          TC   2-1      Rennes             2   \n",
       "\n",
       "   equipe2_goal      equipe_REF Bilan Competition_bis    MoisL  Tot_but  \n",
       "0             6  PARIS-SG (PSG)     V         Amicaux  Juillet        7  \n",
       "1             1  PARIS-SG (PSG)     N         Amicaux  Juillet        2  \n",
       "2             1  PARIS-SG (PSG)     N         Amicaux  Juillet        2  \n",
       "3             0  PARIS-SG (PSG)     V         Amicaux  Juillet        3  \n",
       "4             1  PARIS-SG (PSG)     V        CoupeNat     Mars        3  "
      ]
     },
     "execution_count": 433,
     "metadata": {},
     "output_type": "execute_result"
    }
   ],
   "source": [
    "Score.head()"
   ]
  },
  {
   "cell_type": "code",
   "execution_count": 434,
   "metadata": {},
   "outputs": [],
   "source": [
    "Score['Bilan'] = Score['Bilan'].apply({'V':'Victoire', 'N':'Egalite', 'D':'Defaite'}.get)"
   ]
  },
  {
   "cell_type": "code",
   "execution_count": 435,
   "metadata": {},
   "outputs": [
    {
     "data": {
      "text/plain": [
       "mois                0\n",
       "date                0\n",
       "equipe1             0\n",
       "competition         2\n",
       "score               0\n",
       "equipe2             0\n",
       "equipe1_goal        0\n",
       "equipe2_goal        0\n",
       "equipe_REF          0\n",
       "Bilan              26\n",
       "Competition_bis     2\n",
       "MoisL               0\n",
       "Tot_but             0\n",
       "dtype: int64"
      ]
     },
     "execution_count": 435,
     "metadata": {},
     "output_type": "execute_result"
    }
   ],
   "source": [
    "Score.isna().sum()"
   ]
  },
  {
   "cell_type": "markdown",
   "metadata": {},
   "source": [
    "On peut se rendre compte, par la commande ci-dessus, que notre base de données ne contient pas de données manquantes. Nous n'avons ainsi pas de processus de suppression de ces dernières à réaliser en amont de nos études."
   ]
  },
  {
   "cell_type": "markdown",
   "metadata": {},
   "source": [
    "# Quelques représentations graphiques et statistiques descriptives"
   ]
  },
  {
   "cell_type": "code",
   "execution_count": 436,
   "metadata": {},
   "outputs": [
    {
     "data": {
      "text/html": [
       "<div>\n",
       "<style scoped>\n",
       "    .dataframe tbody tr th:only-of-type {\n",
       "        vertical-align: middle;\n",
       "    }\n",
       "\n",
       "    .dataframe tbody tr th {\n",
       "        vertical-align: top;\n",
       "    }\n",
       "\n",
       "    .dataframe thead th {\n",
       "        text-align: right;\n",
       "    }\n",
       "</style>\n",
       "<table border=\"1\" class=\"dataframe\">\n",
       "  <thead>\n",
       "    <tr style=\"text-align: right;\">\n",
       "      <th></th>\n",
       "      <th>equipe1_goal</th>\n",
       "      <th>equipe2_goal</th>\n",
       "    </tr>\n",
       "    <tr>\n",
       "      <th>Competition_bis</th>\n",
       "      <th></th>\n",
       "      <th></th>\n",
       "    </tr>\n",
       "  </thead>\n",
       "  <tbody>\n",
       "    <tr>\n",
       "      <td>Amicaux</td>\n",
       "      <td>1.743590</td>\n",
       "      <td>1.384615</td>\n",
       "    </tr>\n",
       "    <tr>\n",
       "      <td>C3</td>\n",
       "      <td>1.555556</td>\n",
       "      <td>1.166667</td>\n",
       "    </tr>\n",
       "    <tr>\n",
       "      <td>Championnat</td>\n",
       "      <td>1.608787</td>\n",
       "      <td>1.347280</td>\n",
       "    </tr>\n",
       "    <tr>\n",
       "      <td>CoupeNat</td>\n",
       "      <td>1.722222</td>\n",
       "      <td>2.129630</td>\n",
       "    </tr>\n",
       "    <tr>\n",
       "      <td>LDC</td>\n",
       "      <td>1.541667</td>\n",
       "      <td>1.427083</td>\n",
       "    </tr>\n",
       "  </tbody>\n",
       "</table>\n",
       "</div>"
      ],
      "text/plain": [
       "                 equipe1_goal  equipe2_goal\n",
       "Competition_bis                            \n",
       "Amicaux              1.743590      1.384615\n",
       "C3                   1.555556      1.166667\n",
       "Championnat          1.608787      1.347280\n",
       "CoupeNat             1.722222      2.129630\n",
       "LDC                  1.541667      1.427083"
      ]
     },
     "execution_count": 436,
     "metadata": {},
     "output_type": "execute_result"
    }
   ],
   "source": [
    "intermediaire = Score.groupby(\"Competition_bis\").agg(\"mean\")\n",
    "intermediaire[['equipe1_goal', 'equipe2_goal']]"
   ]
  },
  {
   "cell_type": "markdown",
   "metadata": {},
   "source": [
    "Nous avons calculé la moyenne des buts marqués par les équipes 1 et 2 en fonction de leur rencontre ou compétition.\n",
    "Nous voyons qu'il y a eu plud de buts qui ont été marqués par l'équipe recevante (1.74 de moyenne). En revanche, l'équipe extérieure a tendance à marquer le plus de buts en coupe nationale (avec 2.1 buts de moyenne). La \"C3\" est la compétition la moins fructueuse en terme de buts."
   ]
  },
  {
   "cell_type": "code",
   "execution_count": 437,
   "metadata": {},
   "outputs": [
    {
     "data": {
      "text/plain": [
       "{'Championnat': 478, 'LDC': 96, 'CoupeNat': 54, 'Amicaux': 39, 'C3': 36}"
      ]
     },
     "execution_count": 437,
     "metadata": {},
     "output_type": "execute_result"
    }
   ],
   "source": [
    "comptage = Score['Competition_bis'].value_counts().to_dict()\n",
    "comptage"
   ]
  },
  {
   "cell_type": "code",
   "execution_count": 438,
   "metadata": {},
   "outputs": [
    {
     "data": {
      "text/plain": [
       "<matplotlib.axes._subplots.AxesSubplot at 0x18af6d2548>"
      ]
     },
     "execution_count": 438,
     "metadata": {},
     "output_type": "execute_result"
    },
    {
     "data": {
      "image/png": "[encoded data removed]",
      "text/plain": [
       "<Figure size 432x288 with 1 Axes>"
      ]
     },
     "metadata": {},
     "output_type": "display_data"
    }
   ],
   "source": [
    "Score['Competition_bis'].value_counts(normalize=True).plot(kind='pie')"
   ]
  },
  {
   "cell_type": "code",
   "execution_count": 439,
   "metadata": {},
   "outputs": [
    {
     "data": {
      "text/plain": [
       "{'SAINT-ETIENNE (ASSE)': 35,\n",
       " 'MANCHESTER CITY': 34,\n",
       " 'LYON (OL)': 34,\n",
       " 'PARIS-SG (PSG)': 33,\n",
       " 'MANCHESTER UNITED': 33,\n",
       " 'ARSENAL': 33,\n",
       " 'CHELSEA': 32,\n",
       " 'MONACO (ASM)': 30,\n",
       " 'MARSEILLE (OM)': 29,\n",
       " 'SEVILLE FC': 27,\n",
       " 'VALENCE CF': 27,\n",
       " 'REAL MADRID': 27,\n",
       " 'ATLETICO DE MADRID': 27,\n",
       " 'FC BARCELONE': 26,\n",
       " 'LEICESTER': 26,\n",
       " 'BAYERN MUNICH': 26,\n",
       " 'RB LEIPZIG': 26,\n",
       " 'INTER MILAN': 26,\n",
       " 'AS ROME': 26,\n",
       " 'JUVENTUS TURIN': 26,\n",
       " 'BORUSSIA DORTMUND': 26,\n",
       " 'NAPLES': 26,\n",
       " 'WOLFSBURG': 26,\n",
       " 'BAYER LEVERKUSEN': 25,\n",
       " 'AC MILAN': 19}"
      ]
     },
     "execution_count": 439,
     "metadata": {},
     "output_type": "execute_result"
    }
   ],
   "source": [
    "comptage_2 = Score['equipe_REF'].value_counts().to_dict()\n",
    "comptage_2"
   ]
  },
  {
   "cell_type": "code",
   "execution_count": 440,
   "metadata": {},
   "outputs": [
    {
     "data": {
      "text/plain": [
       "<matplotlib.axes._subplots.AxesSubplot at 0x18af6cf088>"
      ]
     },
     "execution_count": 440,
     "metadata": {},
     "output_type": "execute_result"
    },
    {
     "data": {
      "image/png": "[encoded data removed]",
      "text/plain": [
       "<Figure size 432x288 with 1 Axes>"
      ]
     },
     "metadata": {},
     "output_type": "display_data"
    }
   ],
   "source": [
    "Score['Bilan'].value_counts(normalize=True).plot(kind='pie')"
   ]
  },
  {
   "cell_type": "code",
   "execution_count": 441,
   "metadata": {},
   "outputs": [
    {
     "data": {
      "text/plain": [
       "{'Victoire': 359, 'Egalite': 166, 'Defaite': 154}"
      ]
     },
     "execution_count": 441,
     "metadata": {},
     "output_type": "execute_result"
    }
   ],
   "source": [
    "comptage_3 = Score['Bilan'].value_counts().to_dict()\n",
    "comptage_3"
   ]
  },
  {
   "cell_type": "code",
   "execution_count": 442,
   "metadata": {},
   "outputs": [
    {
     "data": {
      "text/plain": [
       "count    705.000000\n",
       "mean       3.032624\n",
       "std        1.740334\n",
       "min        0.000000\n",
       "25%        2.000000\n",
       "50%        3.000000\n",
       "75%        4.000000\n",
       "max       10.000000\n",
       "Name: Tot_but, dtype: float64"
      ]
     },
     "execution_count": 442,
     "metadata": {},
     "output_type": "execute_result"
    }
   ],
   "source": [
    "Score.Tot_but.describe()"
   ]
  },
  {
   "cell_type": "code",
   "execution_count": 443,
   "metadata": {},
   "outputs": [
    {
     "data": {
      "text/plain": [
       "count    705.000000\n",
       "mean       1.612766\n",
       "std        1.426855\n",
       "min        0.000000\n",
       "25%        1.000000\n",
       "50%        1.000000\n",
       "75%        2.000000\n",
       "max        8.000000\n",
       "Name: equipe1_goal, dtype: float64"
      ]
     },
     "execution_count": 443,
     "metadata": {},
     "output_type": "execute_result"
    }
   ],
   "source": [
    "Score.equipe1_goal.describe()"
   ]
  },
  {
   "cell_type": "code",
   "execution_count": 444,
   "metadata": {},
   "outputs": [
    {
     "data": {
      "text/plain": [
       "count    705.000000\n",
       "mean       1.419858\n",
       "std        1.271252\n",
       "min        0.000000\n",
       "25%        0.000000\n",
       "50%        1.000000\n",
       "75%        2.000000\n",
       "max        7.000000\n",
       "Name: equipe2_goal, dtype: float64"
      ]
     },
     "execution_count": 444,
     "metadata": {},
     "output_type": "execute_result"
    }
   ],
   "source": [
    "Score.equipe2_goal.describe()"
   ]
  },
  {
   "cell_type": "markdown",
   "metadata": {},
   "source": [
    "# Modèles"
   ]
  },
  {
   "cell_type": "code",
   "execution_count": 445,
   "metadata": {},
   "outputs": [],
   "source": [
    "from sklearn.preprocessing import (OneHotEncoder,\n",
    "                                   LabelEncoder,\n",
    "                                   StandardScaler,\n",
    "                                   Normalizer,\n",
    "                                   MinMaxScaler,\n",
    "                                  )"
   ]
  },
  {
   "cell_type": "code",
   "execution_count": 446,
   "metadata": {},
   "outputs": [],
   "source": [
    "from sklearn.model_selection import (train_test_split,\n",
    "                                     RandomizedSearchCV,\n",
    "                                     GridSearchCV,\n",
    "                                    )"
   ]
  },
  {
   "cell_type": "code",
   "execution_count": 447,
   "metadata": {},
   "outputs": [],
   "source": [
    "from sklearn.pipeline import make_pipeline"
   ]
  },
  {
   "cell_type": "markdown",
   "metadata": {},
   "source": [
    "Pour traiter les caractéristiques catégorielles dans notre base de données, qui sont soit sous forme numérique comme \"MoisL\", ou textuelle comme \"Bilan\", nous les avons tranformées en étiquettes numériques en utilisant une transformation largement utilisée dans l'apprentissage automatique \"OneHotEncoder\"."
   ]
  },
  {
   "cell_type": "code",
   "execution_count": 448,
   "metadata": {},
   "outputs": [
    {
     "ename": "TypeError",
     "evalue": "argument must be a string or number",
     "output_type": "error",
     "traceback": [
      "\u001b[1;31m---------------------------------------------------------------------------\u001b[0m",
      "\u001b[1;31mTypeError\u001b[0m                                 Traceback (most recent call last)",
      "\u001b[1;32m~\\AppData\\Local\\Continuum\\anaconda3\\lib\\site-packages\\sklearn\\preprocessing\\label.py\u001b[0m in \u001b[0;36m_encode\u001b[1;34m(values, uniques, encode)\u001b[0m\n\u001b[0;32m    104\u001b[0m         \u001b[1;32mtry\u001b[0m\u001b[1;33m:\u001b[0m\u001b[1;33m\u001b[0m\u001b[1;33m\u001b[0m\u001b[0m\n\u001b[1;32m--> 105\u001b[1;33m             \u001b[0mres\u001b[0m \u001b[1;33m=\u001b[0m \u001b[0m_encode_python\u001b[0m\u001b[1;33m(\u001b[0m\u001b[0mvalues\u001b[0m\u001b[1;33m,\u001b[0m \u001b[0muniques\u001b[0m\u001b[1;33m,\u001b[0m \u001b[0mencode\u001b[0m\u001b[1;33m)\u001b[0m\u001b[1;33m\u001b[0m\u001b[1;33m\u001b[0m\u001b[0m\n\u001b[0m\u001b[0;32m    106\u001b[0m         \u001b[1;32mexcept\u001b[0m \u001b[0mTypeError\u001b[0m\u001b[1;33m:\u001b[0m\u001b[1;33m\u001b[0m\u001b[1;33m\u001b[0m\u001b[0m\n",
      "\u001b[1;32m~\\AppData\\Local\\Continuum\\anaconda3\\lib\\site-packages\\sklearn\\preprocessing\\label.py\u001b[0m in \u001b[0;36m_encode_python\u001b[1;34m(values, uniques, encode)\u001b[0m\n\u001b[0;32m     58\u001b[0m     \u001b[1;32mif\u001b[0m \u001b[0muniques\u001b[0m \u001b[1;32mis\u001b[0m \u001b[1;32mNone\u001b[0m\u001b[1;33m:\u001b[0m\u001b[1;33m\u001b[0m\u001b[1;33m\u001b[0m\u001b[0m\n\u001b[1;32m---> 59\u001b[1;33m         \u001b[0muniques\u001b[0m \u001b[1;33m=\u001b[0m \u001b[0msorted\u001b[0m\u001b[1;33m(\u001b[0m\u001b[0mset\u001b[0m\u001b[1;33m(\u001b[0m\u001b[0mvalues\u001b[0m\u001b[1;33m)\u001b[0m\u001b[1;33m)\u001b[0m\u001b[1;33m\u001b[0m\u001b[1;33m\u001b[0m\u001b[0m\n\u001b[0m\u001b[0;32m     60\u001b[0m         \u001b[0muniques\u001b[0m \u001b[1;33m=\u001b[0m \u001b[0mnp\u001b[0m\u001b[1;33m.\u001b[0m\u001b[0marray\u001b[0m\u001b[1;33m(\u001b[0m\u001b[0muniques\u001b[0m\u001b[1;33m,\u001b[0m \u001b[0mdtype\u001b[0m\u001b[1;33m=\u001b[0m\u001b[0mvalues\u001b[0m\u001b[1;33m.\u001b[0m\u001b[0mdtype\u001b[0m\u001b[1;33m)\u001b[0m\u001b[1;33m\u001b[0m\u001b[1;33m\u001b[0m\u001b[0m\n",
      "\u001b[1;31mTypeError\u001b[0m: '<' not supported between instances of 'NoneType' and 'str'",
      "\nDuring handling of the above exception, another exception occurred:\n",
      "\u001b[1;31mTypeError\u001b[0m                                 Traceback (most recent call last)",
      "\u001b[1;32m<ipython-input-448-4b1267b64e70>\u001b[0m in \u001b[0;36m<module>\u001b[1;34m\u001b[0m\n\u001b[0;32m      1\u001b[0m \u001b[0mgestion_Bilan\u001b[0m \u001b[1;33m=\u001b[0m \u001b[0mOneHotEncoder\u001b[0m\u001b[1;33m(\u001b[0m\u001b[1;33m)\u001b[0m\u001b[1;33m\u001b[0m\u001b[1;33m\u001b[0m\u001b[0m\n\u001b[1;32m----> 2\u001b[1;33m \u001b[0mBilans\u001b[0m \u001b[1;33m=\u001b[0m \u001b[0mgestion_Bilan\u001b[0m\u001b[1;33m.\u001b[0m\u001b[0mfit_transform\u001b[0m\u001b[1;33m(\u001b[0m\u001b[0mScore\u001b[0m\u001b[1;33m[\u001b[0m\u001b[1;34m\"Bilan\"\u001b[0m\u001b[1;33m]\u001b[0m\u001b[1;33m.\u001b[0m\u001b[0mvalues\u001b[0m\u001b[1;33m.\u001b[0m\u001b[0mreshape\u001b[0m\u001b[1;33m(\u001b[0m\u001b[1;33m-\u001b[0m\u001b[1;36m1\u001b[0m\u001b[1;33m,\u001b[0m \u001b[1;36m1\u001b[0m\u001b[1;33m)\u001b[0m\u001b[1;33m)\u001b[0m\u001b[1;33m\u001b[0m\u001b[1;33m\u001b[0m\u001b[0m\n\u001b[0m\u001b[0;32m      3\u001b[0m \u001b[0mBilans\u001b[0m\u001b[1;33m.\u001b[0m\u001b[0mshape\u001b[0m\u001b[1;33m\u001b[0m\u001b[1;33m\u001b[0m\u001b[0m\n",
      "\u001b[1;32m~\\AppData\\Local\\Continuum\\anaconda3\\lib\\site-packages\\sklearn\\preprocessing\\_encoders.py\u001b[0m in \u001b[0;36mfit_transform\u001b[1;34m(self, X, y)\u001b[0m\n\u001b[0;32m    629\u001b[0m                 self._categorical_features, copy=True)\n\u001b[0;32m    630\u001b[0m         \u001b[1;32melse\u001b[0m\u001b[1;33m:\u001b[0m\u001b[1;33m\u001b[0m\u001b[1;33m\u001b[0m\u001b[0m\n\u001b[1;32m--> 631\u001b[1;33m             \u001b[1;32mreturn\u001b[0m \u001b[0mself\u001b[0m\u001b[1;33m.\u001b[0m\u001b[0mfit\u001b[0m\u001b[1;33m(\u001b[0m\u001b[0mX\u001b[0m\u001b[1;33m)\u001b[0m\u001b[1;33m.\u001b[0m\u001b[0mtransform\u001b[0m\u001b[1;33m(\u001b[0m\u001b[0mX\u001b[0m\u001b[1;33m)\u001b[0m\u001b[1;33m\u001b[0m\u001b[1;33m\u001b[0m\u001b[0m\n\u001b[0m\u001b[0;32m    632\u001b[0m \u001b[1;33m\u001b[0m\u001b[0m\n\u001b[0;32m    633\u001b[0m     \u001b[1;32mdef\u001b[0m \u001b[0m_legacy_transform\u001b[0m\u001b[1;33m(\u001b[0m\u001b[0mself\u001b[0m\u001b[1;33m,\u001b[0m \u001b[0mX\u001b[0m\u001b[1;33m)\u001b[0m\u001b[1;33m:\u001b[0m\u001b[1;33m\u001b[0m\u001b[1;33m\u001b[0m\u001b[0m\n",
      "\u001b[1;32m~\\AppData\\Local\\Continuum\\anaconda3\\lib\\site-packages\\sklearn\\preprocessing\\_encoders.py\u001b[0m in \u001b[0;36mfit\u001b[1;34m(self, X, y)\u001b[0m\n\u001b[0;32m    491\u001b[0m             \u001b[1;32mreturn\u001b[0m \u001b[0mself\u001b[0m\u001b[1;33m\u001b[0m\u001b[1;33m\u001b[0m\u001b[0m\n\u001b[0;32m    492\u001b[0m         \u001b[1;32melse\u001b[0m\u001b[1;33m:\u001b[0m\u001b[1;33m\u001b[0m\u001b[1;33m\u001b[0m\u001b[0m\n\u001b[1;32m--> 493\u001b[1;33m             \u001b[0mself\u001b[0m\u001b[1;33m.\u001b[0m\u001b[0m_fit\u001b[0m\u001b[1;33m(\u001b[0m\u001b[0mX\u001b[0m\u001b[1;33m,\u001b[0m \u001b[0mhandle_unknown\u001b[0m\u001b[1;33m=\u001b[0m\u001b[0mself\u001b[0m\u001b[1;33m.\u001b[0m\u001b[0mhandle_unknown\u001b[0m\u001b[1;33m)\u001b[0m\u001b[1;33m\u001b[0m\u001b[1;33m\u001b[0m\u001b[0m\n\u001b[0m\u001b[0;32m    494\u001b[0m             \u001b[0mself\u001b[0m\u001b[1;33m.\u001b[0m\u001b[0mdrop_idx_\u001b[0m \u001b[1;33m=\u001b[0m \u001b[0mself\u001b[0m\u001b[1;33m.\u001b[0m\u001b[0m_compute_drop_idx\u001b[0m\u001b[1;33m(\u001b[0m\u001b[1;33m)\u001b[0m\u001b[1;33m\u001b[0m\u001b[1;33m\u001b[0m\u001b[0m\n\u001b[0;32m    495\u001b[0m             \u001b[1;32mreturn\u001b[0m \u001b[0mself\u001b[0m\u001b[1;33m\u001b[0m\u001b[1;33m\u001b[0m\u001b[0m\n",
      "\u001b[1;32m~\\AppData\\Local\\Continuum\\anaconda3\\lib\\site-packages\\sklearn\\preprocessing\\_encoders.py\u001b[0m in \u001b[0;36m_fit\u001b[1;34m(self, X, handle_unknown)\u001b[0m\n\u001b[0;32m     90\u001b[0m             \u001b[0mXi\u001b[0m \u001b[1;33m=\u001b[0m \u001b[0mX_list\u001b[0m\u001b[1;33m[\u001b[0m\u001b[0mi\u001b[0m\u001b[1;33m]\u001b[0m\u001b[1;33m\u001b[0m\u001b[1;33m\u001b[0m\u001b[0m\n\u001b[0;32m     91\u001b[0m             \u001b[1;32mif\u001b[0m \u001b[0mself\u001b[0m\u001b[1;33m.\u001b[0m\u001b[0m_categories\u001b[0m \u001b[1;33m==\u001b[0m \u001b[1;34m'auto'\u001b[0m\u001b[1;33m:\u001b[0m\u001b[1;33m\u001b[0m\u001b[1;33m\u001b[0m\u001b[0m\n\u001b[1;32m---> 92\u001b[1;33m                 \u001b[0mcats\u001b[0m \u001b[1;33m=\u001b[0m \u001b[0m_encode\u001b[0m\u001b[1;33m(\u001b[0m\u001b[0mXi\u001b[0m\u001b[1;33m)\u001b[0m\u001b[1;33m\u001b[0m\u001b[1;33m\u001b[0m\u001b[0m\n\u001b[0m\u001b[0;32m     93\u001b[0m             \u001b[1;32melse\u001b[0m\u001b[1;33m:\u001b[0m\u001b[1;33m\u001b[0m\u001b[1;33m\u001b[0m\u001b[0m\n\u001b[0;32m     94\u001b[0m                 \u001b[0mcats\u001b[0m \u001b[1;33m=\u001b[0m \u001b[0mnp\u001b[0m\u001b[1;33m.\u001b[0m\u001b[0marray\u001b[0m\u001b[1;33m(\u001b[0m\u001b[0mself\u001b[0m\u001b[1;33m.\u001b[0m\u001b[0m_categories\u001b[0m\u001b[1;33m[\u001b[0m\u001b[0mi\u001b[0m\u001b[1;33m]\u001b[0m\u001b[1;33m,\u001b[0m \u001b[0mdtype\u001b[0m\u001b[1;33m=\u001b[0m\u001b[0mXi\u001b[0m\u001b[1;33m.\u001b[0m\u001b[0mdtype\u001b[0m\u001b[1;33m)\u001b[0m\u001b[1;33m\u001b[0m\u001b[1;33m\u001b[0m\u001b[0m\n",
      "\u001b[1;32m~\\AppData\\Local\\Continuum\\anaconda3\\lib\\site-packages\\sklearn\\preprocessing\\label.py\u001b[0m in \u001b[0;36m_encode\u001b[1;34m(values, uniques, encode)\u001b[0m\n\u001b[0;32m    105\u001b[0m             \u001b[0mres\u001b[0m \u001b[1;33m=\u001b[0m \u001b[0m_encode_python\u001b[0m\u001b[1;33m(\u001b[0m\u001b[0mvalues\u001b[0m\u001b[1;33m,\u001b[0m \u001b[0muniques\u001b[0m\u001b[1;33m,\u001b[0m \u001b[0mencode\u001b[0m\u001b[1;33m)\u001b[0m\u001b[1;33m\u001b[0m\u001b[1;33m\u001b[0m\u001b[0m\n\u001b[0;32m    106\u001b[0m         \u001b[1;32mexcept\u001b[0m \u001b[0mTypeError\u001b[0m\u001b[1;33m:\u001b[0m\u001b[1;33m\u001b[0m\u001b[1;33m\u001b[0m\u001b[0m\n\u001b[1;32m--> 107\u001b[1;33m             \u001b[1;32mraise\u001b[0m \u001b[0mTypeError\u001b[0m\u001b[1;33m(\u001b[0m\u001b[1;34m\"argument must be a string or number\"\u001b[0m\u001b[1;33m)\u001b[0m\u001b[1;33m\u001b[0m\u001b[1;33m\u001b[0m\u001b[0m\n\u001b[0m\u001b[0;32m    108\u001b[0m         \u001b[1;32mreturn\u001b[0m \u001b[0mres\u001b[0m\u001b[1;33m\u001b[0m\u001b[1;33m\u001b[0m\u001b[0m\n\u001b[0;32m    109\u001b[0m     \u001b[1;32melse\u001b[0m\u001b[1;33m:\u001b[0m\u001b[1;33m\u001b[0m\u001b[1;33m\u001b[0m\u001b[0m\n",
      "\u001b[1;31mTypeError\u001b[0m: argument must be a string or number"
     ]
    }
   ],
   "source": [
    "gestion_Bilan = OneHotEncoder()\n",
    "Bilans = gestion_Bilan.fit_transform(Score[\"Bilan\"].values.reshape(-1, 1))\n",
    "Bilans.shape"
   ]
  },
  {
   "cell_type": "code",
   "execution_count": 449,
   "metadata": {},
   "outputs": [
    {
     "data": {
      "text/plain": [
       "(705, 25)"
      ]
     },
     "execution_count": 449,
     "metadata": {},
     "output_type": "execute_result"
    }
   ],
   "source": [
    "gestion_equipe_REF = OneHotEncoder()\n",
    "Equipe_REF = gestion_equipe_REF.fit_transform(Score[\"equipe_REF\"].values.reshape(-1, 1))\n",
    "Equipe_REF.shape"
   ]
  },
  {
   "cell_type": "code",
   "execution_count": 450,
   "metadata": {},
   "outputs": [
    {
     "data": {
      "text/plain": [
       "(705, 12)"
      ]
     },
     "execution_count": 450,
     "metadata": {},
     "output_type": "execute_result"
    }
   ],
   "source": [
    "gestion_MoisL = OneHotEncoder()\n",
    "Mois = gestion_MoisL.fit_transform(Score[\"MoisL\"].values.reshape(-1, 1))\n",
    "Mois.shape"
   ]
  },
  {
   "cell_type": "code",
   "execution_count": 451,
   "metadata": {},
   "outputs": [
    {
     "ename": "ValueError",
     "evalue": "Input contains NaN",
     "output_type": "error",
     "traceback": [
      "\u001b[1;31m---------------------------------------------------------------------------\u001b[0m",
      "\u001b[1;31mValueError\u001b[0m                                Traceback (most recent call last)",
      "\u001b[1;32m<ipython-input-451-4886ad52cd7a>\u001b[0m in \u001b[0;36m<module>\u001b[1;34m\u001b[0m\n\u001b[0;32m      1\u001b[0m \u001b[0mgestion_competition_bis\u001b[0m \u001b[1;33m=\u001b[0m \u001b[0mOneHotEncoder\u001b[0m\u001b[1;33m(\u001b[0m\u001b[1;33m)\u001b[0m\u001b[1;33m\u001b[0m\u001b[1;33m\u001b[0m\u001b[0m\n\u001b[1;32m----> 2\u001b[1;33m \u001b[0mCompetitions_bis\u001b[0m \u001b[1;33m=\u001b[0m \u001b[0mgestion_competition_bis\u001b[0m\u001b[1;33m.\u001b[0m\u001b[0mfit_transform\u001b[0m\u001b[1;33m(\u001b[0m\u001b[0mScore\u001b[0m\u001b[1;33m[\u001b[0m\u001b[1;34m\"Competition_bis\"\u001b[0m\u001b[1;33m]\u001b[0m\u001b[1;33m.\u001b[0m\u001b[0mvalues\u001b[0m\u001b[1;33m.\u001b[0m\u001b[0mreshape\u001b[0m\u001b[1;33m(\u001b[0m\u001b[1;33m-\u001b[0m\u001b[1;36m1\u001b[0m\u001b[1;33m,\u001b[0m \u001b[1;36m1\u001b[0m\u001b[1;33m)\u001b[0m\u001b[1;33m)\u001b[0m\u001b[1;33m\u001b[0m\u001b[1;33m\u001b[0m\u001b[0m\n\u001b[0m\u001b[0;32m      3\u001b[0m \u001b[0mCompetitions_bis\u001b[0m\u001b[1;33m.\u001b[0m\u001b[0mshape\u001b[0m\u001b[1;33m\u001b[0m\u001b[1;33m\u001b[0m\u001b[0m\n\u001b[0;32m      4\u001b[0m \u001b[1;33m\u001b[0m\u001b[0m\n\u001b[0;32m      5\u001b[0m \u001b[1;33m\u001b[0m\u001b[0m\n",
      "\u001b[1;32m~\\AppData\\Local\\Continuum\\anaconda3\\lib\\site-packages\\sklearn\\preprocessing\\_encoders.py\u001b[0m in \u001b[0;36mfit_transform\u001b[1;34m(self, X, y)\u001b[0m\n\u001b[0;32m    629\u001b[0m                 self._categorical_features, copy=True)\n\u001b[0;32m    630\u001b[0m         \u001b[1;32melse\u001b[0m\u001b[1;33m:\u001b[0m\u001b[1;33m\u001b[0m\u001b[1;33m\u001b[0m\u001b[0m\n\u001b[1;32m--> 631\u001b[1;33m             \u001b[1;32mreturn\u001b[0m \u001b[0mself\u001b[0m\u001b[1;33m.\u001b[0m\u001b[0mfit\u001b[0m\u001b[1;33m(\u001b[0m\u001b[0mX\u001b[0m\u001b[1;33m)\u001b[0m\u001b[1;33m.\u001b[0m\u001b[0mtransform\u001b[0m\u001b[1;33m(\u001b[0m\u001b[0mX\u001b[0m\u001b[1;33m)\u001b[0m\u001b[1;33m\u001b[0m\u001b[1;33m\u001b[0m\u001b[0m\n\u001b[0m\u001b[0;32m    632\u001b[0m \u001b[1;33m\u001b[0m\u001b[0m\n\u001b[0;32m    633\u001b[0m     \u001b[1;32mdef\u001b[0m \u001b[0m_legacy_transform\u001b[0m\u001b[1;33m(\u001b[0m\u001b[0mself\u001b[0m\u001b[1;33m,\u001b[0m \u001b[0mX\u001b[0m\u001b[1;33m)\u001b[0m\u001b[1;33m:\u001b[0m\u001b[1;33m\u001b[0m\u001b[1;33m\u001b[0m\u001b[0m\n",
      "\u001b[1;32m~\\AppData\\Local\\Continuum\\anaconda3\\lib\\site-packages\\sklearn\\preprocessing\\_encoders.py\u001b[0m in \u001b[0;36mfit\u001b[1;34m(self, X, y)\u001b[0m\n\u001b[0;32m    491\u001b[0m             \u001b[1;32mreturn\u001b[0m \u001b[0mself\u001b[0m\u001b[1;33m\u001b[0m\u001b[1;33m\u001b[0m\u001b[0m\n\u001b[0;32m    492\u001b[0m         \u001b[1;32melse\u001b[0m\u001b[1;33m:\u001b[0m\u001b[1;33m\u001b[0m\u001b[1;33m\u001b[0m\u001b[0m\n\u001b[1;32m--> 493\u001b[1;33m             \u001b[0mself\u001b[0m\u001b[1;33m.\u001b[0m\u001b[0m_fit\u001b[0m\u001b[1;33m(\u001b[0m\u001b[0mX\u001b[0m\u001b[1;33m,\u001b[0m \u001b[0mhandle_unknown\u001b[0m\u001b[1;33m=\u001b[0m\u001b[0mself\u001b[0m\u001b[1;33m.\u001b[0m\u001b[0mhandle_unknown\u001b[0m\u001b[1;33m)\u001b[0m\u001b[1;33m\u001b[0m\u001b[1;33m\u001b[0m\u001b[0m\n\u001b[0m\u001b[0;32m    494\u001b[0m             \u001b[0mself\u001b[0m\u001b[1;33m.\u001b[0m\u001b[0mdrop_idx_\u001b[0m \u001b[1;33m=\u001b[0m \u001b[0mself\u001b[0m\u001b[1;33m.\u001b[0m\u001b[0m_compute_drop_idx\u001b[0m\u001b[1;33m(\u001b[0m\u001b[1;33m)\u001b[0m\u001b[1;33m\u001b[0m\u001b[1;33m\u001b[0m\u001b[0m\n\u001b[0;32m    495\u001b[0m             \u001b[1;32mreturn\u001b[0m \u001b[0mself\u001b[0m\u001b[1;33m\u001b[0m\u001b[1;33m\u001b[0m\u001b[0m\n",
      "\u001b[1;32m~\\AppData\\Local\\Continuum\\anaconda3\\lib\\site-packages\\sklearn\\preprocessing\\_encoders.py\u001b[0m in \u001b[0;36m_fit\u001b[1;34m(self, X, handle_unknown)\u001b[0m\n\u001b[0;32m     78\u001b[0m \u001b[1;33m\u001b[0m\u001b[0m\n\u001b[0;32m     79\u001b[0m     \u001b[1;32mdef\u001b[0m \u001b[0m_fit\u001b[0m\u001b[1;33m(\u001b[0m\u001b[0mself\u001b[0m\u001b[1;33m,\u001b[0m \u001b[0mX\u001b[0m\u001b[1;33m,\u001b[0m \u001b[0mhandle_unknown\u001b[0m\u001b[1;33m=\u001b[0m\u001b[1;34m'error'\u001b[0m\u001b[1;33m)\u001b[0m\u001b[1;33m:\u001b[0m\u001b[1;33m\u001b[0m\u001b[1;33m\u001b[0m\u001b[0m\n\u001b[1;32m---> 80\u001b[1;33m         \u001b[0mX_list\u001b[0m\u001b[1;33m,\u001b[0m \u001b[0mn_samples\u001b[0m\u001b[1;33m,\u001b[0m \u001b[0mn_features\u001b[0m \u001b[1;33m=\u001b[0m \u001b[0mself\u001b[0m\u001b[1;33m.\u001b[0m\u001b[0m_check_X\u001b[0m\u001b[1;33m(\u001b[0m\u001b[0mX\u001b[0m\u001b[1;33m)\u001b[0m\u001b[1;33m\u001b[0m\u001b[1;33m\u001b[0m\u001b[0m\n\u001b[0m\u001b[0;32m     81\u001b[0m \u001b[1;33m\u001b[0m\u001b[0m\n\u001b[0;32m     82\u001b[0m         \u001b[1;32mif\u001b[0m \u001b[0mself\u001b[0m\u001b[1;33m.\u001b[0m\u001b[0m_categories\u001b[0m \u001b[1;33m!=\u001b[0m \u001b[1;34m'auto'\u001b[0m\u001b[1;33m:\u001b[0m\u001b[1;33m\u001b[0m\u001b[1;33m\u001b[0m\u001b[0m\n",
      "\u001b[1;32m~\\AppData\\Local\\Continuum\\anaconda3\\lib\\site-packages\\sklearn\\preprocessing\\_encoders.py\u001b[0m in \u001b[0;36m_check_X\u001b[1;34m(self, X)\u001b[0m\n\u001b[0;32m     47\u001b[0m         \u001b[1;32mif\u001b[0m \u001b[1;32mnot\u001b[0m \u001b[1;33m(\u001b[0m\u001b[0mhasattr\u001b[0m\u001b[1;33m(\u001b[0m\u001b[0mX\u001b[0m\u001b[1;33m,\u001b[0m \u001b[1;34m'iloc'\u001b[0m\u001b[1;33m)\u001b[0m \u001b[1;32mand\u001b[0m \u001b[0mgetattr\u001b[0m\u001b[1;33m(\u001b[0m\u001b[0mX\u001b[0m\u001b[1;33m,\u001b[0m \u001b[1;34m'ndim'\u001b[0m\u001b[1;33m,\u001b[0m \u001b[1;36m0\u001b[0m\u001b[1;33m)\u001b[0m \u001b[1;33m==\u001b[0m \u001b[1;36m2\u001b[0m\u001b[1;33m)\u001b[0m\u001b[1;33m:\u001b[0m\u001b[1;33m\u001b[0m\u001b[1;33m\u001b[0m\u001b[0m\n\u001b[0;32m     48\u001b[0m             \u001b[1;31m# if not a dataframe, do normal check_array validation\u001b[0m\u001b[1;33m\u001b[0m\u001b[1;33m\u001b[0m\u001b[1;33m\u001b[0m\u001b[0m\n\u001b[1;32m---> 49\u001b[1;33m             \u001b[0mX_temp\u001b[0m \u001b[1;33m=\u001b[0m \u001b[0mcheck_array\u001b[0m\u001b[1;33m(\u001b[0m\u001b[0mX\u001b[0m\u001b[1;33m,\u001b[0m \u001b[0mdtype\u001b[0m\u001b[1;33m=\u001b[0m\u001b[1;32mNone\u001b[0m\u001b[1;33m)\u001b[0m\u001b[1;33m\u001b[0m\u001b[1;33m\u001b[0m\u001b[0m\n\u001b[0m\u001b[0;32m     50\u001b[0m             if (not hasattr(X, 'dtype')\n\u001b[0;32m     51\u001b[0m                     and np.issubdtype(X_temp.dtype, np.str_)):\n",
      "\u001b[1;32m~\\AppData\\Local\\Continuum\\anaconda3\\lib\\site-packages\\sklearn\\utils\\validation.py\u001b[0m in \u001b[0;36mcheck_array\u001b[1;34m(array, accept_sparse, accept_large_sparse, dtype, order, copy, force_all_finite, ensure_2d, allow_nd, ensure_min_samples, ensure_min_features, warn_on_dtype, estimator)\u001b[0m\n\u001b[0;32m    540\u001b[0m         \u001b[1;32mif\u001b[0m \u001b[0mforce_all_finite\u001b[0m\u001b[1;33m:\u001b[0m\u001b[1;33m\u001b[0m\u001b[1;33m\u001b[0m\u001b[0m\n\u001b[0;32m    541\u001b[0m             _assert_all_finite(array,\n\u001b[1;32m--> 542\u001b[1;33m                                allow_nan=force_all_finite == 'allow-nan')\n\u001b[0m\u001b[0;32m    543\u001b[0m \u001b[1;33m\u001b[0m\u001b[0m\n\u001b[0;32m    544\u001b[0m     \u001b[1;32mif\u001b[0m \u001b[0mensure_min_samples\u001b[0m \u001b[1;33m>\u001b[0m \u001b[1;36m0\u001b[0m\u001b[1;33m:\u001b[0m\u001b[1;33m\u001b[0m\u001b[1;33m\u001b[0m\u001b[0m\n",
      "\u001b[1;32m~\\AppData\\Local\\Continuum\\anaconda3\\lib\\site-packages\\sklearn\\utils\\validation.py\u001b[0m in \u001b[0;36m_assert_all_finite\u001b[1;34m(X, allow_nan)\u001b[0m\n\u001b[0;32m     58\u001b[0m     \u001b[1;32melif\u001b[0m \u001b[0mX\u001b[0m\u001b[1;33m.\u001b[0m\u001b[0mdtype\u001b[0m \u001b[1;33m==\u001b[0m \u001b[0mnp\u001b[0m\u001b[1;33m.\u001b[0m\u001b[0mdtype\u001b[0m\u001b[1;33m(\u001b[0m\u001b[1;34m'object'\u001b[0m\u001b[1;33m)\u001b[0m \u001b[1;32mand\u001b[0m \u001b[1;32mnot\u001b[0m \u001b[0mallow_nan\u001b[0m\u001b[1;33m:\u001b[0m\u001b[1;33m\u001b[0m\u001b[1;33m\u001b[0m\u001b[0m\n\u001b[0;32m     59\u001b[0m         \u001b[1;32mif\u001b[0m \u001b[0m_object_dtype_isnan\u001b[0m\u001b[1;33m(\u001b[0m\u001b[0mX\u001b[0m\u001b[1;33m)\u001b[0m\u001b[1;33m.\u001b[0m\u001b[0many\u001b[0m\u001b[1;33m(\u001b[0m\u001b[1;33m)\u001b[0m\u001b[1;33m:\u001b[0m\u001b[1;33m\u001b[0m\u001b[1;33m\u001b[0m\u001b[0m\n\u001b[1;32m---> 60\u001b[1;33m             \u001b[1;32mraise\u001b[0m \u001b[0mValueError\u001b[0m\u001b[1;33m(\u001b[0m\u001b[1;34m\"Input contains NaN\"\u001b[0m\u001b[1;33m)\u001b[0m\u001b[1;33m\u001b[0m\u001b[1;33m\u001b[0m\u001b[0m\n\u001b[0m\u001b[0;32m     61\u001b[0m \u001b[1;33m\u001b[0m\u001b[0m\n\u001b[0;32m     62\u001b[0m \u001b[1;33m\u001b[0m\u001b[0m\n",
      "\u001b[1;31mValueError\u001b[0m: Input contains NaN"
     ]
    }
   ],
   "source": [
    "gestion_competition_bis = OneHotEncoder()\n",
    "Competitions_bis = gestion_competition_bis.fit_transform(Score[\"Competition_bis\"].values.reshape(-1, 1))\n",
    "Competitions_bis.shape\n",
    "\n",
    "\n",
    "reste = Score[[\"equipe1_goal\", \"equipe2_goal\"]].values\n",
    "reste.shape"
   ]
  },
  {
   "cell_type": "code",
   "execution_count": null,
   "metadata": {},
   "outputs": [],
   "source": [
    "y=Score['Tot_but'].values\n",
    "y.shape"
   ]
  },
  {
   "cell_type": "markdown",
   "metadata": {},
   "source": [
    "## Analyse en ACP"
   ]
  },
  {
   "cell_type": "markdown",
   "metadata": {},
   "source": [
    "Nous faisons une analyse en `ACP` après l'utilisation de `OneHotEncoder`"
   ]
  },
  {
   "cell_type": "code",
   "execution_count": null,
   "metadata": {},
   "outputs": [],
   "source": [
    "from sklearn.decomposition import PCA"
   ]
  },
  {
   "cell_type": "code",
   "execution_count": null,
   "metadata": {},
   "outputs": [],
   "source": [
    "pca = PCA(n_components=2)"
   ]
  },
  {
   "cell_type": "code",
   "execution_count": null,
   "metadata": {},
   "outputs": [],
   "source": [
    "pca.fit(Bilans.toarray())"
   ]
  },
  {
   "cell_type": "code",
   "execution_count": null,
   "metadata": {},
   "outputs": [],
   "source": [
    "print(pca.explained_variance_ratio_) "
   ]
  },
  {
   "cell_type": "code",
   "execution_count": null,
   "metadata": {},
   "outputs": [],
   "source": [
    "print(pca.singular_values_) "
   ]
  },
  {
   "cell_type": "code",
   "execution_count": null,
   "metadata": {},
   "outputs": [],
   "source": [
    "pca.explained_variance_ #variance expliquée"
   ]
  },
  {
   "cell_type": "code",
   "execution_count": null,
   "metadata": {},
   "outputs": [],
   "source": [
    "pca.fit(Competitions_bis.toarray())"
   ]
  },
  {
   "cell_type": "code",
   "execution_count": null,
   "metadata": {},
   "outputs": [],
   "source": [
    "pca.explained_variance_ "
   ]
  },
  {
   "cell_type": "code",
   "execution_count": null,
   "metadata": {},
   "outputs": [],
   "source": [
    "pca.fit(Equipe_REF.toarray())"
   ]
  },
  {
   "cell_type": "code",
   "execution_count": null,
   "metadata": {},
   "outputs": [],
   "source": [
    "pca.explained_variance_ "
   ]
  },
  {
   "cell_type": "code",
   "execution_count": null,
   "metadata": {},
   "outputs": [],
   "source": [
    "pca.fit(Mois.toarray())"
   ]
  },
  {
   "cell_type": "code",
   "execution_count": null,
   "metadata": {},
   "outputs": [],
   "source": [
    "pca.explained_variance_ "
   ]
  },
  {
   "cell_type": "markdown",
   "metadata": {},
   "source": [
    "## Normalisation avec MinMaxScaler"
   ]
  },
  {
   "cell_type": "markdown",
   "metadata": {},
   "source": [
    "Pour normaliser nos données, nous utilisons la MinMaxScaler qui permet de réduire les écarts entre les valeurs dans un intervalle entre [0,1]."
   ]
  },
  {
   "cell_type": "code",
   "execution_count": null,
   "metadata": {},
   "outputs": [],
   "source": [
    "normalisation = MinMaxScaler()\n",
    "X = normalisation.fit_transform(np.concatenate((Bilans.toarray(), Equipe_REF.toarray(), Mois.toarray(), Competitions_bis.toarray(), reste), axis=1))\n",
    "X.shape"
   ]
  },
  {
   "cell_type": "markdown",
   "metadata": {},
   "source": [
    "## Modèle apprentissage"
   ]
  },
  {
   "cell_type": "markdown",
   "metadata": {},
   "source": [
    "Avant d'entamer l'estimation de nos données normalisées, nous allons premièrement les séparer en données d'apprentissage et de test."
   ]
  },
  {
   "cell_type": "code",
   "execution_count": null,
   "metadata": {},
   "outputs": [],
   "source": [
    "X_train, X_test, y_train, y_test = train_test_split(X, y)"
   ]
  },
  {
   "cell_type": "markdown",
   "metadata": {},
   "source": [
    "## SVR"
   ]
  },
  {
   "cell_type": "code",
   "execution_count": null,
   "metadata": {},
   "outputs": [],
   "source": [
    "from sklearn.svm import SVR\n",
    "from sklearn.ensemble import RandomForestRegressor as RFR"
   ]
  },
  {
   "cell_type": "code",
   "execution_count": null,
   "metadata": {},
   "outputs": [],
   "source": [
    "svr = GridSearchCV(estimator=SVR(), \n",
    "                   param_grid=dict(C=[0.01, 0.1, 1, 10, 100],\n",
    "                                   epsilon=[0.001, 0.01, 0.1, 1, 10, 100]\n",
    "                                  ),\n",
    "                   )"
   ]
  },
  {
   "cell_type": "code",
   "execution_count": null,
   "metadata": {},
   "outputs": [],
   "source": [
    "svr.fit(X_train, y_train)"
   ]
  },
  {
   "cell_type": "code",
   "execution_count": null,
   "metadata": {},
   "outputs": [],
   "source": [
    "print(svr.best_params_, svr.best_score_)"
   ]
  },
  {
   "cell_type": "code",
   "execution_count": null,
   "metadata": {},
   "outputs": [],
   "source": [
    "predicteur = svr.best_estimator_"
   ]
  },
  {
   "cell_type": "code",
   "execution_count": null,
   "metadata": {},
   "outputs": [],
   "source": [
    "svr = svr.best_score_\n",
    "svr"
   ]
  },
  {
   "cell_type": "code",
   "execution_count": null,
   "metadata": {},
   "outputs": [],
   "source": [
    "tableau = pd.DataFrame(index=[\"SVR_MMS\",\"Random Forest_MMS\",\"SVR uniform_MMS\",\"Random Forest randint_MMS\",\"SVR_SS\",\n",
    "                              \"Random Forest_SS\",\"SVR uniform_SS\",\"Random Forest randint_SS\",\"KNN\",\"SVM_MMS\",\"SVM_SS\"]\n",
    "                       ,columns = ['Résultat'])\n",
    "tableau.Résultat[0]=round(svr,6)"
   ]
  },
  {
   "cell_type": "code",
   "execution_count": null,
   "metadata": {},
   "outputs": [],
   "source": [
    "tableau"
   ]
  },
  {
   "cell_type": "markdown",
   "metadata": {},
   "source": [
    "## Random Forest"
   ]
  },
  {
   "cell_type": "code",
   "execution_count": null,
   "metadata": {},
   "outputs": [],
   "source": [
    "rfr = GridSearchCV(estimator=RFR(),\n",
    "                   param_grid=dict(n_estimators=list(range(10, 110, 10)))\n",
    "                  )"
   ]
  },
  {
   "cell_type": "code",
   "execution_count": null,
   "metadata": {},
   "outputs": [],
   "source": [
    "rfr.fit(X_train, y_train)"
   ]
  },
  {
   "cell_type": "code",
   "execution_count": null,
   "metadata": {},
   "outputs": [],
   "source": [
    "print(rfr.best_params_, rfr.best_score_)"
   ]
  },
  {
   "cell_type": "code",
   "execution_count": null,
   "metadata": {},
   "outputs": [],
   "source": [
    "predicteur = rfr.best_estimator_"
   ]
  },
  {
   "cell_type": "code",
   "execution_count": null,
   "metadata": {},
   "outputs": [],
   "source": [
    "rfr = rfr.best_score_\n",
    "rfr"
   ]
  },
  {
   "cell_type": "code",
   "execution_count": null,
   "metadata": {},
   "outputs": [],
   "source": [
    "tableau.Résultat[1]=round(rfr,6)\n",
    "tableau"
   ]
  },
  {
   "cell_type": "markdown",
   "metadata": {},
   "source": [
    "## SVR uniform"
   ]
  },
  {
   "cell_type": "code",
   "execution_count": null,
   "metadata": {},
   "outputs": [],
   "source": [
    "from scipy.stats import uniform"
   ]
  },
  {
   "cell_type": "code",
   "execution_count": null,
   "metadata": {},
   "outputs": [],
   "source": [
    "svr_bis = RandomizedSearchCV(estimator=SVR(),\n",
    "                             param_distributions=dict(\n",
    "                                 C=uniform(1, 1000),\n",
    "                                 epsilon=uniform(1, 1000),\n",
    "                             ),\n",
    "                             n_iter=100\n",
    "                            )"
   ]
  },
  {
   "cell_type": "code",
   "execution_count": null,
   "metadata": {},
   "outputs": [],
   "source": [
    "svr_bis.fit(X_train, y_train)"
   ]
  },
  {
   "cell_type": "code",
   "execution_count": null,
   "metadata": {},
   "outputs": [],
   "source": [
    "print(svr_bis.best_params_, svr_bis.best_score_)"
   ]
  },
  {
   "cell_type": "code",
   "execution_count": null,
   "metadata": {},
   "outputs": [],
   "source": [
    "svr_uni = svr_bis.best_score_\n",
    "svr_uni"
   ]
  },
  {
   "cell_type": "code",
   "execution_count": null,
   "metadata": {},
   "outputs": [],
   "source": [
    "tableau.Résultat[2]=round(svr_uni,6)\n",
    "tableau"
   ]
  },
  {
   "cell_type": "markdown",
   "metadata": {},
   "source": [
    "## Random Forest avec randint"
   ]
  },
  {
   "cell_type": "code",
   "execution_count": null,
   "metadata": {},
   "outputs": [],
   "source": [
    "from scipy.stats import randint"
   ]
  },
  {
   "cell_type": "code",
   "execution_count": null,
   "metadata": {},
   "outputs": [],
   "source": [
    "rfr_bis = RandomizedSearchCV(estimator=RFR(),\n",
    "                             param_distributions=dict(n_estimators=randint(10, 100)\n",
    "                             ),\n",
    "                             n_iter=100\n",
    "                            )\n",
    "rfr_bis.fit(X_train, y_train)"
   ]
  },
  {
   "cell_type": "code",
   "execution_count": null,
   "metadata": {},
   "outputs": [],
   "source": [
    "print(rfr_bis.best_params_, rfr_bis.best_score_)"
   ]
  },
  {
   "cell_type": "code",
   "execution_count": null,
   "metadata": {},
   "outputs": [],
   "source": [
    "rfr_choisi = rfr_bis.best_estimator_\n",
    "rfr_choisi.score(X_train, y_train)"
   ]
  },
  {
   "cell_type": "code",
   "execution_count": null,
   "metadata": {},
   "outputs": [],
   "source": [
    "rfr_rand = rfr_bis.best_score_\n",
    "rfr_rand"
   ]
  },
  {
   "cell_type": "code",
   "execution_count": null,
   "metadata": {},
   "outputs": [],
   "source": [
    "tableau.Résultat[3]=round(rfr_rand,6)\n",
    "tableau"
   ]
  },
  {
   "cell_type": "markdown",
   "metadata": {},
   "source": [
    "## KNN"
   ]
  },
  {
   "cell_type": "code",
   "execution_count": null,
   "metadata": {},
   "outputs": [],
   "source": [
    "from sklearn.neighbors import KNeighborsClassifier"
   ]
  },
  {
   "cell_type": "code",
   "execution_count": null,
   "metadata": {},
   "outputs": [],
   "source": [
    "classifier = KNeighborsClassifier(n_neighbors=5)\n",
    "classifier.fit(X_train, y_train)"
   ]
  },
  {
   "cell_type": "code",
   "execution_count": null,
   "metadata": {},
   "outputs": [],
   "source": [
    "knn = classifier.score(X_train, y_train)\n",
    "knn"
   ]
  },
  {
   "cell_type": "code",
   "execution_count": null,
   "metadata": {},
   "outputs": [],
   "source": [
    "tableau.Résultat[8]=round(knn,6)\n",
    "tableau"
   ]
  },
  {
   "cell_type": "markdown",
   "metadata": {},
   "source": [
    "## Standardisation avec StandardScaler"
   ]
  },
  {
   "cell_type": "markdown",
   "metadata": {},
   "source": [
    "Pour standardiser nos données, nous utilisons la méthode de StandardScaler qui permet d'améliorer les modèles prédictifs."
   ]
  },
  {
   "cell_type": "code",
   "execution_count": null,
   "metadata": {},
   "outputs": [],
   "source": [
    "normalisation_bis = StandardScaler()\n",
    "X_bis = normalisation_bis.fit_transform(np.concatenate((Bilans.toarray(), Equipe_REF.toarray(), Mois.toarray(), Competitions_bis.toarray(), reste), axis=1))\n",
    "X_bis.shape"
   ]
  },
  {
   "cell_type": "markdown",
   "metadata": {},
   "source": [
    "## SVR"
   ]
  },
  {
   "cell_type": "code",
   "execution_count": null,
   "metadata": {},
   "outputs": [],
   "source": [
    "X_train_bis, X_test_bis, y_train, y_test = train_test_split(X_bis, y)"
   ]
  },
  {
   "cell_type": "code",
   "execution_count": null,
   "metadata": {},
   "outputs": [],
   "source": [
    "svr_b = GridSearchCV(estimator=SVR(), \n",
    "                   param_grid=dict(C=[0.01, 0.1, 1, 10, 100],\n",
    "                                   epsilon=[0.001, 0.01, 0.1, 1, 10, 100]\n",
    "                                  ),\n",
    "                   )"
   ]
  },
  {
   "cell_type": "code",
   "execution_count": null,
   "metadata": {},
   "outputs": [],
   "source": [
    "svr_b.fit(X_train_bis, y_train)"
   ]
  },
  {
   "cell_type": "code",
   "execution_count": null,
   "metadata": {},
   "outputs": [],
   "source": [
    "print(svr_b.best_params_, svr_b.best_score_)"
   ]
  },
  {
   "cell_type": "code",
   "execution_count": null,
   "metadata": {},
   "outputs": [],
   "source": [
    "predicteur_bis = svr_b.best_estimator_"
   ]
  },
  {
   "cell_type": "code",
   "execution_count": null,
   "metadata": {},
   "outputs": [],
   "source": [
    "svr_SS = svr_b.best_score_\n",
    "svr_SS"
   ]
  },
  {
   "cell_type": "code",
   "execution_count": null,
   "metadata": {},
   "outputs": [],
   "source": [
    "tableau.Résultat[4]=round(svr_SS,6)\n",
    "tableau"
   ]
  },
  {
   "cell_type": "markdown",
   "metadata": {},
   "source": [
    "## Random Forest"
   ]
  },
  {
   "cell_type": "code",
   "execution_count": null,
   "metadata": {},
   "outputs": [],
   "source": [
    "rfr_b = GridSearchCV(estimator=RFR(),\n",
    "                   param_grid=dict(n_estimators=list(range(10, 110, 10)))\n",
    "                  )"
   ]
  },
  {
   "cell_type": "code",
   "execution_count": null,
   "metadata": {},
   "outputs": [],
   "source": [
    "rfr_b.fit(X_train_bis, y_train)"
   ]
  },
  {
   "cell_type": "code",
   "execution_count": null,
   "metadata": {},
   "outputs": [],
   "source": [
    "print(rfr_b.best_params_, rfr_b.best_score_)"
   ]
  },
  {
   "cell_type": "code",
   "execution_count": null,
   "metadata": {},
   "outputs": [],
   "source": [
    "predicteur_b = rfr_b.best_estimator_"
   ]
  },
  {
   "cell_type": "code",
   "execution_count": null,
   "metadata": {},
   "outputs": [],
   "source": [
    "rfr_SS = rfr_b.best_score_\n",
    "rfr_SS"
   ]
  },
  {
   "cell_type": "code",
   "execution_count": null,
   "metadata": {},
   "outputs": [],
   "source": [
    "tableau.Résultat[5]=round(rfr_SS,6)\n",
    "tableau"
   ]
  },
  {
   "cell_type": "markdown",
   "metadata": {},
   "source": [
    "## SVR Uniform"
   ]
  },
  {
   "cell_type": "code",
   "execution_count": null,
   "metadata": {},
   "outputs": [],
   "source": [
    "svr_un = RandomizedSearchCV(estimator=SVR(),\n",
    "                             param_distributions=dict(\n",
    "                                 C=uniform(1, 1000),\n",
    "                                 epsilon=uniform(1, 1000),\n",
    "                             ),\n",
    "                             n_iter=100\n",
    "                            )"
   ]
  },
  {
   "cell_type": "code",
   "execution_count": null,
   "metadata": {},
   "outputs": [],
   "source": [
    "svr_un.fit(X_train_bis, y_train)"
   ]
  },
  {
   "cell_type": "code",
   "execution_count": null,
   "metadata": {},
   "outputs": [],
   "source": [
    "print(svr_un.best_params_, svr_un.best_score_)"
   ]
  },
  {
   "cell_type": "code",
   "execution_count": null,
   "metadata": {},
   "outputs": [],
   "source": [
    "svr_uni_SS = svr_un.best_score_\n",
    "svr_uni_SS"
   ]
  },
  {
   "cell_type": "code",
   "execution_count": null,
   "metadata": {},
   "outputs": [],
   "source": [
    "tableau.Résultat[6]=round(svr_uni_SS,6)\n",
    "tableau"
   ]
  },
  {
   "cell_type": "markdown",
   "metadata": {},
   "source": [
    "## Random Forest randint"
   ]
  },
  {
   "cell_type": "code",
   "execution_count": null,
   "metadata": {},
   "outputs": [],
   "source": [
    "rfr_un = RandomizedSearchCV(estimator=RFR(),\n",
    "                             param_distributions=dict(n_estimators=randint(10, 100)\n",
    "                             ),\n",
    "                             n_iter=100\n",
    "                            )\n",
    "rfr_un.fit(X_train_bis, y_train)"
   ]
  },
  {
   "cell_type": "code",
   "execution_count": null,
   "metadata": {},
   "outputs": [],
   "source": [
    "rfr_choisi = rfr_un.best_estimator_\n",
    "print(rfr_un.best_params_)\n",
    "rfr_rand_SS = rfr_choisi.score(X_train_bis, y_train)\n",
    "rfr_rand_SS "
   ]
  },
  {
   "cell_type": "code",
   "execution_count": null,
   "metadata": {},
   "outputs": [],
   "source": [
    "tableau.Résultat[7]=round(rfr_rand_SS,6)\n",
    "tableau"
   ]
  },
  {
   "cell_type": "markdown",
   "metadata": {},
   "source": [
    "## SVM"
   ]
  },
  {
   "cell_type": "code",
   "execution_count": null,
   "metadata": {},
   "outputs": [],
   "source": [
    "from sklearn.svm import SVC"
   ]
  },
  {
   "cell_type": "code",
   "execution_count": null,
   "metadata": {},
   "outputs": [],
   "source": [
    "gs_svm = GridSearchCV(\n",
    "    SVC(),\n",
    "    {\n",
    "        \"kernel\" : [\"poly\", \"rbf\", \"sigmoid\"],\n",
    "        \"C\" : [2 ** n for n in range(-10, 5)],\n",
    "        \"gamma\" : [\"auto\"]\n",
    "    },\n",
    "    cv=5,\n",
    ")\n",
    "gs_svm.fit(X_train, y_train)\n",
    "print(gs_svm.best_params_)\n",
    "svm = SVC(**gs_svm.best_params_)\n",
    "svm.fit(X_train, y_train)"
   ]
  },
  {
   "cell_type": "code",
   "execution_count": null,
   "metadata": {},
   "outputs": [],
   "source": [
    "svm_MMS = svm.score(X_train, y_train)\n",
    "svm_MMS"
   ]
  },
  {
   "cell_type": "code",
   "execution_count": null,
   "metadata": {},
   "outputs": [],
   "source": [
    "score.svm_MMS = svm.score(X_test, y_test)\n",
    "score.svm_MMS"
   ]
  },
  {
   "cell_type": "code",
   "execution_count": null,
   "metadata": {},
   "outputs": [],
   "source": [
    "tableau.Résultat[9]=round(svm_MMS,6)\n",
    "tableau"
   ]
  },
  {
   "cell_type": "code",
   "execution_count": null,
   "metadata": {},
   "outputs": [],
   "source": [
    "gs_svm = GridSearchCV(\n",
    "    SVC(),\n",
    "    {\n",
    "        \"kernel\" : [\"poly\", \"rbf\", \"sigmoid\"],\n",
    "        \"C\" : [2 ** n for n in range(-10, 5)],\n",
    "        \"gamma\" : [\"auto\"]\n",
    "    },\n",
    "    cv=5,\n",
    ")\n",
    "gs_svm.fit(X_train_bis, y_train)\n",
    "print(gs_svm.best_params_)\n",
    "svm_bis = SVC(**gs_svm.best_params_)\n",
    "svm_bis.fit(X_train_bis, y_train)"
   ]
  },
  {
   "cell_type": "code",
   "execution_count": null,
   "metadata": {},
   "outputs": [],
   "source": [
    "svm_SS = svm_bis.score(X_train_bis, y_train)\n",
    "svm_SS"
   ]
  },
  {
   "cell_type": "code",
   "execution_count": null,
   "metadata": {},
   "outputs": [],
   "source": [
    "score.svm_SS = svm_bis.score(X_test_bis, y_test)\n",
    "score.svm_SS"
   ]
  },
  {
   "cell_type": "code",
   "execution_count": null,
   "metadata": {},
   "outputs": [],
   "source": [
    "tableau.Résultat[10]=round(svm_SS,6)\n",
    "tableau"
   ]
  },
  {
   "cell_type": "markdown",
   "metadata": {},
   "source": [
    "Nous avons réuni les résultats des scores de tous nos modèles dans le tableau ci-dessus. Et nous voyons que les scores obtenus avec les modèles normalisés (MinMaxScaler) sont largement supérieurs aux scores obtenus avec les modèles standardisés (StandardScaler)."
   ]
  },
  {
   "cell_type": "markdown",
   "metadata": {},
   "source": [
    "### On test sur notre meilleur modèle, le SVR_MMS"
   ]
  },
  {
   "cell_type": "code",
   "execution_count": null,
   "metadata": {},
   "outputs": [],
   "source": [
    "score.svr = predicteur.score(X_test,y_test)\n",
    "score.svr"
   ]
  },
  {
   "cell_type": "code",
   "execution_count": null,
   "metadata": {},
   "outputs": [],
   "source": []
  }
 ],
 "metadata": {
  "kernelspec": {
   "display_name": "Python 3",
   "language": "python",
   "name": "python3"
  },
  "language_info": {
   "codemirror_mode": {
    "name": "ipython",
    "version": 3
   },
   "file_extension": ".py",
   "mimetype": "text/x-python",
   "name": "python",
   "nbconvert_exporter": "python",
   "pygments_lexer": "ipython3",
   "version": "3.7.4"
  }
 },
 "nbformat": 4,
 "nbformat_minor": 2
}
